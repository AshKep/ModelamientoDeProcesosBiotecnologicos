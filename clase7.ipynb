{
 "cells": [
  {
   "cell_type": "markdown",
   "metadata": {},
   "source": [
    "Clase 7\n",
    "=====\n",
    "\n",
    "Objetivos:\n",
    "\n",
    "* Uso avanzado de cobrapy\n",
    "* Análisis de soluciones alternativas de FBA\n",
    "\n",
    "\n",
    "Solución tarea optativa, cortesía de Maximiliano Mellado\n",
    "------------\n",
    "\n",
    "Simula y los flujos metabólicos de *E. coli* cuando:\n",
    "    \n",
    "1. El flujo de consumo de glucosa (\"EX_glc__D_e\") es igual a -2 [mmol/gDW/h]\n",
    "2. El limite inferior para el flujo de consumo de oxigeno (\"EX_o2_e\") es igual a -10 [mmol/gDW/h]\n",
    "\n",
    "En cada caso ilustra la distribución de flujos usando ```escher```"
   ]
  },
  {
   "cell_type": "code",
   "execution_count": 1,
   "metadata": {},
   "outputs": [
    {
     "name": "stdout",
     "output_type": "stream",
     "text": [
      "Downloading Map from https://escher.github.io/1-0-0/6/maps/Escherichia%20coli/e_coli_core.Core%20metabolism.json\n",
      "Downloading Model from https://escher.github.io/1-0-0/6/models/Escherichia%20coli/e_coli_core.json\n"
     ]
    },
    {
     "data": {
      "application/vnd.jupyter.widget-view+json": {
       "model_id": "b6bd91ea5ba1430c96751b32eda71f3f",
       "version_major": 2,
       "version_minor": 0
      },
      "text/plain": [
       "Builder(reaction_data={'DM_4crsol_c': 4.148296729398152e-05, 'DM_5drib_c': 4.185501184370257e-05, 'DM_aacald_c…"
      ]
     },
     "metadata": {},
     "output_type": "display_data"
    }
   ],
   "source": [
    "import cobra\n",
    "import cobra.test\n",
    "model = cobra.test.create_test_model(\"ecoli\")\n",
    "model.reactions.get_by_id(\"EX_glc__D_e\").bounds=(-2,-2)\n",
    "solution=model.optimize()\n",
    "model.summary()\n",
    "\n",
    "import escher\n",
    "from escher import Builder\n",
    "# VISUALIZATION OF RESULTS\n",
    "builder = Builder(\n",
    "    map_name='e_coli_core.Core metabolism',\n",
    "    model_name='e_coli_core',\n",
    ")\n",
    "builder.reaction_data = solution.fluxes\n",
    "builder"
   ]
  },
  {
   "cell_type": "code",
   "execution_count": 2,
   "metadata": {},
   "outputs": [
    {
     "name": "stdout",
     "output_type": "stream",
     "text": [
      "Downloading Map from https://escher.github.io/1-0-0/6/maps/Escherichia%20coli/e_coli_core.Core%20metabolism.json\n",
      "Downloading Model from https://escher.github.io/1-0-0/6/models/Escherichia%20coli/e_coli_core.json\n"
     ]
    },
    {
     "data": {
      "application/vnd.jupyter.widget-view+json": {
       "model_id": "87933231fa15411eaca389ead387e4f8",
       "version_major": 2,
       "version_minor": 0
      },
      "text/plain": [
       "Builder(reaction_data={'DM_4crsol_c': 0.00015852414858272547, 'DM_5drib_c': 0.00015994588982562452, 'DM_aacald…"
      ]
     },
     "metadata": {},
     "output_type": "display_data"
    }
   ],
   "source": [
    "import cobra\n",
    "import cobra.test\n",
    "model = cobra.test.create_test_model(\"ecoli\")\n",
    "model.reactions.get_by_id(\"EX_glc__D_e\").bounds=(-10,-10)\n",
    "model.reactions.get_by_id(\"EX_o2_e\").bounds=(-10,-10)\n",
    "solution=model.optimize()\n",
    "model.summary()\n",
    "\n",
    "import escher\n",
    "from escher import Builder\n",
    "# VISUALIZATION OF RESULTS\n",
    "builder = Builder(\n",
    "    map_name='e_coli_core.Core metabolism',\n",
    "    model_name='e_coli_core',\n",
    ")\n",
    "builder.reaction_data = solution.fluxes\n",
    "builder"
   ]
  },
  {
   "cell_type": "markdown",
   "metadata": {},
   "source": [
    "Uso avanzado de cobrapy\n",
    "==========\n",
    "\n",
    "Construcción de una red metabólica\n",
    "----------\n",
    "\n",
    "Ahora construiremos nuestra propia red metaolica usando como ejemplo la red metanogénica que vimos en la clase pasada:\n",
    "\n",
    "<img src=\"https://raw.githubusercontent.com/modcommet/Clases/master/metanogenesis.png\" width=\"400\">\n"
   ]
  },
  {
   "cell_type": "code",
   "execution_count": 3,
   "metadata": {},
   "outputs": [],
   "source": [
    "from cobra import Model, Reaction, Metabolite\n",
    "cobra_model = Model('primordialMetabolism')\n",
    "\n",
    "# Ractions\n",
    "E1 = Reaction('E1')\n",
    "E1.name = 'Exchange reaction of CO2'\n",
    "E1.subsystem = 'Entrance'\n",
    "E1.lower_bound = 0.  \n",
    "E1.upper_bound = 10.  \n",
    "\n",
    "\n",
    "E2 = Reaction('E2')\n",
    "E2.name = 'Exchange reaction of H2'\n",
    "E2.subsystem = 'Entrance'\n",
    "E2.lower_bound = 0.  \n",
    "E2.upper_bound = 1000.  \n",
    "\n",
    "\n",
    "R1 = Reaction('R1')\n",
    "R1.name = 'First reaction'\n",
    "R1.subsystem = 'Internal reaction'\n",
    "R1.lower_bound = 0.  \n",
    "R1.upper_bound = 1000. \n",
    "R2 = Reaction('R2')\n",
    "R2.name = 'Second reaction'\n",
    "R2.subsystem = 'Internal reaction'\n",
    "R2.lower_bound = 0.  \n",
    "R2.upper_bound = 1000.  \n",
    "\n",
    "R3 = Reaction('R3')\n",
    "R3.name = 'Third reaction'\n",
    "R3.subsystem = 'Internal reaction'\n",
    "R3.lower_bound = 0.  \n",
    "R3.upper_bound = 1000. \n",
    "\n",
    "E3 = Reaction('E3')\n",
    "E3.name = 'Exchange reaction of CH4'\n",
    "E3.subsystem = 'Exit'\n",
    "E3.lower_bound = 0.  \n",
    "E3.upper_bound = 1000.  \n",
    "\n",
    "E4 = Reaction('E4')\n",
    "E4.name = 'Exchange reaction of F420'\n",
    "E4.subsystem = 'Exit'\n",
    "E4.lower_bound = 0. \n",
    "E4.upper_bound = 1000. \n",
    "\n",
    "E5 = Reaction('E5')\n",
    "E5.name = 'Exchange reaction of H20'\n",
    "E5.subsystem = 'Exit'\n",
    "E5.lower_bound = 0.  \n",
    "E5.upper_bound = 1000. \n",
    "\n",
    "\n",
    "# Metabolites\n",
    "CO2 = Metabolite('CO2', formula='CO2',name='carbon dioxide',compartment='c')\n",
    "H2 = Metabolite('H2', formula='H2',name='H2',compartment='c')\n",
    "F420 = Metabolite('F420', formula='F420',name='F420',compartment='c')\n",
    "I1 = Metabolite('I1', formula='I1',name='I1',compartment='c')\n",
    "H2O = Metabolite('H2O', formula='H2O',name='H2O',compartment='c')\n",
    "CH4 = Metabolite('CH4', formula='CH4',name='CH4',compartment='c')\n",
    "\n",
    "\n",
    "# Agrega el resto de los metabolitos\n",
    "\n",
    "\n",
    "E1.add_metabolites({CO2: 1.0})\n",
    "E2.add_metabolites({H2: 1.0})\n",
    "E3.add_metabolites({CH4: -1.0})\n",
    "E4.add_metabolites({F420: -2})\n",
    "E5.add_metabolites({H2O: -1})\n",
    "R1.add_metabolites({CO2:-1,H2: -1.0,F420:-1,I1:1})\n",
    "R2.add_metabolites({H2:-1,F420:1,I1:-1,CH4:1})\n",
    "R3.add_metabolites({F420:1,I1:1,CH4:-1,H2O:1})\n",
    "\n",
    "\n",
    "\n",
    "# ya sabes que hacer \n",
    "cobra_model.add_reaction(E1)\n",
    "cobra_model.add_reaction(E2)\n",
    "cobra_model.add_reaction(R1)\n",
    "cobra_model.add_reaction(R2)\n",
    "cobra_model.add_reaction(R3)\n",
    "cobra_model.add_reaction(E3)\n",
    "cobra_model.add_reaction(E4)\n",
    "cobra_model.add_reaction(E5)\n",
    "\n",
    "\n",
    "# lo mismo aquí\n",
    "\n",
    "cobra_model.objective = 'E3'"
   ]
  },
  {
   "cell_type": "code",
   "execution_count": 4,
   "metadata": {},
   "outputs": [
    {
     "name": "stdout",
     "output_type": "stream",
     "text": [
      "Reactions\n",
      "---------\n",
      "E1 :  --> CO2\n",
      "E2 :  --> H2\n",
      "R1 : CO2 + F420 + H2 --> I1\n",
      "R2 : H2 + I1 --> CH4 + F420\n",
      "R3 : CH4 --> F420 + H2O + I1\n",
      "E3 : CH4 --> \n",
      "E4 : 2 F420 --> \n",
      "E5 : H2O --> \n",
      "Metabolites\n",
      "-----------\n",
      "CO2 : CO2\n",
      "H2 : H2\n",
      "F420 : F420\n",
      "I1 : I1\n",
      "CH4 : CH4\n",
      "H2O : H2O\n"
     ]
    }
   ],
   "source": [
    "# Iterate through the the objects in the model\n",
    "print(\"Reactions\")\n",
    "print(\"---------\")\n",
    "for x in cobra_model.reactions:\n",
    "    print(\"%s : %s\" % (x.id, x.reaction))\n",
    "print(\"Metabolites\")\n",
    "print(\"-----------\")\n",
    "for x in cobra_model.metabolites:\n",
    "    print('%s : %s' % (x.id, x.formula))"
   ]
  },
  {
   "cell_type": "code",
   "execution_count": 5,
   "metadata": {},
   "outputs": [
    {
     "name": "stdout",
     "output_type": "stream",
     "text": [
      "Valor función objetivo:  10.0\n",
      "E1 10.0\n",
      "E2 20.0\n",
      "R1 10.0\n",
      "R2 10.0\n",
      "R3 0.0\n",
      "E3 10.0\n",
      "E4 0.0\n",
      "E5 0.0\n"
     ]
    }
   ],
   "source": [
    "solution = cobra_model.optimize()\n",
    "print(\"Valor función objetivo: \", solution.objective_value )\n",
    "for i in cobra_model.reactions:\n",
    "    print( i.id, i.x )"
   ]
  },
  {
   "cell_type": "markdown",
   "metadata": {},
   "source": [
    "Comparemos el resultado con numpy, cortesía de Franz Winklmeier y Maximiliano Mellado\n",
    "-------------------------------"
   ]
  },
  {
   "cell_type": "code",
   "execution_count": 6,
   "metadata": {},
   "outputs": [
    {
     "name": "stdout",
     "output_type": "stream",
     "text": [
      "Optimal value: 10.0\n",
      "E1 10.0\n",
      "E2 528.0\n",
      "E3 10.0\n",
      "E4 508.0\n",
      "E5 508.0\n",
      "R1 10.0\n",
      "R2 518.0\n",
      "R3 508.0\n"
     ]
    }
   ],
   "source": [
    "import numpy as np\n",
    "from scipy.optimize import linprog\n",
    "from numpy.linalg import solve\n",
    "\n",
    "# E1,E2,E3,E4,E5,R1,R2,R3\n",
    "\n",
    "A = np.array([\n",
    "[1,0,0,0,0,-1,0,0],  # CO2\n",
    "[0,1,0,0,0,-1,-1,0], # H2\n",
    "[0,0,0,0,0,1,-1,1],  # I2\n",
    "[0,0,0,-2,0,-1,1,1], # F420\n",
    "[0,0,-1,0,0,0,1,-1], # CH4\n",
    "[0,0,0,0,-1,0,0,1]]) # H2O       \n",
    "\n",
    "b = np.array([0,0,0,0,0,0])\n",
    "c = np.array([0,0,1,0,0,0,0,0])\n",
    "\n",
    "LB=[0,0,0,0,0,0,0,0]       # [0,0,0,0,0,0]\n",
    "UB=[10,1000,1000,1000,1000,1000,1000,1000]     # ya sabes la idea\n",
    "\n",
    "res = linprog(-c, A_eq=A, b_eq=b, bounds=list(zip(LB,UB)))\n",
    "print('Optimal value:', round(-res.fun) )\n",
    "for i,reactionName in enumerate([\"E1\",\"E2\",\"E3\",\"E4\",\"E5\",\"R1\",\"R2\",\"R3\"]):\n",
    "    print(reactionName, round(res.x[i]))\n"
   ]
  },
  {
   "cell_type": "markdown",
   "metadata": {},
   "source": [
    "Ejercicio\n",
    "---------\n",
    "\n",
    "¿Cómo se puede explicar que numpy y cobrapy entregan diferentes soluciónes?"
   ]
  },
  {
   "cell_type": "markdown",
   "metadata": {},
   "source": [
    "Análisis de soluciones alternativas de FBA\n",
    "======\n",
    "\n",
    "Flux variability análisis\n",
    "--------\n",
    "\n",
    "FBA no siempre da una solución única porque multiples configuraciones de flujos pueden alcanzar el mismo valor de la función objetivo. FVA (flux variability análisis) encuentra el rango de cada flujo metabólico en el valor óptimo."
   ]
  },
  {
   "cell_type": "code",
   "execution_count": 7,
   "metadata": {},
   "outputs": [
    {
     "data": {
      "text/html": [
       "<div>\n",
       "<style scoped>\n",
       "    .dataframe tbody tr th:only-of-type {\n",
       "        vertical-align: middle;\n",
       "    }\n",
       "\n",
       "    .dataframe tbody tr th {\n",
       "        vertical-align: top;\n",
       "    }\n",
       "\n",
       "    .dataframe thead th {\n",
       "        text-align: right;\n",
       "    }\n",
       "</style>\n",
       "<table border=\"1\" class=\"dataframe\">\n",
       "  <thead>\n",
       "    <tr style=\"text-align: right;\">\n",
       "      <th></th>\n",
       "      <th>minimum</th>\n",
       "      <th>maximum</th>\n",
       "    </tr>\n",
       "  </thead>\n",
       "  <tbody>\n",
       "    <tr>\n",
       "      <th>E1</th>\n",
       "      <td>10.0</td>\n",
       "      <td>10.0</td>\n",
       "    </tr>\n",
       "    <tr>\n",
       "      <th>E2</th>\n",
       "      <td>20.0</td>\n",
       "      <td>1000.0</td>\n",
       "    </tr>\n",
       "    <tr>\n",
       "      <th>R1</th>\n",
       "      <td>10.0</td>\n",
       "      <td>10.0</td>\n",
       "    </tr>\n",
       "    <tr>\n",
       "      <th>R2</th>\n",
       "      <td>10.0</td>\n",
       "      <td>990.0</td>\n",
       "    </tr>\n",
       "    <tr>\n",
       "      <th>R3</th>\n",
       "      <td>0.0</td>\n",
       "      <td>980.0</td>\n",
       "    </tr>\n",
       "    <tr>\n",
       "      <th>E3</th>\n",
       "      <td>10.0</td>\n",
       "      <td>10.0</td>\n",
       "    </tr>\n",
       "    <tr>\n",
       "      <th>E4</th>\n",
       "      <td>0.0</td>\n",
       "      <td>980.0</td>\n",
       "    </tr>\n",
       "    <tr>\n",
       "      <th>E5</th>\n",
       "      <td>0.0</td>\n",
       "      <td>980.0</td>\n",
       "    </tr>\n",
       "  </tbody>\n",
       "</table>\n",
       "</div>"
      ],
      "text/plain": [
       "    minimum  maximum\n",
       "E1     10.0     10.0\n",
       "E2     20.0   1000.0\n",
       "R1     10.0     10.0\n",
       "R2     10.0    990.0\n",
       "R3      0.0    980.0\n",
       "E3     10.0     10.0\n",
       "E4      0.0    980.0\n",
       "E5      0.0    980.0"
      ]
     },
     "execution_count": 7,
     "metadata": {},
     "output_type": "execute_result"
    }
   ],
   "source": [
    "from cobra.flux_analysis import flux_variability_analysis\n",
    "flux_variability_analysis(cobra_model, cobra_model.reactions[:8])"
   ]
  },
  {
   "cell_type": "markdown",
   "metadata": {},
   "source": [
    "Flux sampling\n",
    "-------\n",
    "\n",
    "Otra alternativa para explorar el espacio de soluciones alternativas de FBA es tomar muestrasa aleatorias. Esto se llama Flux sampling."
   ]
  },
  {
   "cell_type": "code",
   "execution_count": 8,
   "metadata": {},
   "outputs": [
    {
     "data": {
      "text/html": [
       "<div>\n",
       "<style scoped>\n",
       "    .dataframe tbody tr th:only-of-type {\n",
       "        vertical-align: middle;\n",
       "    }\n",
       "\n",
       "    .dataframe tbody tr th {\n",
       "        vertical-align: top;\n",
       "    }\n",
       "\n",
       "    .dataframe thead th {\n",
       "        text-align: right;\n",
       "    }\n",
       "</style>\n",
       "<table border=\"1\" class=\"dataframe\">\n",
       "  <thead>\n",
       "    <tr style=\"text-align: right;\">\n",
       "      <th></th>\n",
       "      <th>E1</th>\n",
       "      <th>E2</th>\n",
       "      <th>R1</th>\n",
       "      <th>R2</th>\n",
       "      <th>R3</th>\n",
       "      <th>E3</th>\n",
       "      <th>E4</th>\n",
       "      <th>E5</th>\n",
       "    </tr>\n",
       "  </thead>\n",
       "  <tbody>\n",
       "    <tr>\n",
       "      <th>0</th>\n",
       "      <td>5.578858</td>\n",
       "      <td>703.469075</td>\n",
       "      <td>5.578858</td>\n",
       "      <td>697.890217</td>\n",
       "      <td>692.311360</td>\n",
       "      <td>5.578858</td>\n",
       "      <td>692.311360</td>\n",
       "      <td>692.311360</td>\n",
       "    </tr>\n",
       "    <tr>\n",
       "      <th>1</th>\n",
       "      <td>3.154628</td>\n",
       "      <td>617.856314</td>\n",
       "      <td>3.154628</td>\n",
       "      <td>614.701686</td>\n",
       "      <td>611.547059</td>\n",
       "      <td>3.154628</td>\n",
       "      <td>611.547059</td>\n",
       "      <td>611.547059</td>\n",
       "    </tr>\n",
       "    <tr>\n",
       "      <th>2</th>\n",
       "      <td>1.309241</td>\n",
       "      <td>58.808974</td>\n",
       "      <td>1.309241</td>\n",
       "      <td>57.499733</td>\n",
       "      <td>56.190492</td>\n",
       "      <td>1.309241</td>\n",
       "      <td>56.190492</td>\n",
       "      <td>56.190492</td>\n",
       "    </tr>\n",
       "    <tr>\n",
       "      <th>3</th>\n",
       "      <td>7.577828</td>\n",
       "      <td>813.808531</td>\n",
       "      <td>7.577828</td>\n",
       "      <td>806.230703</td>\n",
       "      <td>798.652875</td>\n",
       "      <td>7.577828</td>\n",
       "      <td>798.652875</td>\n",
       "      <td>798.652875</td>\n",
       "    </tr>\n",
       "    <tr>\n",
       "      <th>4</th>\n",
       "      <td>7.539349</td>\n",
       "      <td>370.522077</td>\n",
       "      <td>7.539349</td>\n",
       "      <td>362.982728</td>\n",
       "      <td>355.443378</td>\n",
       "      <td>7.539349</td>\n",
       "      <td>355.443378</td>\n",
       "      <td>355.443378</td>\n",
       "    </tr>\n",
       "    <tr>\n",
       "      <th>5</th>\n",
       "      <td>6.888347</td>\n",
       "      <td>91.041822</td>\n",
       "      <td>6.888347</td>\n",
       "      <td>84.153475</td>\n",
       "      <td>77.265128</td>\n",
       "      <td>6.888347</td>\n",
       "      <td>77.265128</td>\n",
       "      <td>77.265128</td>\n",
       "    </tr>\n",
       "  </tbody>\n",
       "</table>\n",
       "</div>"
      ],
      "text/plain": [
       "         E1          E2        R1          R2          R3        E3  \\\n",
       "0  5.578858  703.469075  5.578858  697.890217  692.311360  5.578858   \n",
       "1  3.154628  617.856314  3.154628  614.701686  611.547059  3.154628   \n",
       "2  1.309241   58.808974  1.309241   57.499733   56.190492  1.309241   \n",
       "3  7.577828  813.808531  7.577828  806.230703  798.652875  7.577828   \n",
       "4  7.539349  370.522077  7.539349  362.982728  355.443378  7.539349   \n",
       "5  6.888347   91.041822  6.888347   84.153475   77.265128  6.888347   \n",
       "\n",
       "           E4          E5  \n",
       "0  692.311360  692.311360  \n",
       "1  611.547059  611.547059  \n",
       "2   56.190492   56.190492  \n",
       "3  798.652875  798.652875  \n",
       "4  355.443378  355.443378  \n",
       "5   77.265128   77.265128  "
      ]
     },
     "execution_count": 8,
     "metadata": {},
     "output_type": "execute_result"
    }
   ],
   "source": [
    "from cobra.test import create_test_model\n",
    "from cobra.sampling import sample\n",
    "s = sample(cobra_model, 100) # tomaremos 100 muestras aleatorias\n",
    "s.head(6)"
   ]
  },
  {
   "cell_type": "code",
   "execution_count": 9,
   "metadata": {},
   "outputs": [
    {
     "data": {
      "text/plain": [
       "0     5.578858\n",
       "1     3.154628\n",
       "2     1.309241\n",
       "3     7.577828\n",
       "4     7.539349\n",
       "        ...   \n",
       "95    3.574605\n",
       "96    4.835266\n",
       "97    4.213900\n",
       "98    3.012304\n",
       "99    5.611660\n",
       "Name: E1, Length: 100, dtype: float64"
      ]
     },
     "execution_count": 9,
     "metadata": {},
     "output_type": "execute_result"
    }
   ],
   "source": [
    "#Si quiero ver solo los valores de la reacción E1\n",
    "s[\"E1\"]"
   ]
  },
  {
   "cell_type": "code",
   "execution_count": 10,
   "metadata": {},
   "outputs": [
    {
     "data": {
      "text/plain": [
       "5.214572156821046"
      ]
     },
     "execution_count": 10,
     "metadata": {},
     "output_type": "execute_result"
    }
   ],
   "source": [
    "#Si quiero ver el valor promedio de la reacción E1 a lo largo de las 100 muestras\n",
    "s[\"E1\"].mean()"
   ]
  },
  {
   "cell_type": "markdown",
   "metadata": {},
   "source": [
    "Ejercicios\n",
    "==========\n",
    "\n",
    "1. Computa FBA de la red de *Escherichia coli*\n",
    "2. Realiza FVA para la solución anterior.\n",
    "3. Computa 100 muestras aleatorias del espacio de soluciones alternativas de 1."
   ]
  },
  {
   "cell_type": "code",
   "execution_count": null,
   "metadata": {},
   "outputs": [],
   "source": []
  }
 ],
 "metadata": {
  "kernelspec": {
   "display_name": "Python 3",
   "language": "python",
   "name": "python3"
  },
  "language_info": {
   "codemirror_mode": {
    "name": "ipython",
    "version": 3
   },
   "file_extension": ".py",
   "mimetype": "text/x-python",
   "name": "python",
   "nbconvert_exporter": "python",
   "pygments_lexer": "ipython3",
   "version": "3.7.6"
  }
 },
 "nbformat": 4,
 "nbformat_minor": 4
}

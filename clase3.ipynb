{
 "cells": [
  {
   "cell_type": "markdown",
   "metadata": {},
   "source": [
    "Objetivos:\n",
    "======\n",
    "* Utilizar Jupyter Notebooks\n",
    "* Introducción a metodos númericos con `numpy`"
   ]
  },
  {
   "cell_type": "markdown",
   "metadata": {},
   "source": [
    "Operaciones básicas\n",
    "-------------------"
   ]
  },
  {
   "cell_type": "code",
   "execution_count": null,
   "metadata": {},
   "outputs": [],
   "source": [
    "# Aritmética\n",
    "x = 1\n",
    "y = 2\n",
    "x + y"
   ]
  },
  {
   "cell_type": "code",
   "execution_count": null,
   "metadata": {},
   "outputs": [],
   "source": [
    "# Evaluaciones lógicas\n",
    "x = 3\n",
    "y = 6\n",
    "x == y"
   ]
  },
  {
   "cell_type": "code",
   "execution_count": null,
   "metadata": {},
   "outputs": [],
   "source": [
    "range(5) # crea la lista [0,1,2,3,4]"
   ]
  },
  {
   "cell_type": "code",
   "execution_count": null,
   "metadata": {},
   "outputs": [],
   "source": [
    "# Loops\n",
    "for i in range(10):\n",
    "    print(i)"
   ]
  },
  {
   "cell_type": "markdown",
   "metadata": {},
   "source": [
    "Definición de funciones\n",
    "-----------------------"
   ]
  },
  {
   "cell_type": "code",
   "execution_count": null,
   "metadata": {},
   "outputs": [],
   "source": [
    "def sumaNumeros(x,y):\n",
    "    z = x + y\n",
    "    return(z)"
   ]
  },
  {
   "cell_type": "code",
   "execution_count": null,
   "metadata": {},
   "outputs": [],
   "source": [
    "def add_numbers(x,y,z=None):\n",
    "    if (z==None):\n",
    "        return( x+y )\n",
    "    else:\n",
    "        return( x+y+z )\n",
    "\n",
    "print(add_numbers(1, 4))\n",
    "print(add_numbers(1, 2, 3))"
   ]
  },
  {
   "cell_type": "markdown",
   "metadata": {},
   "source": [
    "Uso de librerias\n",
    "----------------"
   ]
  },
  {
   "cell_type": "code",
   "execution_count": null,
   "metadata": {},
   "outputs": [],
   "source": [
    "import numpy as np #importa la librería numpy\n",
    "x = np.linspace(-5,5,100) # crea un intervalo entre -5 y 5 con 100 elementos\n",
    "y = np.sin(x) # calcula la función seno para cada elemento de x\n",
    "y"
   ]
  },
  {
   "cell_type": "code",
   "execution_count": null,
   "metadata": {},
   "outputs": [],
   "source": [
    "from matplotlib import pyplot as plt # importa la libreria para hacer gráficos\n",
    "plt.plot(x,y)"
   ]
  },
  {
   "cell_type": "markdown",
   "metadata": {},
   "source": [
    "Resolución de sistemas de ecuaciones lineales: numpy\n",
    "--------------------------------------------------------\n",
    "\n",
    "El siguiente sistema de equaciones lineales\n",
    "\n",
    "\\begin{equation}\n",
    "10a + 2b = 20 \\\\ \n",
    "3a + 7b = 19\n",
    "\\end{equation}\n",
    "\n",
    "Se puede escribir como \n",
    "\n",
    "\\begin{equation}\n",
    "\\left[ \\begin{array}{ccc} 10 & 2 \\\\ 3 & 7 \\\\ \\end{array} \\right]\\left[ \\begin{array}{c} a \\\\ b \\\\ \\end{array} \\right] = \\left[ \\begin{array}{c} 20 \\\\ 19 \\\\ \\end{array} \\right]\n",
    "\\end{equation}\n",
    "\n",
    "O de manera más compacta:\n",
    "\n",
    "\\begin{equation} \n",
    "AX = B\n",
    "\\end{equation}\n",
    "\n",
    "En donde:\n",
    "\n",
    "\\begin{align}\n",
    "A & = \\left[ \\begin{array}{ccc} 10 & 2 \\\\ 3 & 7 \\\\ \\end{array} \\right] \\\\\n",
    "X &= \\left[ \\begin{array}{c} a \\\\ b \\\\ \\end{array} \\right] \\\\\n",
    "B &= \\left[ \\begin{array}{c} 20 \\\\ 19 \\\\ \\end{array} \\right] \\\\\n",
    "\\end{align}\n",
    "\n",
    "Usando algebra lineal podemos encontrar $X$:\n",
    "\n",
    "\\begin{align}\n",
    "AX &= B \\\\\n",
    "A^{-1} AX &= A^{-1}B \\\\\n",
    "X &= A^{-1}B\n",
    "\\end{align}\n",
    "\n",
    "Para resolver este sistema en Python utilizaremos la libreria [numpy](http://www.numpy.org/)"
   ]
  },
  {
   "cell_type": "code",
   "execution_count": null,
   "metadata": {},
   "outputs": [],
   "source": [
    "# Carga la libreria numpy y la renombra np (simplemente para ser más conciso)\n",
    "import numpy as np \n",
    "\n",
    "# Definiendo matrices\n",
    "A = np.matrix([[10,2], [3,7]])\n",
    "B = np.matrix([[20], [19]])\n",
    "\n",
    "# Calculando la inversa de A\n",
    "\n",
    "A_inverse = np.linalg.inv(A)\n",
    "\n",
    "# Resolviendo para X\n",
    "X = A_inverse * B # esta es la libreria de al\n",
    "print X\n"
   ]
  },
  {
   "cell_type": "markdown",
   "metadata": {},
   "source": [
    "Ejercicios\n",
    "-----------\n",
    "\n",
    "Resuelve los siguientes sistemas de ecuaciones, definiendo una función que tome como input $A$ y $B$, y entregue como resultado $X$.\n",
    "\n",
    "1. Sistema de 3x3\n",
    "\n",
    "    \\begin{align}\n",
    "    10a + 2b + 3c &= 20 \\\\ \n",
    "    3a + 7b + 5c &= 19 \\\\\n",
    "    3a + 7b + 7c &= 15\n",
    "    \\end{align}\n",
    "\n",
    "2. Sistema de 4x4\n",
    "\n",
    "    \\begin{align}\n",
    "    10a + 2b + 3c + 3d &= 20 \\\\ \n",
    "    3a + 7b + 5c + 1d &= 19 \\\\\n",
    "    3a + 7b + 7c + 10d &= 15 \\\\\n",
    "    4a + 9b + 8c + 9d &= 18 \n",
    "    \\end{align}\n",
    "\n",
    "3. Define una función que tome como argumentos A,y B y entregué como resultado X. Usa esta función para resolver los problemas 1 y 2."
   ]
  },
  {
   "cell_type": "code",
   "execution_count": null,
   "metadata": {},
   "outputs": [],
   "source": []
  },
  {
   "cell_type": "code",
   "execution_count": null,
   "metadata": {},
   "outputs": [],
   "source": []
  }
 ],
 "metadata": {
  "kernelspec": {
   "display_name": "Python 2",
   "language": "python",
   "name": "python2"
  },
  "language_info": {
   "codemirror_mode": {
    "name": "ipython",
    "version": 3
   },
   "file_extension": ".py",
   "mimetype": "text/x-python",
   "name": "python",
   "nbconvert_exporter": "python",
   "pygments_lexer": "ipython3",
   "version": "3.7.6"
  }
 },
 "nbformat": 4,
 "nbformat_minor": 2
}

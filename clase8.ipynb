{
 "cells": [
  {
   "cell_type": "markdown",
   "metadata": {},
   "source": [
    "Clase 8\n",
    "======\n",
    "\n",
    "Anuncios\n",
    "--------------\n",
    "\n",
    "Por favor llenen la siguiente [encuesta](https://docs.google.com/forms/d/e/1FAIpQLSd0DyU1DYb2y2KBshDuzOxrAf-f459NRsu9_lIwgyo83FmD5w/viewform?usp=sf_link).\n",
    "\n",
    "\n",
    "Introducción\n",
    "------------------\n",
    "\n",
    "\n",
    "En la clase pasado vimos como rutas alternativas y ciclos resultan en más de una configuración de flujos siendo compatible con los flujos de entrada y salida de un red metabólica:\n",
    "\n",
    "<img src=\"https://raw.githubusercontent.com/mrivas/ModelamientoDeProcesosBiotecnologicos/master/clase8_alternativasCiclos.png\" width=\"400\">\n",
    "\n",
    "Hoy veremos dos herramientas para abordar esta ambiguedad en la solución de FBA:\n",
    "\n",
    "* Flux variability análisis\n",
    "* Flux sampling\n",
    "\n",
    "Flux variability análisis\n",
    "--------\n",
    "\n",
    "FVA (flux variability análisis) encuentra el rango de cada flujo metabólico en el valor óptimo.\n",
    "\n",
    "<img src=\"https://raw.githubusercontent.com/modcommet/Clases/master/metanogenesis.png\" width=\"400\">"
   ]
  },
  {
   "cell_type": "code",
   "execution_count": null,
   "metadata": {},
   "outputs": [],
   "source": [
    "from cobra import Model, Reaction, Metabolite\n",
    "cobra_model = Model('primordialMetabolism')\n",
    "# Ractions\n",
    "E1 = Reaction('E1')\n",
    "E1.name = \"Exchange reaction of CO2\"\n",
    "E1.subsystem = 'Entrance'\n",
    "E1.lower_bound = 0.  \n",
    "E1.upper_bound = 10.  \n",
    "E2 = Reaction('E2')\n",
    "E2.name = 'Exchange reaction of H2'\n",
    "E2.subsystem = 'Entrance'\n",
    "E2.lower_bound = 0.  \n",
    "E2.upper_bound = 1000.  \n",
    "R1 = Reaction('R1')\n",
    "R1.name = 'First reaction'\n",
    "R1.subsystem = 'Internal reaction'\n",
    "R1.lower_bound = 0.  \n",
    "R1.upper_bound = 1000. \n",
    "R2 = Reaction('R2')\n",
    "R2.name = 'Second reaction'\n",
    "R2.subsystem = 'Internal reaction'\n",
    "R2.lower_bound = 0.  \n",
    "R2.upper_bound = 1000.  \n",
    "R3 = Reaction('R3')\n",
    "R3.name = 'Third reaction'\n",
    "R3.subsystem = 'Internal reaction'\n",
    "R3.lower_bound = 0.  \n",
    "R3.upper_bound = 1000. \n",
    "E3 = Reaction('E3')\n",
    "E3.name = 'Exchange reaction of CH4'\n",
    "E3.subsystem = 'Exit'\n",
    "E3.lower_bound = 0.  \n",
    "E3.upper_bound = 1000.  \n",
    "E4 = Reaction('E4')\n",
    "E4.name = 'Exchange reaction of F420'\n",
    "E4.subsystem = 'Exit'\n",
    "E4.lower_bound = 0. \n",
    "E4.upper_bound = 1000. \n",
    "E5 = Reaction('E5')\n",
    "E5.name = 'Exchange reaction of H20'\n",
    "E5.subsystem = 'Exit'\n",
    "E5.lower_bound = 0.  \n",
    "E5.upper_bound = 1000. \n",
    "# Metabolites\n",
    "CO2 = Metabolite('CO2', formula='CO2',name='carbon dioxide',compartment='c')\n",
    "H2 = Metabolite('H2', formula='H2',name='H2',compartment='c')\n",
    "F420 = Metabolite('F420', formula='F420',name='F420',compartment='c')\n",
    "I1 = Metabolite('I1', formula='I1',name='I1',compartment='c')\n",
    "H2O = Metabolite('H2O', formula='H2O',name='H2O',compartment='c')\n",
    "CH4 = Metabolite('CH4', formula='CH4',name='CH4',compartment='c')\n",
    "# Adding metabolites to reactions\n",
    "E1.add_metabolites({CO2: 1.0})\n",
    "E2.add_metabolites({H2: 1.0})\n",
    "E3.add_metabolites({CH4: -1.0})\n",
    "E4.add_metabolites({F420: -2})\n",
    "E5.add_metabolites({H2O: -1})\n",
    "R1.add_metabolites({CO2:-1,H2: -1.0,F420:-1,I1:1})\n",
    "R2.add_metabolites({H2:-1,F420:1,I1:-1,CH4:1})\n",
    "R3.add_metabolites({F420:1,I1:1,CH4:-1,H2O:1})\n",
    "# Adding reactions to model \n",
    "cobra_model.add_reaction(E1)\n",
    "cobra_model.add_reaction(E2)\n",
    "cobra_model.add_reaction(R1)\n",
    "cobra_model.add_reaction(R2)\n",
    "cobra_model.add_reaction(R3)\n",
    "cobra_model.add_reaction(E3)\n",
    "cobra_model.add_reaction(E4)\n",
    "cobra_model.add_reaction(E5)\n",
    "# Define objective function\n",
    "cobra_model.objective = 'E3'\n",
    "\n",
    "cobra_model.objective.direction = \"max\"\n",
    "\n",
    "# Agregar una restriccion en donde E3 y E1 tengan valores fijos (10)\n",
    "\n",
    "solution = cobra_model.optimize()"
   ]
  },
  {
   "cell_type": "code",
   "execution_count": null,
   "metadata": {},
   "outputs": [],
   "source": [
    "from cobra.flux_analysis import flux_variability_analysis\n",
    "#flux_variability_analysis(cobra_model, cobra_model.reactions[:8])"
   ]
  },
  {
   "cell_type": "markdown",
   "metadata": {},
   "source": [
    "Flux sampling\n",
    "-------\n",
    "\n",
    "Otra alternativa para explorar el espacio de soluciones alternativas de FBA es tomar muestrasa aleatorias. Esto se llama Flux sampling."
   ]
  },
  {
   "cell_type": "code",
   "execution_count": null,
   "metadata": {},
   "outputs": [],
   "source": [
    "#from cobra.test import create_test_model\n",
    "from cobra.sampling import sample\n",
    "#s = sample(cobra_model, 100) # tomaremos 100 muestras aleatorias\n",
    "#s.head(6)"
   ]
  },
  {
   "cell_type": "code",
   "execution_count": null,
   "metadata": {},
   "outputs": [],
   "source": [
    "s.head(10)"
   ]
  },
  {
   "cell_type": "code",
   "execution_count": null,
   "metadata": {},
   "outputs": [],
   "source": [
    "#Si quiero ver solo los valores de la reacción E1\n",
    "s[\"R1\"]"
   ]
  },
  {
   "cell_type": "code",
   "execution_count": null,
   "metadata": {},
   "outputs": [],
   "source": [
    "#Si quiero ver el valor promedio de la reacción E1 a lo largo de las 100 muestras\n",
    "s[\"E1\"].hist() # hace el grafico del histograma."
   ]
  },
  {
   "cell_type": "markdown",
   "metadata": {},
   "source": [
    "Ejercicios\n",
    "==========\n",
    "\n",
    "1. Computa FBA de la red de *Escherichia coli* usando los valores por defecto de consumo de glucos y oxigeno.\n",
    "2. Realiza FVA para la solución anterior.\n",
    "3. Computa 100 muestras aleatorias del espacio de soluciones alternativas del punto 1, y luego calcula el valor promedio de todas sus reacciones.\n",
    "\n",
    "Tarea optativa\n",
    "--------------\n",
    "\n",
    "4. Grafica los resultados usando ```escher```. En este caso, para cada flujo se debe calcular el valor promedio de las 100 muestras."
   ]
  },
  {
   "cell_type": "code",
   "execution_count": null,
   "metadata": {},
   "outputs": [],
   "source": [
    "# 1. Calcular los flujos de E coli usando FBA\n",
    "import cobra.test\n",
    "model = cobra.test.create_test_model(\"ecoli\")"
   ]
  },
  {
   "cell_type": "code",
   "execution_count": null,
   "metadata": {},
   "outputs": [],
   "source": [
    "solutionEcoli = model.optimize()"
   ]
  },
  {
   "cell_type": "code",
   "execution_count": null,
   "metadata": {},
   "outputs": [],
   "source": [
    "model.summary()"
   ]
  },
  {
   "cell_type": "code",
   "execution_count": null,
   "metadata": {},
   "outputs": [],
   "source": [
    "# 2. Calcular los rangos inferior y superior de los flujos de E. coli\n",
    "FVA_model= flux_variability_analysis(model, model.reactions[:8]) "
   ]
  },
  {
   "cell_type": "code",
   "execution_count": null,
   "metadata": {},
   "outputs": [],
   "source": [
    "FVA_model"
   ]
  },
  {
   "cell_type": "code",
   "execution_count": null,
   "metadata": {},
   "outputs": [],
   "source": [
    "reactionDeInteres = model.reactions.get_by_id(\"EX_glc__D_e\")\n",
    "FVA_model= flux_variability_analysis(model, reactionDeInteres)"
   ]
  },
  {
   "cell_type": "code",
   "execution_count": null,
   "metadata": {},
   "outputs": [],
   "source": [
    "FVA_model"
   ]
  },
  {
   "cell_type": "code",
   "execution_count": 15,
   "metadata": {},
   "outputs": [],
   "source": [
    "# 3. Flux sampling\n",
    "from cobra.sampling import sample \n",
    "s=sample(model,10) \n"
   ]
  },
  {
   "cell_type": "code",
   "execution_count": 20,
   "metadata": {},
   "outputs": [
    {
     "data": {
      "text/plain": [
       "DM_4crsol_c    1.127901e-06\n",
       "DM_5drib_c     1.487452e-03\n",
       "DM_aacald_c   -4.893362e-14\n",
       "DM_amob_c      1.011571e-08\n",
       "DM_mththf_c    9.092359e-03\n",
       "                   ...     \n",
       "ZN2abcpp       3.106326e-01\n",
       "ZN2t3pp        2.664248e-01\n",
       "ZN2tpp         5.076306e-01\n",
       "ZNabcpp        6.942844e-02\n",
       "Zn2tex         1.665472e-06\n",
       "Length: 2583, dtype: float64"
      ]
     },
     "execution_count": 20,
     "metadata": {},
     "output_type": "execute_result"
    }
   ],
   "source": [
    "# Para obtener el promedio de todas las reacciones\n",
    "s.mean(axis=0)\n"
   ]
  },
  {
   "cell_type": "code",
   "execution_count": 21,
   "metadata": {},
   "outputs": [
    {
     "data": {
      "text/plain": [
       "1.1279013126271982e-06"
      ]
     },
     "execution_count": 21,
     "metadata": {},
     "output_type": "execute_result"
    }
   ],
   "source": [
    "promedios=s.mean(axis=0)\n",
    "promedios[\"DM_4crsol_c\"]"
   ]
  },
  {
   "cell_type": "code",
   "execution_count": null,
   "metadata": {},
   "outputs": [],
   "source": []
  }
 ],
 "metadata": {
  "kernelspec": {
   "display_name": "Python 3",
   "language": "python",
   "name": "python3"
  },
  "language_info": {
   "codemirror_mode": {
    "name": "ipython",
    "version": 3
   },
   "file_extension": ".py",
   "mimetype": "text/x-python",
   "name": "python",
   "nbconvert_exporter": "python",
   "pygments_lexer": "ipython3",
   "version": "3.7.6"
  }
 },
 "nbformat": 4,
 "nbformat_minor": 4
}

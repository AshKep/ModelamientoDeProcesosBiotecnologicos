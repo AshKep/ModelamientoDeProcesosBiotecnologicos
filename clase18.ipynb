{
 "cells": [
  {
   "cell_type": "code",
   "execution_count": null,
   "metadata": {},
   "outputs": [],
   "source": [
    "# Codigo de https://www.codeproject.com/script/Membership/View.aspx?mid=11967322\n",
    "# Simple Numerical Laplace Equation Solution using Finite Difference Method\n",
    "import numpy as np\n",
    "import matplotlib.pyplot as plt\n",
    "\n",
    "# Set maximum iteration\n",
    "maxIter = 500\n",
    "\n",
    "# Set Dimension and delta\n",
    "lenX = lenY = 20 #we set it rectangular\n",
    "delta = 1\n",
    "\n",
    "# Boundary condition\n",
    "Ttop = 100\n",
    "Tbottom = 0\n",
    "Tleft = 0\n",
    "Tright = 0\n",
    "\n",
    "# Initial guess of interior grid\n",
    "Tguess = 30\n",
    "\n",
    "# Set colour interpolation and colour map\n",
    "colorinterpolation = 50\n",
    "colourMap = plt.cm.jet #you can try: colourMap = plt.cm.coolwarm\n",
    "\n",
    "# Set meshgrid\n",
    "X, Y = np.meshgrid(np.arange(0, lenX), np.arange(0, lenY))\n",
    "\n",
    "# Set array size and set the interior value with Tguess\n",
    "T = np.empty((lenX, lenY))\n",
    "T.fill(Tguess)\n",
    "\n",
    "# Set Boundary condition\n",
    "T[(lenY-1), :] = Ttop\n",
    "T[0, :] = Tbottom\n",
    "T[:, (lenX-1)] = Tright\n",
    "T[:, 0] = Tleft\n",
    "\n",
    "# Iteration (We assume that the iteration is convergence in maxIter = 500)\n",
    "print(\"Please wait for a moment\")\n",
    "for iteration in range(0, maxIter):\n",
    "    for i in range(1, lenX-1, delta):\n",
    "        for j in range(1, lenY-1, delta):\n",
    "            T[i, j] = 0.25 * (T[i+1][j] + T[i-1][j] + T[i][j+1] + T[i][j-1])\n",
    "\n",
    "print(\"Iteration finished\")\n",
    "\n",
    "# Configure the contour\n",
    "plt.title(\"Contour of Temperature\")\n",
    "plt.contourf(X, Y, T, colorinterpolation, cmap=colourMap)\n",
    "\n",
    "# Set Colorbar\n",
    "plt.colorbar()\n",
    "\n",
    "# Show the result in the plot window\n",
    "plt.show()\n"
   ]
  },
  {
   "cell_type": "code",
   "execution_count": null,
   "metadata": {},
   "outputs": [],
   "source": []
  },
  {
   "cell_type": "code",
   "execution_count": null,
   "metadata": {},
   "outputs": [],
   "source": []
  },
  {
   "cell_type": "code",
   "execution_count": null,
   "metadata": {},
   "outputs": [],
   "source": []
  }
 ],
 "metadata": {
  "kernelspec": {
   "display_name": "Python 3",
   "language": "python",
   "name": "python3"
  },
  "language_info": {
   "codemirror_mode": {
    "name": "ipython",
    "version": 3
   },
   "file_extension": ".py",
   "mimetype": "text/x-python",
   "name": "python",
   "nbconvert_exporter": "python",
   "pygments_lexer": "ipython3",
   "version": "3.7.6"
  }
 },
 "nbformat": 4,
 "nbformat_minor": 4
}

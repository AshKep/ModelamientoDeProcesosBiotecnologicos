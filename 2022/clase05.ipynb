{
 "cells": [
  {
   "cell_type": "markdown",
   "metadata": {
    "slideshow": {
     "slide_type": "slide"
    }
   },
   "source": [
    "# Clase 5\n",
    "\n",
    "\n",
    "Pasar lista\n",
    "\n",
    "Contenidos:\n",
    "\n",
    "* Uso avanzado de cobrapy: Construcción de redes metabólicas\n",
    "* Análisis de soluciones alternativas de FBA`"
   ]
  },
  {
   "cell_type": "markdown",
   "metadata": {
    "slideshow": {
     "slide_type": "slide"
    }
   },
   "source": [
    "# Uso avanzado de cobrapy: Construcción de una red metabólica\n",
    "\n",
    "\n",
    "Ahora construiremos nuestra propia red metabólica usando como ejemplo la red metanogénica que vimos en una clase anterior:\n",
    "\n",
    "<img src=\"https://raw.githubusercontent.com/modcommet/Clases/master/metanogenesis.png\" width=\"400\">\n"
   ]
  },
  {
   "cell_type": "code",
   "execution_count": 44,
   "metadata": {},
   "outputs": [],
   "source": [
    "from cobra import Model, Reaction, Metabolite\n",
    "cobra_model = Model('primordialMetabolism')\n",
    "\n",
    "# Ractions\n",
    "E1 = Reaction('E1')\n",
    "E1.name = \"Exchange reaction of CO2\"\n",
    "E1.subsystem = 'Entrance'\n",
    "E1.lower_bound = 0.  \n",
    "E1.upper_bound = 10.  \n",
    "\n",
    "E2 = Reaction('E2')\n",
    "E2.name = 'Exchange reaction of H2'\n",
    "E2.subsystem = 'Entrance'\n",
    "E2.lower_bound = 0.  \n",
    "E2.upper_bound = 10.  \n",
    "\n",
    "R1 = Reaction('R1')\n",
    "R1.name = 'First reaction'\n",
    "R1.subsystem = 'Internal reaction'\n",
    "R1.lower_bound = 0.  \n",
    "R1.upper_bound = 1000. \n",
    "\n",
    "R2 = Reaction('R2')\n",
    "R2.name = 'Second reaction'\n",
    "R2.subsystem = 'Internal reaction'\n",
    "R2.lower_bound = 0.  \n",
    "R2.upper_bound = 1000. \n",
    "\n",
    "R3 = Reaction('R3')\n",
    "R3.name = 'Third reaction'\n",
    "R3.subsystem = 'Internal reaction'\n",
    "R3.lower_bound = 0.  \n",
    "R3.upper_bound = 1000. \n",
    "\n",
    "E3 = Reaction('E3')\n",
    "E3.name = 'Exchange reaction of F420'\n",
    "E3.subsystem = 'Exit'\n",
    "E3.lower_bound = 0.  \n",
    "E3.upper_bound = 1000. \n",
    "\n",
    "E4 = Reaction('E4')\n",
    "E4.name = 'Exchange reaction of CH4'\n",
    "E4.subsystem = 'Exit'\n",
    "E4.lower_bound = 0.  \n",
    "E4.upper_bound = 1000.\n",
    "\n",
    "E5 = Reaction('E5')\n",
    "E5.name = 'Exchange reaction of H2O'\n",
    "E5.subsystem = 'Exit'\n",
    "E5.lower_bound = 0.  \n",
    "E5.upper_bound = 1000.\n",
    "\n",
    "# Metabolites\n",
    "CO2 = Metabolite('CO2', formula='CO2',name='carbon dioxide',compartment='c')\n",
    "H2 = Metabolite('H2', formula='H2',name='hydrogen',compartment='c')\n",
    "F420 = Metabolite('F420',name='energy molecule',compartment='c')\n",
    "CH4 = Metabolite('CH4',formula=\"CH4\",name='methane',compartment='c')\n",
    "I1 = Metabolite('I1',name='internal metabolite',compartment='c')\n",
    "H2O = Metabolite('H2O',formula=\"H2O\",name='water',compartment='c')\n",
    "\n",
    "# Agrega metabolitos a las reacciones\n",
    "E1.add_metabolites({CO2: 1.0})\n",
    "E2.add_metabolites({H2: 2.0})\n",
    "E3.add_metabolites({CH4: -1.0})\n",
    "E4.add_metabolites({F420: -2})\n",
    "E5.add_metabolites({H2O: -2})\n",
    "R1.add_metabolites({F420: -1,CO2:-1,H2:-2,I1:1})\n",
    "R2.add_metabolites({I1: -1,H2:-2,CH4:1,F420:1})\n",
    "R3.add_metabolites({CH4: -1,I1:1,H2O:2,F420:1})\n",
    "\n",
    "# Agrega reacciones al modelo\n",
    "cobra_model.add_reaction(E1)\n",
    "cobra_model.add_reaction(E2)\n",
    "cobra_model.add_reaction(R1)\n",
    "cobra_model.add_reaction(R2)\n",
    "cobra_model.add_reaction(R3)\n",
    "cobra_model.add_reaction(E3)\n",
    "cobra_model.add_reaction(E4)\n",
    "cobra_model.add_reaction(E5)\n",
    "\n",
    "# Define la función objetivo\n",
    "cobra_model.objective = 'E4'"
   ]
  },
  {
   "cell_type": "code",
   "execution_count": 40,
   "metadata": {
    "slideshow": {
     "slide_type": "slide"
    }
   },
   "outputs": [
    {
     "name": "stdout",
     "output_type": "stream",
     "text": [
      "Reactions\n",
      "---------\n",
      "E1 Exchange reaction of CO2  --> CO2\n",
      "E2 Exchange reaction of H2  --> 2.0 H2\n",
      "R1 First reaction CO2 + F420 + 2 H2 --> I1\n",
      "R2 Second reaction 2 H2 + I1 --> CH4 + F420\n",
      "R3 Third reaction CH4 --> F420 + 2 H2O + I1\n",
      "E3 Exchange reaction of F420 CH4 --> \n",
      "E4 Exchange reaction of CH4 2 F420 --> \n",
      "E5 Exchange reaction of H2O 2 H2O --> \n",
      "\n",
      "Metabolites\n",
      "-----------\n",
      "CO2 CO2\n",
      "H2 H2\n",
      "F420 None\n",
      "I1 None\n",
      "CH4 CH4\n",
      "H2O H2O\n"
     ]
    }
   ],
   "source": [
    "# Iterate through the the objects in the model\n",
    "print(\"Reactions\")\n",
    "print(\"---------\")\n",
    "for x in cobra_model.reactions: # tiene 8 reacciones\n",
    "    print(x.id, x.name, x.reaction)\n",
    "print(\"\\nMetabolites\")\n",
    "print(\"-----------\")\n",
    "for x in cobra_model.metabolites: # tiene 6 metabolites\n",
    "    print(x.id, x.formula)"
   ]
  },
  {
   "cell_type": "markdown",
   "metadata": {
    "slideshow": {
     "slide_type": "slide"
    }
   },
   "source": [
    "## Ejercicio\n",
    "\n",
    "Completa el modelo metabólico"
   ]
  },
  {
   "cell_type": "code",
   "execution_count": 45,
   "metadata": {
    "slideshow": {
     "slide_type": "slide"
    }
   },
   "outputs": [
    {
     "name": "stdout",
     "output_type": "stream",
     "text": [
      "Valor función objetivo:  10.0\n",
      "E1 0.0\n",
      "E2 10.0\n",
      "R1 0.0\n",
      "R2 10.0\n",
      "R3 10.0\n",
      "E3 0.0\n",
      "E4 10.0\n",
      "E5 10.0\n"
     ]
    }
   ],
   "source": [
    "solution = cobra_model.optimize()\n",
    "print(\"Valor función objetivo: \", solution.objective_value )\n",
    "for i in cobra_model.reactions: # tiene 8 reacciones\n",
    "    print( i.id, i.x )"
   ]
  },
  {
   "cell_type": "markdown",
   "metadata": {
    "slideshow": {
     "slide_type": "slide"
    }
   },
   "source": [
    "# Análisis de soluciones alternativas de FBA\n",
    "\n",
    "\n",
    "FBA no siempre da una solución única porque multiples configuraciones de flujos pueden alcanzar el mismo valor de la función objetivo. "
   ]
  },
  {
   "cell_type": "markdown",
   "metadata": {
    "slideshow": {
     "slide_type": "fragment"
    }
   },
   "source": [
    "Incluso una red simple (la de abajo es la más simple que puedo imaginar) adolece de suficientes ecuaciones para determinar la configuración de flujos metabólicos.\n",
    "\n",
    "<img src=\"https://raw.githubusercontent.com/mrivas/ModelamientoDeProcesosBiotecnologicos/master/clase5_solucionesAlternativas.png\" width=\"500\">"
   ]
  },
  {
   "cell_type": "markdown",
   "metadata": {
    "slideshow": {
     "slide_type": "slide"
    }
   },
   "source": [
    "## Flux variability analysis\n",
    "\n",
    "FVA (flux variability analysis) encuentra el rango de cada flujo metabólico en el valor óptimo."
   ]
  },
  {
   "cell_type": "code",
   "execution_count": 6,
   "metadata": {
    "slideshow": {
     "slide_type": "fragment"
    }
   },
   "outputs": [
    {
     "data": {
      "text/html": [
       "<div>\n",
       "<style scoped>\n",
       "    .dataframe tbody tr th:only-of-type {\n",
       "        vertical-align: middle;\n",
       "    }\n",
       "\n",
       "    .dataframe tbody tr th {\n",
       "        vertical-align: top;\n",
       "    }\n",
       "\n",
       "    .dataframe thead th {\n",
       "        text-align: right;\n",
       "    }\n",
       "</style>\n",
       "<table border=\"1\" class=\"dataframe\">\n",
       "  <thead>\n",
       "    <tr style=\"text-align: right;\">\n",
       "      <th></th>\n",
       "      <th>minimum</th>\n",
       "      <th>maximum</th>\n",
       "    </tr>\n",
       "  </thead>\n",
       "  <tbody>\n",
       "    <tr>\n",
       "      <th>E1</th>\n",
       "      <td>10.0</td>\n",
       "      <td>10.0</td>\n",
       "    </tr>\n",
       "    <tr>\n",
       "      <th>E2</th>\n",
       "      <td>20.0</td>\n",
       "      <td>1000.0</td>\n",
       "    </tr>\n",
       "    <tr>\n",
       "      <th>R1</th>\n",
       "      <td>10.0</td>\n",
       "      <td>10.0</td>\n",
       "    </tr>\n",
       "    <tr>\n",
       "      <th>R2</th>\n",
       "      <td>10.0</td>\n",
       "      <td>990.0</td>\n",
       "    </tr>\n",
       "    <tr>\n",
       "      <th>R3</th>\n",
       "      <td>0.0</td>\n",
       "      <td>980.0</td>\n",
       "    </tr>\n",
       "    <tr>\n",
       "      <th>E3</th>\n",
       "      <td>10.0</td>\n",
       "      <td>10.0</td>\n",
       "    </tr>\n",
       "    <tr>\n",
       "      <th>E4</th>\n",
       "      <td>0.0</td>\n",
       "      <td>980.0</td>\n",
       "    </tr>\n",
       "    <tr>\n",
       "      <th>E5</th>\n",
       "      <td>0.0</td>\n",
       "      <td>980.0</td>\n",
       "    </tr>\n",
       "  </tbody>\n",
       "</table>\n",
       "</div>"
      ],
      "text/plain": [
       "    minimum  maximum\n",
       "E1     10.0     10.0\n",
       "E2     20.0   1000.0\n",
       "R1     10.0     10.0\n",
       "R2     10.0    990.0\n",
       "R3      0.0    980.0\n",
       "E3     10.0     10.0\n",
       "E4      0.0    980.0\n",
       "E5      0.0    980.0"
      ]
     },
     "execution_count": 6,
     "metadata": {},
     "output_type": "execute_result"
    }
   ],
   "source": [
    "from cobra.flux_analysis import flux_variability_analysis\n",
    "flux_variability_analysis(cobra_model, cobra_model.reactions[:8])"
   ]
  },
  {
   "cell_type": "markdown",
   "metadata": {
    "slideshow": {
     "slide_type": "slide"
    }
   },
   "source": [
    "Flux sampling\n",
    "-------\n",
    "\n",
    "Otra alternativa para explorar el espacio de soluciones alternativas de FBA es tomar muestrasa aleatorias. Esto se llama Flux sampling."
   ]
  },
  {
   "cell_type": "code",
   "execution_count": 7,
   "metadata": {
    "slideshow": {
     "slide_type": "fragment"
    }
   },
   "outputs": [
    {
     "data": {
      "text/html": [
       "<div>\n",
       "<style scoped>\n",
       "    .dataframe tbody tr th:only-of-type {\n",
       "        vertical-align: middle;\n",
       "    }\n",
       "\n",
       "    .dataframe tbody tr th {\n",
       "        vertical-align: top;\n",
       "    }\n",
       "\n",
       "    .dataframe thead th {\n",
       "        text-align: right;\n",
       "    }\n",
       "</style>\n",
       "<table border=\"1\" class=\"dataframe\">\n",
       "  <thead>\n",
       "    <tr style=\"text-align: right;\">\n",
       "      <th></th>\n",
       "      <th>E1</th>\n",
       "      <th>E2</th>\n",
       "      <th>R1</th>\n",
       "      <th>R2</th>\n",
       "      <th>R3</th>\n",
       "      <th>E3</th>\n",
       "      <th>E4</th>\n",
       "      <th>E5</th>\n",
       "    </tr>\n",
       "  </thead>\n",
       "  <tbody>\n",
       "    <tr>\n",
       "      <th>0</th>\n",
       "      <td>5.491459</td>\n",
       "      <td>238.316857</td>\n",
       "      <td>5.491459</td>\n",
       "      <td>232.825398</td>\n",
       "      <td>227.333939</td>\n",
       "      <td>5.491459</td>\n",
       "      <td>227.333939</td>\n",
       "      <td>227.333939</td>\n",
       "    </tr>\n",
       "    <tr>\n",
       "      <th>1</th>\n",
       "      <td>1.291402</td>\n",
       "      <td>907.521142</td>\n",
       "      <td>1.291402</td>\n",
       "      <td>906.229741</td>\n",
       "      <td>904.938339</td>\n",
       "      <td>1.291402</td>\n",
       "      <td>904.938339</td>\n",
       "      <td>904.938339</td>\n",
       "    </tr>\n",
       "    <tr>\n",
       "      <th>2</th>\n",
       "      <td>9.631295</td>\n",
       "      <td>417.632144</td>\n",
       "      <td>9.631295</td>\n",
       "      <td>408.000849</td>\n",
       "      <td>398.369554</td>\n",
       "      <td>9.631295</td>\n",
       "      <td>398.369554</td>\n",
       "      <td>398.369554</td>\n",
       "    </tr>\n",
       "    <tr>\n",
       "      <th>3</th>\n",
       "      <td>0.225973</td>\n",
       "      <td>487.296352</td>\n",
       "      <td>0.225973</td>\n",
       "      <td>487.070380</td>\n",
       "      <td>486.844407</td>\n",
       "      <td>0.225973</td>\n",
       "      <td>486.844407</td>\n",
       "      <td>486.844407</td>\n",
       "    </tr>\n",
       "    <tr>\n",
       "      <th>4</th>\n",
       "      <td>5.874790</td>\n",
       "      <td>874.888987</td>\n",
       "      <td>5.874790</td>\n",
       "      <td>869.014196</td>\n",
       "      <td>863.139406</td>\n",
       "      <td>5.874790</td>\n",
       "      <td>863.139406</td>\n",
       "      <td>863.139406</td>\n",
       "    </tr>\n",
       "    <tr>\n",
       "      <th>5</th>\n",
       "      <td>7.404036</td>\n",
       "      <td>708.990939</td>\n",
       "      <td>7.404036</td>\n",
       "      <td>701.586903</td>\n",
       "      <td>694.182867</td>\n",
       "      <td>7.404036</td>\n",
       "      <td>694.182867</td>\n",
       "      <td>694.182867</td>\n",
       "    </tr>\n",
       "  </tbody>\n",
       "</table>\n",
       "</div>"
      ],
      "text/plain": [
       "         E1          E2        R1          R2          R3        E3  \\\n",
       "0  5.491459  238.316857  5.491459  232.825398  227.333939  5.491459   \n",
       "1  1.291402  907.521142  1.291402  906.229741  904.938339  1.291402   \n",
       "2  9.631295  417.632144  9.631295  408.000849  398.369554  9.631295   \n",
       "3  0.225973  487.296352  0.225973  487.070380  486.844407  0.225973   \n",
       "4  5.874790  874.888987  5.874790  869.014196  863.139406  5.874790   \n",
       "5  7.404036  708.990939  7.404036  701.586903  694.182867  7.404036   \n",
       "\n",
       "           E4          E5  \n",
       "0  227.333939  227.333939  \n",
       "1  904.938339  904.938339  \n",
       "2  398.369554  398.369554  \n",
       "3  486.844407  486.844407  \n",
       "4  863.139406  863.139406  \n",
       "5  694.182867  694.182867  "
      ]
     },
     "execution_count": 7,
     "metadata": {},
     "output_type": "execute_result"
    }
   ],
   "source": [
    "from cobra.test import create_test_model\n",
    "from cobra.sampling import sample\n",
    "s = sample(cobra_model, 100) # tomaremos 100 muestras aleatorias\n",
    "s.head(6)"
   ]
  },
  {
   "cell_type": "code",
   "execution_count": 8,
   "metadata": {
    "slideshow": {
     "slide_type": "slide"
    }
   },
   "outputs": [
    {
     "data": {
      "text/plain": [
       "0     5.491459\n",
       "1     1.291402\n",
       "2     9.631295\n",
       "3     0.225973\n",
       "4     5.874790\n",
       "        ...   \n",
       "95    2.123267\n",
       "96    5.902578\n",
       "97    0.820557\n",
       "98    7.380974\n",
       "99    4.708547\n",
       "Name: E1, Length: 100, dtype: float64"
      ]
     },
     "execution_count": 8,
     "metadata": {},
     "output_type": "execute_result"
    }
   ],
   "source": [
    "#Si quiero ver solo los valores de la reacción E1\n",
    "s[\"E1\"]"
   ]
  },
  {
   "cell_type": "code",
   "execution_count": 9,
   "metadata": {
    "slideshow": {
     "slide_type": "slide"
    }
   },
   "outputs": [
    {
     "data": {
      "text/plain": [
       "5.277903950191351"
      ]
     },
     "execution_count": 9,
     "metadata": {},
     "output_type": "execute_result"
    }
   ],
   "source": [
    "#Si quiero ver el valor promedio de la reacción E1 a lo largo de las 100 muestras\n",
    "s[\"E1\"].mean()"
   ]
  },
  {
   "cell_type": "markdown",
   "metadata": {
    "slideshow": {
     "slide_type": "slide"
    }
   },
   "source": [
    "Ejercicios\n",
    "==========\n",
    "\n",
    "1. Computa FBA de la red de *Escherichia coli*\n",
    "2. Realiza FVA para la solución anterior.\n",
    "3. Computa 100 muestras aleatorias del espacio de soluciones alternativas de 1. Y luego calcula el valor promedio de la reacción PYK."
   ]
  },
  {
   "cell_type": "code",
   "execution_count": null,
   "metadata": {},
   "outputs": [],
   "source": []
  }
 ],
 "metadata": {
  "celltoolbar": "Slideshow",
  "kernelspec": {
   "display_name": "Python 3",
   "language": "python",
   "name": "python3"
  },
  "language_info": {
   "codemirror_mode": {
    "name": "ipython",
    "version": 3
   },
   "file_extension": ".py",
   "mimetype": "text/x-python",
   "name": "python",
   "nbconvert_exporter": "python",
   "pygments_lexer": "ipython3",
   "version": "3.8.10"
  }
 },
 "nbformat": 4,
 "nbformat_minor": 4
}

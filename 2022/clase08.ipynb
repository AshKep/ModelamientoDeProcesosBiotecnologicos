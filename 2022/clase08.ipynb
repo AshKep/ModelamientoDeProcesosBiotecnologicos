{
 "cells": [
  {
   "cell_type": "markdown",
   "metadata": {
    "slideshow": {
     "slide_type": "slide"
    }
   },
   "source": [
    "# Clase 8\n",
    "\n",
    "Objetivos\n",
    "\n",
    "* Repaso de sistemas de ecuaciones diferenciales ordinarias (ODE)\n",
    "* Resolución de ODEs con scipy.\n",
    "\n",
    "Hoy, el foco de la clase es la resolución de ecuaciones diferenciales (ODEs por su acrónimo en inglés) ordinarias en Python. \n",
    "\n",
    "Nota: Los siguientes dos ejemplos fueron extraidos desde [aquí](https://apmonitor.com/pdc/index.php/Main/SolveDifferentialEquations)."
   ]
  },
  {
   "cell_type": "markdown",
   "metadata": {
    "slideshow": {
     "slide_type": "slide"
    }
   },
   "source": [
    "Ejercicio 1\n",
    "-------------\n",
    "\n",
    "Resolver el siguiente ODE:\n",
    "\n",
    "$\\frac{dy}{dt}=-ky$\n",
    "\n",
    "con condición inicial $y_0=5$, y un valor de $k=0.3$."
   ]
  },
  {
   "cell_type": "code",
   "execution_count": 1,
   "metadata": {
    "slideshow": {
     "slide_type": "slide"
    }
   },
   "outputs": [
    {
     "data": {
      "image/png": "[encoded data removed]",
      "text/plain": [
       "<Figure size 432x288 with 1 Axes>"
      ]
     },
     "metadata": {
      "needs_background": "light"
     },
     "output_type": "display_data"
    }
   ],
   "source": [
    "import numpy as np\n",
    "from scipy.integrate import odeint\n",
    "import matplotlib.pyplot as plt\n",
    "\n",
    "# function that returns dy/dt\n",
    "def model(y,t):\n",
    "    k = 0.3\n",
    "    dydt = -k * y\n",
    "    return dydt\n",
    "\n",
    "# initial condition\n",
    "y0 = 2.5\n",
    "\n",
    "# time points\n",
    "t = np.linspace(0,40)\n",
    "\n",
    "# solve ODE\n",
    "y = odeint(model,y0,t)\n",
    "\n",
    "# plot results\n",
    "plt.plot(t,y)\n",
    "plt.xlabel('time')\n",
    "plt.ylabel('y')\n",
    "plt.show()"
   ]
  },
  {
   "cell_type": "markdown",
   "metadata": {
    "slideshow": {
     "slide_type": "slide"
    }
   },
   "source": [
    "Ejercicio 2\n",
    "-------------\n",
    "\n",
    "Resolver el siguiente ODE anterior pero esta vez para valores de $k$ igual a 0.1, 0.2, y 0.5."
   ]
  },
  {
   "cell_type": "code",
   "execution_count": null,
   "metadata": {
    "slideshow": {
     "slide_type": "slide"
    }
   },
   "outputs": [],
   "source": []
  },
  {
   "cell_type": "markdown",
   "metadata": {
    "slideshow": {
     "slide_type": "slide"
    }
   },
   "source": [
    "Ejercicio 3: Reactor por lotes\n",
    "-----------\n",
    "\n",
    "Veamos como resolver un sistema ODE. Por ejemplo, consideremos el siguiente sistema describiendo las concentraciones de biomasa ($X$) y glucosa ($G$):\n",
    "    \n",
    "<img src=\"https://raw.githubusercontent.com/mrivas/ModelamientoDeProcesosBiotecnologicos/master/clase13_reactor.png\" alt=\"Drawing\" style=\"width: 500px;\"/>    \n",
    "    "
   ]
  },
  {
   "cell_type": "markdown",
   "metadata": {
    "slideshow": {
     "slide_type": "slide"
    }
   },
   "source": [
    "    \n",
    "El cual puede ser descrito matematicamente como:\n",
    "\n",
    "\\begin{align}\n",
    "\\frac{dX}{dt} &= \\mu X\\\\\n",
    "\\frac{dG}{dt} &= -q_G \\mu X\n",
    "\\end{align}\n",
    "\n",
    "En donde $q_G$ es el consumo especifico de glucosa. Ten en cuenta que la velocidad de crecimiento especifica ($\\mu$) varia con la concentración de glucosa con una cinética tipo Monod:\n",
    "\n",
    "$\\mu = \\mu_M \\frac{G}{K+G}$\n",
    "\n",
    "\n",
    "Resuelve este sistema ODE considerando 70 horas de operación del reactor y con $\\mu_M=0.15$, $K=0.1$, $q_G=1.1$, y condiciones iniciales $X_0=0.1$ y $G_0=20$.\n",
    "   "
   ]
  },
  {
   "cell_type": "code",
   "execution_count": null,
   "metadata": {
    "slideshow": {
     "slide_type": "slide"
    }
   },
   "outputs": [],
   "source": []
  },
  {
   "cell_type": "markdown",
   "metadata": {
    "collapsed": true,
    "slideshow": {
     "slide_type": "slide"
    }
   },
   "source": [
    "Ejercicio 4: Aplicación en cinética enzimática\n",
    "-------------\n",
    "\n",
    "Veamos como resolver un sistema de ecuaciónes diferenciales ordinarias a través de un problema concreto: cinética enzimática\n",
    "\n",
    "Una reacción enzimática puede ser modelada como:\n",
    "\n",
    "<img src=\"https://raw.githubusercontent.com/modcommet/Clases/master/clase10_enzyme_reaction.png\" alt=\"Drawing\" style=\"width: 400px;\"/>"
   ]
  },
  {
   "cell_type": "markdown",
   "metadata": {
    "collapsed": true,
    "slideshow": {
     "slide_type": "slide"
    }
   },
   "source": [
    "De manera mas formal: un substrato $S$ reacciona con una enzima $E$ para formar un complejo $ES$ que es convertido en producto $P$ y en enzima disociada:\n",
    "\n",
    "\\begin{equation}\n",
    "E+S \\overset{k_1}{ \\underset{k_{2}}{\\rightleftharpoons}} ES \\stackrel{k_3}{\\rightarrow} E + P\n",
    "\\end{equation}\n",
    "\n",
    "La primera reacción es reversible con constantes cinéticas de unión y desunion del complejo ES iguales a $k_1$ y $k_2$, respectivamente. La segunda reacción es irreversible con constante cinética $k_3$. "
   ]
  },
  {
   "cell_type": "markdown",
   "metadata": {
    "collapsed": true,
    "slideshow": {
     "slide_type": "slide"
    }
   },
   "source": [
    "El comportamiento cinético de estas reacciones es descrito por el siguiente set de ecuaciones diferenciales:\n",
    "\n",
    "\\begin{align}\n",
    "\\frac{d[S]}{dt} &= -k_1[E][S]+ k_2[ES]\\\\\n",
    "\\frac{d[E]}{dt} &= -k_1[E][S]+ (k_{2}+k_3)[ES]\\\\\n",
    "\\frac{d[ES]}{dt} &= k_1[E][S]- (k_{2}+k_3)[ES]\\\\\n",
    "\\frac{d[P]}{dt} &= k_3[ES]\\\\\n",
    "\\end{align}\n",
    "\n",
    "Con condiciones iniciales:\n",
    "\n",
    "$[S]_{t=0}=1,[E]_{t=0}=2,[ES]_{t=0}=0,[P]_{t=0}=0$\n",
    "\n",
    "y parametros:\n",
    "\n",
    "$k_1=0.5$, $k_2=0.25$, y $k_3=0.25$\n",
    "\n",
    "\n",
    "\n",
    "Resolver el sistema dinámico hasta un timpo final de 30 horas."
   ]
  },
  {
   "cell_type": "markdown",
   "metadata": {
    "slideshow": {
     "slide_type": "slide"
    }
   },
   "source": [
    "# Ejercicio 5: Reacciones metabólicas oscilantes\n",
    "\n",
    "\n",
    "Consideremos un par de reacciones en donde la concentración de uno de los reactantes $A$ es mucho mayor que su valor de equilibrio. La reacción que consume $A$ es mucho mayor la reacción que lo produce. Además, consideremos dos metabolitos intermediarios $X$ e $Y$ que catalizan sus propias reacciones de consumo (forman reacciones autocataliticas):\n",
    "\n",
    "\\begin{align}\n",
    "A + X \\rightarrow 2X \\\\\n",
    "X + Y \\rightarrow 2Y \\\\\n",
    "Y \\rightarrow E\n",
    "\\end{align}"
   ]
  },
  {
   "cell_type": "markdown",
   "metadata": {
    "slideshow": {
     "slide_type": "slide"
    }
   },
   "source": [
    "La variación en el tiempo de $X$ e $Y$ es descrita por el siguiente sistema ODE:\n",
    "\n",
    "\\begin{align}\n",
    "\\frac{dX}{dt} &= k_1 AX - k_2XY\\\\\n",
    "\\frac{dY}{dt} &= k_2XY - k_3Y\n",
    "\\end{align}\n",
    "\n",
    "en donde $k_1$, $k_2$ y $k_3$ son constantes cinéticas. Este sistema da lugar a un comportamiento oscilatorio para $X$ e $Y$.\n",
    "\n",
    "Considerando $A$, $k_1$, $k_2$, y $k_3$ constantes, resuelve el sistema ODE. Para tus cálculos tiene libre elección para asignar  valores a las constantes y condiciones iniciales."
   ]
  },
  {
   "cell_type": "code",
   "execution_count": null,
   "metadata": {
    "slideshow": {
     "slide_type": "slide"
    }
   },
   "outputs": [],
   "source": []
  },
  {
   "cell_type": "code",
   "execution_count": null,
   "metadata": {
    "collapsed": true,
    "slideshow": {
     "slide_type": "slide"
    }
   },
   "outputs": [],
   "source": []
  }
 ],
 "metadata": {
  "celltoolbar": "Slideshow",
  "kernelspec": {
   "display_name": "Python 3",
   "language": "python",
   "name": "python3"
  },
  "language_info": {
   "codemirror_mode": {
    "name": "ipython",
    "version": 3
   },
   "file_extension": ".py",
   "mimetype": "text/x-python",
   "name": "python",
   "nbconvert_exporter": "python",
   "pygments_lexer": "ipython3",
   "version": "3.8.10"
  },
  "rise": {
   "enable_chalkboard": true,
   "scroll": true
  }
 },
 "nbformat": 4,
 "nbformat_minor": 2
}

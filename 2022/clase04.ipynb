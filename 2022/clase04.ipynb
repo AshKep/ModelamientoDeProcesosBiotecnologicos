{
 "cells": [
  {
   "cell_type": "markdown",
   "metadata": {
    "slideshow": {
     "slide_type": "slide"
    }
   },
   "source": [
    "# Resumen clase anterior\n",
    "\n",
    "\n",
    "<img src=\"https://raw.githubusercontent.com/modcommet/Clases/master/metanogenesis.png\" width=\"35%\" align=\"left\">\n",
    "<img src=\"https://raw.githubusercontent.com/mrivas/ModelamientoDeProcesosBiotecnologicos/master/clase4_matriz.jpg\" width=\"55%\" align=\"rigth\"/>\n",
    "\n",
    "Calcular el valor de los flujos metabólicos usando numpy.\n",
    "\n",
    "1. Asumiendo que el flujo limitante es E1=10 [mmol/gDW/h] y que el organismo maximiza la producción de CH4.\n",
    "2. Igual que 1 pero maximizando la producción de F420."
   ]
  },
  {
   "cell_type": "code",
   "execution_count": 1,
   "metadata": {
    "slideshow": {
     "slide_type": "slide"
    }
   },
   "outputs": [
    {
     "name": "stdout",
     "output_type": "stream",
     "text": [
      "Optimal value: -10.000000001210326 \n",
      "X: [1.00000000e+01 5.00013871e+05 1.00000000e+01 4.99993871e+05\n",
      " 4.99993871e+05 1.00000000e+01 5.00003871e+05 4.99993871e+05]\n"
     ]
    }
   ],
   "source": [
    "import numpy as np\n",
    "from scipy.optimize import linprog\n",
    "from numpy.linalg import solve\n",
    "\n",
    "# E1,E2,E3,E4,E5,R1,R2,R3\n",
    "\n",
    "A = np.array([\n",
    "[1,0,0,0,0,-1,0,0],\n",
    "[0,1,0,0,0,-1,-1,0],\n",
    "[0,0,0,0,0,1,-1,1],\n",
    "[0,0,0,-2,0,-1,1,1],\n",
    "[0,0,-1,0,0,0,1,-1],\n",
    "[0,0,0,0,-1,0,0,1]])        \n",
    "\n",
    "b = np.array([0,0,0,0,0,0])\n",
    "c = np.array([0,0,1,0,0,0,0,0])\n",
    "\n",
    "LB=[10,0,0,0,0,0,0,0]       # [0,0,0,0,0,0]\n",
    "UB=[10,1000000,1000000,1000000,1000000,1000000,1000000,1000000]     # ya sabes la idea\n",
    "\n",
    "res = linprog(-c, A_eq=A, b_eq=b, bounds=list(zip(LB,UB)))\n",
    "print('Optimal value:', res.fun, '\\nX:', res.x)\n"
   ]
  },
  {
   "cell_type": "markdown",
   "metadata": {
    "slideshow": {
     "slide_type": "slide"
    }
   },
   "source": [
    "# Clase 6\n",
    "\n",
    "Pasar lista\n",
    "\n",
    "## Contenidos\n",
    "\n",
    "* Resolver problemas de ingeniería metabólica a escala genómica\n",
    "* Introducción a cobrapy\n",
    "\n"
   ]
  },
  {
   "cell_type": "markdown",
   "metadata": {
    "slideshow": {
     "slide_type": "slide"
    }
   },
   "source": [
    "# Introducción a cobra\n",
    "\n",
    "\n",
    "Para modelar el metabolismo celular a escala genómica utilizaremos la librería ```cobra```. La documentación oficial de cobra se encuentra disponible [aquí](https://cobrapy.readthedocs.io/en/latest/index.html). Hoy veremos los comandos escenciales de cobra y construiremos nuestra propia red metábolica."
   ]
  },
  {
   "cell_type": "markdown",
   "metadata": {
    "slideshow": {
     "slide_type": "slide"
    }
   },
   "source": [
    "## Instalación\n",
    "\n",
    "\n",
    "Para instalar ```cobra``` debes abrir el terminal de anaconda (si usas Windowns, busca Anaconda Prompt ) y escribir en el siguiente comando:\n",
    "\n",
    "```python\n",
    "pip install cobra --user\n",
    "```\n",
    "\n",
    "Para probar que la librería se instlado correctamente escribe el siguiente comando en la próxima celda:\n",
    "\n",
    "```python\n",
    "import cobra\n",
    "```\n",
    "\n",
    "Si no hay mensajes de error, entonces ya tienes una versión funcional de cobra."
   ]
  },
  {
   "cell_type": "markdown",
   "metadata": {
    "slideshow": {
     "slide_type": "slide"
    }
   },
   "source": [
    "## Comandos básicos\n",
    "\n",
    "\n",
    "Comezaremos cargado ```cobra``` y determinando que version está instalada (esto es útil para consultar la documentación adecuada; diferentes versiones de cobra tienen diferentes documentaciones)"
   ]
  },
  {
   "cell_type": "code",
   "execution_count": 2,
   "metadata": {
    "slideshow": {
     "slide_type": "slide"
    }
   },
   "outputs": [
    {
     "data": {
      "text/plain": [
       "'0.22.1'"
      ]
     },
     "execution_count": 2,
     "metadata": {},
     "output_type": "execute_result"
    }
   ],
   "source": [
    "import cobra\n",
    "cobra.__version__"
   ]
  },
  {
   "cell_type": "markdown",
   "metadata": {
    "slideshow": {
     "slide_type": "slide"
    }
   },
   "source": [
    "## Redes metabólicas a escala genómica\n",
    "\n",
    "\n",
    "En Inglés Genome-scale metabolic networks son redes metabólicas que incluyen todas las reacciones metabólicas presentes en el genoma del organismo bajo estudio.\n",
    "\n",
    "<img src=\"https://raw.githubusercontent.com/mrivas/ModelamientoDeProcesosBiotecnologicos/master/clase4_eColiMetabolis.png\" width=\"45%\" align=\"left\">\n",
    "\n",
    "En el caso de *Escherichia coli* la red consiste en  reacciones y metabolitos.\n",
    "\n",
    "[\"Fuente KEGG\"](https://www.genome.jp/kegg-bin/show_pathway?eco01100+M00125)"
   ]
  },
  {
   "cell_type": "code",
   "execution_count": 3,
   "metadata": {
    "slideshow": {
     "slide_type": "slide"
    }
   },
   "outputs": [],
   "source": [
    "import cobra.test\n",
    "\n",
    "# \"ecoli\" and \"salmonella\" are also valid arguments\n",
    "model = cobra.test.create_test_model(\"ecoli\")"
   ]
  },
  {
   "cell_type": "markdown",
   "metadata": {
    "slideshow": {
     "slide_type": "slide"
    }
   },
   "source": [
    "Veamos cuantas reacciones y metabolitos tiene \"ecoli\""
   ]
  },
  {
   "cell_type": "code",
   "execution_count": 4,
   "metadata": {
    "slideshow": {
     "slide_type": "fragment"
    }
   },
   "outputs": [
    {
     "name": "stdout",
     "output_type": "stream",
     "text": [
      "Número de reacciones:  2583\n",
      "Número de metabolitos:  1805\n"
     ]
    }
   ],
   "source": [
    "print( \"Número de reacciones: \" , len(model.reactions) )\n",
    "print( \"Número de metabolitos: \", len(model.metabolites) )"
   ]
  },
  {
   "cell_type": "markdown",
   "metadata": {
    "slideshow": {
     "slide_type": "slide"
    }
   },
   "source": [
    "Podemos inspeccionar reacciones individualmente, por ejemplo la reacción 30:"
   ]
  },
  {
   "cell_type": "code",
   "execution_count": 5,
   "metadata": {
    "slideshow": {
     "slide_type": "fragment"
    }
   },
   "outputs": [
    {
     "name": "stdout",
     "output_type": "stream",
     "text": [
      "3amp_e --> \n"
     ]
    }
   ],
   "source": [
    "print( model.reactions[20].reaction )"
   ]
  },
  {
   "cell_type": "markdown",
   "metadata": {
    "slideshow": {
     "slide_type": "slide"
    }
   },
   "source": [
    "Ver las primeras 10 reacciones:"
   ]
  },
  {
   "cell_type": "code",
   "execution_count": 6,
   "metadata": {
    "slideshow": {
     "slide_type": "fragment"
    }
   },
   "outputs": [
    {
     "name": "stdout",
     "output_type": "stream",
     "text": [
      "DM_4crsol_c: 4crsol_c --> \n",
      "DM_5drib_c: 5drib_c --> \n",
      "DM_aacald_c: aacald_c --> \n",
      "DM_amob_c: amob_c --> \n",
      "DM_mththf_c: mththf_c --> \n",
      "DM_oxam_c: oxam_c --> \n",
      "BIOMASS_Ec_iJO1366_WT_53p95M: 0.000223 10fthf_c + 0.000223 2dmmql8_c + 2.5e-05 2fe2s_c + 0.000248 4fe4s_c + 0.000223 5mthf_c + 0.000279 accoa_c + 0.000223 adocbl_c + 0.499149 ala__L_c + 0.000223 amet_c + 0.28742 arg__L_c + 0.234232 asn__L_c + 0.234232 asp__L_c + 54.119975 atp_c + 0.000116 bmocogdp_c + 2e-06 btn_c + 0.004952 ca2_c + 0.000223 chor_c + 0.004952 cl_c + 0.002944 clpn160_p + 0.00229 clpn161_p + 0.00118 clpn181_p + 0.000168 coa_c + 2.4e-05 cobalt2_c + 0.008151 colipa_e + 0.129799 ctp_c + 0.000674 cu2_c + 0.088988 cys__L_c + 0.024805 datp_c + 0.025612 dctp_c + 0.025612 dgtp_c + 0.024805 dttp_c + 0.000223 enter_c + 0.000223 fad_c + 0.006388 fe2_c + 0.007428 fe3_c + 0.255712 gln__L_c + 0.255712 glu__L_c + 0.595297 gly_c + 0.154187 glycogen_c + 0.000223 gthrd_c + 0.209121 gtp_c + 48.752916 h2o_c + 0.000223 hemeO_c + 0.092056 his__L_c + 0.282306 ile__L_c + 0.18569 k_c + 0.437778 leu__L_c + 3e-06 lipopb_c + 0.333448 lys__L_c + 3.1e-05 malcoa_c + 0.149336 met__L_c + 0.008253 mg2_c + 0.000223 mlthf_c + 0.000658 mn2_c + 7e-06 mobd_c + 7e-06 mococdp_c + 7e-06 mocogdp_c + 0.000223 mql8_c + 0.001345 murein3p3p_p + 0.000605 murein3px4p_p + 0.005381 murein4p4p_p + 0.005448 murein4px4p_p + 0.000673 murein4px4px4p_p + 0.001787 nad_c + 4.5e-05 nadh_c + 0.000112 nadp_c + 0.000335 nadph_c + 0.012379 nh4_c + 0.000307 ni2_c + 0.012366 pe160_c + 0.031798 pe160_p + 0.009618 pe161_c + 0.024732 pe161_p + 0.004957 pe181_c + 0.012747 pe181_p + 0.005707 pg160_c + 0.004892 pg160_p + 0.004439 pg161_c + 0.003805 pg161_p + 0.002288 pg181_c + 0.001961 pg181_p + 0.180021 phe__L_c + 0.000223 pheme_c + 0.214798 pro__L_c + 0.03327 ptrc_c + 0.000223 pydx5p_c + 0.000223 q8h2_c + 0.000223 ribflv_c + 0.209684 ser__L_c + 0.000223 sheme_c + 0.004126 so4_c + 0.006744 spmd_c + 9.8e-05 succoa_c + 0.000223 thf_c + 0.000223 thmpp_c + 0.246506 thr__L_c + 0.055234 trp__L_c + 0.133993 tyr__L_c + 5.5e-05 udcpdp_c + 0.140101 utp_c + 0.411184 val__L_c + 0.000324 zn2_c --> 53.95 adp_c + 53.95 h_c + 53.945874 pi_c + 0.749831 ppi_c\n",
      "BIOMASS_Ec_iJO1366_core_53p95M: 0.000223 10fthf_c + 2.6e-05 2fe2s_c + 0.000223 2ohph_c + 0.00026 4fe4s_c + 0.513689 ala__L_c + 0.000223 amet_c + 0.295792 arg__L_c + 0.241055 asn__L_c + 0.241055 asp__L_c + 54.124831 atp_c + 0.000122 bmocogdp_c + 2e-06 btn_c + 0.005205 ca2_c + 0.005205 cl_c + 0.000576 coa_c + 2.5e-05 cobalt2_c + 0.133508 ctp_c + 0.000709 cu2_c + 0.09158 cys__L_c + 0.026166 datp_c + 0.027017 dctp_c + 0.027017 dgtp_c + 0.026166 dttp_c + 0.000223 fad_c + 0.006715 fe2_c + 0.007808 fe3_c + 0.26316 gln__L_c + 0.26316 glu__L_c + 0.612638 gly_c + 0.215096 gtp_c + 48.601527 h2o_c + 0.094738 his__L_c + 0.290529 ile__L_c + 0.195193 k_c + 0.019456 kdo2lipid4_e + 0.450531 leu__L_c + 0.343161 lys__L_c + 0.153686 met__L_c + 0.008675 mg2_c + 0.000223 mlthf_c + 0.000691 mn2_c + 7e-06 mobd_c + 0.013894 murein5px4p_p + 0.001831 nad_c + 0.000447 nadp_c + 0.013013 nh4_c + 0.000323 ni2_c + 0.017868 pe160_c + 0.045946 pe160_p + 0.054154 pe161_c + 0.02106 pe161_p + 0.185265 phe__L_c + 0.000223 pheme_c + 0.221055 pro__L_c + 0.000223 pydx5p_c + 0.000223 ribflv_c + 0.215792 ser__L_c + 0.000223 sheme_c + 0.004338 so4_c + 0.000223 thf_c + 0.000223 thmpp_c + 0.253687 thr__L_c + 0.056843 trp__L_c + 0.137896 tyr__L_c + 5.5e-05 udcpdp_c + 0.144104 utp_c + 0.423162 val__L_c + 0.000341 zn2_c --> 53.95 adp_c + 53.95 h_c + 53.945662 pi_c + 0.773903 ppi_c\n",
      "EX_12ppd__R_e: 12ppd__R_e --> \n",
      "EX_12ppd__S_e: 12ppd__S_e --> \n"
     ]
    }
   ],
   "source": [
    "for i in range(10):\n",
    "    print( model.reactions[i] )"
   ]
  },
  {
   "cell_type": "markdown",
   "metadata": {
    "slideshow": {
     "slide_type": "slide"
    }
   },
   "source": [
    "## Nota\n",
    "\n",
    "¿Cuál es tu interpretación de la reacción número 7?"
   ]
  },
  {
   "cell_type": "markdown",
   "metadata": {
    "slideshow": {
     "slide_type": "slide"
    }
   },
   "source": [
    "También podemos identificar una reacción por su nombre:"
   ]
  },
  {
   "cell_type": "code",
   "execution_count": 7,
   "metadata": {
    "slideshow": {
     "slide_type": "fragment"
    }
   },
   "outputs": [
    {
     "name": "stdout",
     "output_type": "stream",
     "text": [
      "PGI: g6p_c <=> f6p_c\n",
      "g6p_c <=> f6p_c\n",
      "Glucose-6-phosphate isomerase\n",
      "-1000.0 < pgi < 1000.0\n",
      "frozenset({<Reaction MPTG2 at 0x7f00a1b8ad30>, <Reaction UDCPDPS at 0x7f00a166b340>, <Reaction BIOMASS_Ec_iJO1366_WT_53p95M at 0x7f00a27fe850>, <Reaction MPTG at 0x7f00a1b8a760>, <Reaction UDCPDP at 0x7f00a166be80>, <Reaction BIOMASS_Ec_iJO1366_core_53p95M at 0x7f00a27fe490>})\n",
      "C55H89O7P2\n"
     ]
    }
   ],
   "source": [
    "pgi = model.reactions.get_by_id(\"PGI\")\n",
    "print( pgi )\n",
    "print( pgi.reaction )\n",
    "print( pgi.name )\n",
    "\n",
    "\n",
    "print(pgi.lower_bound, \"< pgi <\", pgi.upper_bound)\n",
    "\n",
    "udcpdp = model.metabolites.get_by_id(\"udcpdp_c\")\n",
    "print( udcpdp.reactions )\n",
    "print( udcpdp.formula )"
   ]
  },
  {
   "cell_type": "markdown",
   "metadata": {
    "slideshow": {
     "slide_type": "slide"
    }
   },
   "source": [
    "Podemos verificar el balance de masa de una reacción:"
   ]
  },
  {
   "cell_type": "code",
   "execution_count": 8,
   "metadata": {
    "slideshow": {
     "slide_type": "fragment"
    }
   },
   "outputs": [
    {
     "name": "stdout",
     "output_type": "stream",
     "text": [
      "Balance de masa original\n",
      "g6p_c <=> f6p_c\n",
      "{}\n",
      "Veamos que pasa con el balance de masa si ahora agregamos un metabolito a la reacción\n",
      "g6p_c + h_c <=> f6p_c\n",
      "{'charge': -1.0, 'H': -1.0}\n"
     ]
    }
   ],
   "source": [
    "print(  \"Balance de masa original\" )\n",
    "print(  pgi.reaction )\n",
    "print(  pgi.check_mass_balance() )\n",
    "\n",
    "print(  \"Veamos que pasa con el balance de masa si ahora agregamos un metabolito a la reacción\" )\n",
    "pgi.add_metabolites({model.metabolites.get_by_id(\"h_c\"): -1})\n",
    "print(  pgi.reaction )\n",
    "print(  pgi.check_mass_balance() )"
   ]
  },
  {
   "cell_type": "code",
   "execution_count": 9,
   "metadata": {
    "slideshow": {
     "slide_type": "slide"
    }
   },
   "outputs": [
    {
     "name": "stdout",
     "output_type": "stream",
     "text": [
      "g6p_c <=> f6p_c + h_c\n",
      "{'charge': 1.0, 'H': 1.0}\n"
     ]
    }
   ],
   "source": [
    "pgi.add_metabolites({model.metabolites.get_by_id(\"h_c\"): 2})\n",
    "print( pgi.reaction )\n",
    "print( pgi.check_mass_balance() )"
   ]
  },
  {
   "cell_type": "code",
   "execution_count": 10,
   "metadata": {
    "slideshow": {
     "slide_type": "fragment"
    }
   },
   "outputs": [
    {
     "name": "stdout",
     "output_type": "stream",
     "text": [
      "{'charge': 1.0, 'H': 1.0}\n"
     ]
    }
   ],
   "source": [
    "print( pgi.check_mass_balance() )\n"
   ]
  },
  {
   "cell_type": "markdown",
   "metadata": {
    "slideshow": {
     "slide_type": "slide"
    }
   },
   "source": [
    "Tambien podemos ver cuales son las reacciones en las que un determinado metabólito está involucrado:"
   ]
  },
  {
   "cell_type": "code",
   "execution_count": 11,
   "metadata": {
    "slideshow": {
     "slide_type": "fragment"
    }
   },
   "outputs": [
    {
     "name": "stdout",
     "output_type": "stream",
     "text": [
      "GLCabcpp: atp_c + glc__D_p + h2o_c --> adp_c + glc__D_c + h_c + pi_c\n",
      "SADT2: atp_c + gtp_c + h2o_c + so4_c --> aps_c + gdp_c + pi_c + ppi_c\n",
      "PA180abcpp: atp_c + h2o_c + pa180_c --> adp_c + h_c + pa180_p + pi_c\n",
      "AACPS9: ACP_c + atp_c + octa_c --> amp_c + ocACP_c + ppi_c\n",
      "ATPS4rpp: adp_c + 4.0 h_p + pi_c <=> atp_c + h2o_c + 3.0 h_c\n",
      "NADK: atp_c + nad_c --> adp_c + h_c + nadp_c\n",
      "CDPMEK: 4c2me_c + atp_c --> 2p4c2me_c + adp_c + h_c\n",
      "COLIPAPabctex: atp_c + colipap_p + h2o_c --> adp_c + colipap_e + h_c + pi_c\n",
      "CRNabcpp: atp_c + crn_p + h2o_c --> adp_c + crn_c + h_c + pi_c\n",
      "4PEPTabcpp: LalaDgluMdapDala_p + atp_c + h2o_c --> LalaDgluMdapDala_c + adp_c + h_c + pi_c\n",
      "SERASr: atp_c + h_c + ser__L_c <=> ppi_c + seramp_c\n",
      "S2FE2SR: 2fe1s_c + atp_c + h2o_c + sufbcd_c + sufsesh_c --> adp_c + 5.0 h_c + pi_c + sufbcd_2fe2s_c + sufse_c\n",
      "ACGAMK: acgam_c + atp_c --> acgam6p_c + adp_c + h_c\n",
      "METTRS: atp_c + met__L_c + trnamet_c --> amp_c + mettrna_c + ppi_c\n",
      "SHKK: atp_c + skm_c --> adp_c + h_c + skm5p_c\n",
      "FCLK: atp_c + fcl__L_c --> adp_c + fc1p_c + h_c\n",
      "RMK: atp_c + rml_c --> adp_c + h_c + rml1p_c\n",
      "HEX1: atp_c + glc__D_c --> adp_c + g6p_c + h_c\n",
      "MALTabcpp: atp_c + h2o_c + malt_p --> adp_c + h_c + malt_c + pi_c\n",
      "ARGSS: asp__L_c + atp_c + citr__L_c --> amp_c + argsuc_c + h_c + ppi_c\n",
      "COLIPAabcpp: atp_c + colipa_c + h2o_c --> adp_c + colipa_p + h_c + pi_c\n",
      "FACOAL181t2pp: atp_c + coa_c + h_p + ocdcea_p --> amp_c + h_c + odecoa_c + ppi_c\n",
      "AACPS3: ACP_c + atp_c + hdca_c --> amp_c + palmACP_c + ppi_c\n",
      "PE160abcpp: atp_c + h2o_c + pe160_c --> adp_c + h_c + pe160_p + pi_c\n",
      "SULabcpp: atp_c + h2o_c + so4_p --> adp_c + h_c + pi_c + so4_c\n",
      "HPPK2: 6hmhpt_c + atp_c --> 6hmhptpp_c + amp_c + h_c\n",
      "MALTPTabcpp: atp_c + h2o_c + maltpt_p --> adp_c + h_c + maltpt_c + pi_c\n",
      "AACPS2: ACP_c + atp_c + ttdcea_c --> amp_c + ppi_c + tdeACP_c\n",
      "MALTTRabcpp: atp_c + h2o_c + malttr_p --> adp_c + h_c + malttr_c + pi_c\n",
      "TMDK1: atp_c + thymd_c --> adp_c + dtmp_c + h_c\n",
      "HEX4: atp_c + man_c --> adp_c + h_c + man6p_c\n",
      "FACOAL120t2pp: atp_c + coa_c + ddca_p + h_p --> amp_c + ddcacoa_c + h_c + ppi_c\n",
      "G3PGabcpp: atp_c + g3pg_p + h2o_c --> adp_c + g3pg_c + h_c + pi_c\n",
      "CYSDabcpp: atp_c + cys__D_p + h2o_c --> adp_c + cys__D_c + h_c + pi_c\n",
      "GLNS: atp_c + glu__L_c + nh4_c --> adp_c + gln__L_c + h_c + pi_c\n",
      "ARGTRS: arg__L_c + atp_c + trnaarg_c --> amp_c + argtrna_c + ppi_c\n",
      "CTBTCAL2: atp_c + coa_c + ctbt_c --> adp_c + ctbtcoa_c + pi_c\n",
      "GLNTRS: atp_c + gln__L_c + trnagln_c --> amp_c + glntrna_c + ppi_c\n",
      "PMPK: 4ampm_c + atp_c --> 2mahmp_c + adp_c\n",
      "GLYK: atp_c + glyc_c --> adp_c + glyc3p_c + h_c\n",
      "GLNabcpp: atp_c + gln__L_p + h2o_c --> adp_c + gln__L_c + h_c + pi_c\n",
      "HG2abcpp: atp_c + h2o_c + hg2_c --> adp_c + h_c + hg2_p + pi_c\n",
      "RNTR1c2: atp_c + 2.0 flxr_c + 2.0 h_c --> datp_c + 2.0 flxso_c + h2o_c\n",
      "FACOAL160t2pp: atp_c + coa_c + h_p + hdca_p --> amp_c + h_c + pmtcoa_c + ppi_c\n",
      "GNK: atp_c + glcn_c --> 6pgc_c + adp_c + h_c\n",
      "NDPK1: atp_c + gdp_c <=> adp_c + gtp_c\n",
      "PRAGSr: atp_c + gly_c + pram_c <=> adp_c + gar_c + h_c + pi_c\n",
      "GLYC2Pabcpp: atp_c + glyc2p_p + h2o_c --> adp_c + glyc2p_c + h_c + pi_c\n",
      "PG120abcpp: atp_c + h2o_c + pg120_c --> adp_c + h_c + pg120_p + pi_c\n",
      "LIPATPT: atp_c + lipoate_c --> lipoamp_c + ppi_c\n",
      "AACPS4: ACP_c + atp_c + hdcea_c --> amp_c + hdeACP_c + ppi_c\n",
      "FACOAL80t2pp: atp_c + coa_c + h_p + octa_p --> amp_c + h_c + occoa_c + ppi_c\n",
      "MALTHXabcpp: atp_c + h2o_c + malthx_p --> adp_c + h_c + malthx_c + pi_c\n",
      "GLU5K: atp_c + glu__L_c --> adp_c + glu5p_c\n",
      "SERTRS2: atp_c + ser__L_c + trnasecys_c --> amp_c + ppi_c + sertrna_sec_c\n",
      "G3PIabcpp: atp_c + g3pi_p + h2o_c --> adp_c + g3pi_c + h_c + pi_c\n",
      "GLUCYS: atp_c + cys__L_c + glu__L_c --> adp_c + glucys_c + h_c + pi_c\n",
      "UGMDDS: alaala_c + atp_c + ugmd_c --> adp_c + h_c + pi_c + ugmda_c\n",
      "NAMNPP: atp_c + h2o_c + nac_c + prpp_c --> adp_c + nicrnt_c + pi_c + ppi_c\n",
      "SPMDabcpp: atp_c + h2o_c + spmd_p --> adp_c + h_c + pi_c + spmd_c\n",
      "GK1: atp_c + gmp_c <=> adp_c + gdp_c\n",
      "THRabcpp: atp_c + h2o_c + thr__L_p --> adp_c + h_c + pi_c + thr__L_c\n",
      "ASNS1: asp__L_c + atp_c + gln__L_c + h2o_c --> amp_c + asn__L_c + glu__L_c + h_c + ppi_c\n",
      "ISETACabcpp: atp_c + h2o_c + isetac_p --> adp_c + h_c + isetac_c + pi_c\n",
      "O16A4COLIPAabctex: atp_c + h2o_c + o16a4colipa_p --> adp_c + h_c + o16a4colipa_e + pi_c\n",
      "SERTRS: atp_c + ser__L_c + trnaser_c --> amp_c + ppi_c + sertrna_c\n",
      "NADS1: atp_c + dnad_c + nh4_c --> amp_c + h_c + nad_c + ppi_c\n",
      "GALKr: atp_c + gal_c <=> adp_c + gal1p_c + h_c\n",
      "HEPK1: atp_c + hhlipa_c --> adp_c + h_c + phhlipa_c\n",
      "TMPK: atp_c + thmmp_c --> adp_c + thmpp_c\n",
      "PE181abcpp: atp_c + h2o_c + pe181_c --> adp_c + h_c + pe181_p + pi_c\n",
      "CYSabc2pp: atp_c + cys__L_c + h2o_c --> adp_c + cys__L_p + h_c + pi_c\n",
      "PIuabcpp: atp_c + h2o_c + pi_p --> adp_c + h_c + 2.0 pi_c\n",
      "HISTRS: atp_c + his__L_c + trnahis_c --> amp_c + histrna_c + ppi_c\n",
      "METDabcpp: atp_c + h2o_c + met__D_p --> adp_c + h_c + met__D_c + pi_c\n",
      "SUCBZL: atp_c + coa_c + sucbz_c --> amp_c + ppi_c + sbzcoa_c\n",
      "PE140abcpp: atp_c + h2o_c + pe140_c --> adp_c + h_c + pe140_p + pi_c\n",
      "COBALT2abcpp: atp_c + cobalt2_c + h2o_c --> adp_c + cobalt2_p + h_c + pi_c\n",
      "FACOAL141t2pp: atp_c + coa_c + h_p + ttdcea_p --> amp_c + h_c + ppi_c + tdecoa_c\n",
      "AACPS8: ACP_c + atp_c + dca_c --> amp_c + dcaACP_c + ppi_c\n",
      "FACOAL180t2pp: atp_c + coa_c + h_p + ocdca_p --> amp_c + h_c + ppi_c + stcoa_c\n",
      "FACOAL60t2pp: atp_c + coa_c + h_p + hxa_p --> amp_c + h_c + hxcoa_c + ppi_c\n",
      "NDPK3: atp_c + cdp_c <=> adp_c + ctp_c\n",
      "GGPTRCS: atp_c + glu__L_c + ptrc_c --> adp_c + ggptrc_c + h_c + pi_c\n",
      "HEPK2: atp_c + hphhlipa_c --> adp_c + h_c + phphhlipa_c\n",
      "ACCOAC: accoa_c + atp_c + hco3_c --> adp_c + h_c + malcoa_c + pi_c\n",
      "PPK2: atp_c + ppi_c <=> adp_c + pppi_c\n",
      "ALLK: all__D_c + atp_c --> adp_c + all6p_c + h_c\n",
      "LIPAabctex: atp_c + h2o_c + lipa_p --> adp_c + h_c + lipa_e + pi_c\n",
      "HMPK1: 4ahmmp_c + atp_c --> 4ampm_c + adp_c + h_c\n",
      "METAT: atp_c + h2o_c + met__L_c --> amet_c + pi_c + ppi_c\n",
      "GLGC: atp_c + g1p_c + h_c --> adpglc_c + ppi_c\n",
      "FACOAL100t2pp: atp_c + coa_c + dca_p + h_p --> amp_c + dcacoa_c + h_c + ppi_c\n",
      "PE161abcpp: atp_c + h2o_c + pe161_c --> adp_c + h_c + pe161_p + pi_c\n",
      "LIPAabcpp: atp_c + h2o_c + lipa_c --> adp_c + h_c + lipa_p + pi_c\n",
      "MALTTTRabcpp: atp_c + h2o_c + maltttr_p --> adp_c + h_c + maltttr_c + pi_c\n",
      "MG2uabcpp: atp_c + h2o_c + mg2_p --> adp_c + h_c + mg2_c + pi_c\n",
      "AACPS5: ACP_c + atp_c + ocdcea_c --> amp_c + octeACP_c + ppi_c\n",
      "NTP1: atp_c + h2o_c --> adp_c + h_c + pi_c\n",
      "CU2abcpp: atp_c + cu2_c + h2o_c --> adp_c + cu2_p + h_c + pi_c\n",
      "FACOAL161t2pp: atp_c + coa_c + h_p + hdcea_p --> amp_c + h_c + hdcoa_c + ppi_c\n",
      "GLUabcpp: atp_c + glu__L_p + h2o_c --> adp_c + glu__L_c + h_c + pi_c\n",
      "HISabcpp: atp_c + h2o_c + his__L_p --> adp_c + h_c + his__L_c + pi_c\n",
      "PFK: atp_c + f6p_c --> adp_c + fdp_c + h_c\n",
      "THZPSN3: atp_c + dhgly_c + dxyl5p_c + h_c + iscssh_c + nadph_c --> 4mpetz_c + amp_c + co2_c + 2.0 h2o_c + iscs_c + nadp_c + ppi_c\n",
      "PNTK: atp_c + pnto__R_c --> 4ppan_c + adp_c + h_c\n",
      "ACKr: ac_c + atp_c <=> actp_c + adp_c\n",
      "R1PK: atp_c + r1p_c --> adp_c + h_c + r15bp_c\n",
      "2AGPGAT160: 2agpg160_c + atp_c + hdca_c --> amp_c + pg160_c + ppi_c\n",
      "CBPS: 2.0 atp_c + gln__L_c + h2o_c + hco3_c --> 2.0 adp_c + cbp_c + glu__L_c + 2.0 h_c + pi_c\n",
      "CBIuabcpp: atp_c + cbi_p + h2o_c --> adp_c + cbi_c + h_c + pi_c\n",
      "HEX7: atp_c + fru_c --> adp_c + f6p_c + h_c\n",
      "BUTSO3abcpp: atp_c + butso3_p + h2o_c --> adp_c + butso3_c + h_c + pi_c\n",
      "CCGS: atp_c + cdg_c + nh4_c --> adp_c + h2o_c + h_c + pi_c + preq0_c\n",
      "2AGPGAT161: 2agpg161_c + atp_c + hdcea_c --> amp_c + pg161_c + ppi_c\n",
      "UAMAS: ala__L_c + atp_c + uamr_c --> adp_c + h_c + pi_c + uama_c\n",
      "GTHRDabcpp: atp_c + gthrd_p + h2o_c --> adp_c + gthrd_c + h_c + pi_c\n",
      "GTHS: atp_c + glucys_c + gly_c --> adp_c + gthrd_c + h_c + pi_c\n",
      "DAGK180: 12dgr180_c + atp_c --> adp_c + h_c + pa180_c\n",
      "TMK: atp_c + thm_c --> adp_c + h_c + thmmp_c\n",
      "SELNPS: atp_c + h2o_c + seln_c --> amp_c + pi_c + selnp_c\n",
      "PGP180abcpp: atp_c + h2o_c + pgp180_c --> adp_c + h_c + pgp180_p + pi_c\n",
      "CBL1abcpp: atp_c + cbl1_p + h2o_c --> adp_c + cbl1_c + h_c + pi_c\n",
      "DTMPK: atp_c + dtmp_c <=> adp_c + dtdp_c\n",
      "TSULabcpp: atp_c + h2o_c + tsul_p --> adp_c + h_c + pi_c + tsul_c\n",
      "FRULYSK: atp_c + frulys_c --> adp_c + frulysp_c + h_c\n",
      "PYK: adp_c + h_c + pep_c --> atp_c + pyr_c\n",
      "PGP181abcpp: atp_c + h2o_c + pgp181_c --> adp_c + h_c + pgp181_p + pi_c\n",
      "CGLYabcpp: atp_c + cgly_p + h2o_c --> adp_c + cgly_c + h_c + pi_c\n",
      "PPCK: atp_c + oaa_c --> adp_c + co2_c + pep_c\n",
      "ADSK: aps_c + atp_c --> adp_c + h_c + paps_c\n",
      "ASPK: asp__L_c + atp_c <=> 4pasp_c + adp_c\n",
      "METabcpp: atp_c + h2o_c + met__L_p --> adp_c + h_c + met__L_c + pi_c\n",
      "NDPK7: atp_c + dcdp_c <=> adp_c + dctp_c\n",
      "GLYTRS: atp_c + gly_c + trnagly_c --> amp_c + glytrna_c + ppi_c\n",
      "PFK_3: atp_c + s7p_c --> adp_c + h_c + s17bp_c\n",
      "AMANK: acmana_c + atp_c --> acmanap_c + adp_c + h_c\n",
      "DAGK181: 12dgr181_c + atp_c --> adp_c + h_c + pa181_c\n",
      "G3PSabcpp: atp_c + g3ps_p + h2o_c --> adp_c + g3ps_c + h_c + pi_c\n",
      "DAGK161: 12dgr161_c + atp_c --> adp_c + h_c + pa161_c\n",
      "AP4AS: 2.0 atp_c + h_c --> ap4a_c + ppi_c\n",
      "DAGK160: 12dgr160_c + atp_c --> adp_c + h_c + pa160_c\n",
      "NI2abcpp: atp_c + h2o_c + ni2_c --> adp_c + h_c + ni2_p + pi_c\n",
      "ETHSO3abcpp: atp_c + ethso3_p + h2o_c --> adp_c + ethso3_c + h_c + pi_c\n",
      "RBFK: atp_c + ribflv_c --> adp_c + fmn_c + h_c\n",
      "GTHRDabc2pp: atp_c + gthrd_c + h2o_c --> adp_c + gthrd_p + h_c + pi_c\n",
      "ILETRS: atp_c + ile__L_c + trnaile_c --> amp_c + iletrna_c + ppi_c\n",
      "CBLAT: atp_c + cbl1_c + h_c <=> adocbl_c + pppi_c\n",
      "R15BPK: atp_c + r15bp_c --> adp_c + prpp_c\n",
      "ACOLIPAabctex: acolipa_p + atp_c + h2o_c --> acolipa_e + adp_c + h_c + pi_c\n",
      "ASNabcpp: asn__L_p + atp_c + h2o_c --> adp_c + asn__L_c + h_c + pi_c\n",
      "DAPabcpp: 26dap__M_p + atp_c + h2o_c --> 26dap__M_c + adp_c + h_c + pi_c\n",
      "PGP141abcpp: atp_c + h2o_c + pgp141_c --> adp_c + h_c + pgp141_p + pi_c\n",
      "CBIAT: atp_c + cbi_c + h_c <=> adocbi_c + pppi_c\n",
      "FE3HOXabcpp: atp_c + fe3hox_p + h2o_c --> adp_c + fe3hox_c + h_c + pi_c\n",
      "PTPATi: atp_c + h_c + pan4p_c --> dpcoa_c + ppi_c\n",
      "ADOCBLabcpp: adocbl_p + atp_c + h2o_c --> adocbl_c + adp_c + h_c + pi_c\n",
      "NMNAT: atp_c + h_c + nmn_c --> nad_c + ppi_c\n",
      "PGP161abcpp: atp_c + h2o_c + pgp161_c --> adp_c + h_c + pgp161_p + pi_c\n",
      "DPCOAK: atp_c + dpcoa_c --> adp_c + coa_c + h_c\n",
      "GART: atp_c + for_c + gar_c --> adp_c + fgam_c + h_c + pi_c\n",
      "PE180abcpp: atp_c + h2o_c + pe180_c --> adp_c + h_c + pe180_p + pi_c\n",
      "RBK: atp_c + rib__D_c --> adp_c + h_c + r5p_c\n",
      "PGP140abcpp: atp_c + h2o_c + pgp140_c --> adp_c + h_c + pgp140_p + pi_c\n",
      "PRFGS: atp_c + fgam_c + gln__L_c + h2o_c --> adp_c + fpram_c + glu__L_c + h_c + pi_c\n",
      "CBMKr: atp_c + co2_c + nh4_c <=> adp_c + cbp_c + 2.0 h_c\n",
      "PGP160abcpp: atp_c + h2o_c + pgp160_c --> adp_c + h_c + pgp160_p + pi_c\n",
      "ILEabcpp: atp_c + h2o_c + ile__L_p --> adp_c + h_c + ile__L_c + pi_c\n",
      "UAAGDS: 26dap__M_c + atp_c + uamag_c --> adp_c + h_c + pi_c + ugmd_c\n",
      "ATPHs: atp_c + h2o_c + h_c --> itp_c + nh4_c\n",
      "ADOCBIK: adocbi_c + atp_c --> adocbip_c + adp_c + h_c\n",
      "ADK1: amp_c + atp_c <=> 2.0 adp_c\n",
      "ASO3t8pp: aso3_c + atp_c + h2o_c --> adp_c + aso3_p + h_c + pi_c\n",
      "GMHEPK: atp_c + gmhep7p_c --> adp_c + gmhep17bp_c + h_c\n",
      "NTPP6: atp_c + h2o_c --> amp_c + h_c + ppi_c\n",
      "CYTK2: atp_c + dcmp_c <=> adp_c + dcdp_c\n",
      "DURIK1: atp_c + duri_c --> adp_c + dump_c + h_c\n",
      "GLYBabcpp: atp_c + glyb_p + h2o_c --> adp_c + glyb_c + h_c + pi_c\n",
      "FRUK: atp_c + f1p_c --> adp_c + fdp_c + h_c\n",
      "NI2uabcpp: atp_c + h2o_c + ni2_p --> adp_c + h_c + ni2_c + pi_c\n",
      "S2FE2SS2: atp_c + fadh2_c + 2.0 fe2_c + h2o_c + sufbcd_2fe2s_c + 2.0 sufsesh_c --> adp_c + fad_c + 7.0 h_c + pi_c + sufbcd_2fe2s2_c + 2.0 sufse_c\n",
      "DAGK140: 12dgr140_c + atp_c --> adp_c + h_c + pa140_c\n",
      "PGP120abcpp: atp_c + h2o_c + pgp120_c --> adp_c + h_c + pgp120_p + pi_c\n",
      "FACOAL140t2pp: atp_c + coa_c + h_p + ttdca_p --> amp_c + h_c + ppi_c + tdcoa_c\n",
      "HETZK: 4mhetz_c + atp_c --> 4mpetz_c + adp_c + h_c\n",
      "GLYC3Pabcpp: atp_c + glyc3p_p + h2o_c --> adp_c + glyc3p_c + h_c + pi_c\n",
      "GMHEPAT: atp_c + gmhep1p_c + h_c --> adphep_DD_c + ppi_c\n",
      "NDPK6: atp_c + dudp_c <=> adp_c + dutp_c\n",
      "GMPS2: atp_c + gln__L_c + h2o_c + xmp_c --> amp_c + glu__L_c + gmp_c + 2.0 h_c + ppi_c\n",
      "METSOX2abcpp: atp_c + h2o_c + metsox_R__L_p --> adp_c + h_c + metsox_R__L_c + pi_c\n",
      "DADK: atp_c + damp_c <=> adp_c + dadp_c\n",
      "AP5AH: ap5a_c + h2o_c --> adp_c + atp_c + 2.0 h_c\n",
      "ASPabcpp: asp__L_p + atp_c + h2o_c --> adp_c + asp__L_c + h_c + pi_c\n",
      "PE141abcpp: atp_c + h2o_c + pe141_c --> adp_c + h_c + pe141_p + pi_c\n",
      "UAMAGS: atp_c + glu__D_c + uama_c --> adp_c + h_c + pi_c + uamag_c\n",
      "2AGPEAT120: 2agpe120_c + atp_c + ddca_c --> amp_c + pe120_c + ppi_c\n",
      "OPHHX3: 2oph_c + 2.0 atp_c + 3.0 h2o_c + nad_c --> 2ohph_c + 2.0 adp_c + 3.0 h_c + nadh_c + 2.0 pi_c\n",
      "BIOMASS_Ec_iJO1366_core_53p95M: 0.000223 10fthf_c + 2.6e-05 2fe2s_c + 0.000223 2ohph_c + 0.00026 4fe4s_c + 0.513689 ala__L_c + 0.000223 amet_c + 0.295792 arg__L_c + 0.241055 asn__L_c + 0.241055 asp__L_c + 54.124831 atp_c + 0.000122 bmocogdp_c + 2e-06 btn_c + 0.005205 ca2_c + 0.005205 cl_c + 0.000576 coa_c + 2.5e-05 cobalt2_c + 0.133508 ctp_c + 0.000709 cu2_c + 0.09158 cys__L_c + 0.026166 datp_c + 0.027017 dctp_c + 0.027017 dgtp_c + 0.026166 dttp_c + 0.000223 fad_c + 0.006715 fe2_c + 0.007808 fe3_c + 0.26316 gln__L_c + 0.26316 glu__L_c + 0.612638 gly_c + 0.215096 gtp_c + 48.601527 h2o_c + 0.094738 his__L_c + 0.290529 ile__L_c + 0.195193 k_c + 0.019456 kdo2lipid4_e + 0.450531 leu__L_c + 0.343161 lys__L_c + 0.153686 met__L_c + 0.008675 mg2_c + 0.000223 mlthf_c + 0.000691 mn2_c + 7e-06 mobd_c + 0.013894 murein5px4p_p + 0.001831 nad_c + 0.000447 nadp_c + 0.013013 nh4_c + 0.000323 ni2_c + 0.017868 pe160_c + 0.045946 pe160_p + 0.054154 pe161_c + 0.02106 pe161_p + 0.185265 phe__L_c + 0.000223 pheme_c + 0.221055 pro__L_c + 0.000223 pydx5p_c + 0.000223 ribflv_c + 0.215792 ser__L_c + 0.000223 sheme_c + 0.004338 so4_c + 0.000223 thf_c + 0.000223 thmpp_c + 0.253687 thr__L_c + 0.056843 trp__L_c + 0.137896 tyr__L_c + 5.5e-05 udcpdp_c + 0.144104 utp_c + 0.423162 val__L_c + 0.000341 zn2_c --> 53.95 adp_c + 53.95 h_c + 53.945662 pi_c + 0.773903 ppi_c\n",
      "PYDAMK: atp_c + pydam_c --> adp_c + h_c + pyam5p_c\n",
      "ZN2abcpp: atp_c + h2o_c + zn2_c --> adp_c + h_c + pi_c + zn2_p\n",
      "PRAIS: atp_c + fpram_c --> adp_c + air_c + 2.0 h_c + pi_c\n",
      "CTBTabcpp: atp_c + ctbt_p + h2o_c --> adp_c + ctbt_c + h_c + pi_c\n",
      "PG160abcpp: atp_c + h2o_c + pg160_c --> adp_c + h_c + pg160_p + pi_c\n",
      "CRNDCAL2: atp_c + coa_c + crn__D_c --> adp_c + crnDcoa_c + pi_c\n",
      "PRPPS: atp_c + r5p_c <=> amp_c + h_c + prpp_c\n",
      "SULFACabcpp: atp_c + h2o_c + sulfac_p --> adp_c + h_c + pi_c + sulfac_c\n",
      "CU1abcpp: atp_c + cu_c + h2o_c --> adp_c + cu_p + h_c + pi_c\n",
      "14GLUCANabcpp: 14glucan_p + atp_c + h2o_c --> 14glucan_c + adp_c + h_c + pi_c\n",
      "HSK: atp_c + hom__L_c --> adp_c + h_c + phom_c\n",
      "BIOMASS_Ec_iJO1366_WT_53p95M: 0.000223 10fthf_c + 0.000223 2dmmql8_c + 2.5e-05 2fe2s_c + 0.000248 4fe4s_c + 0.000223 5mthf_c + 0.000279 accoa_c + 0.000223 adocbl_c + 0.499149 ala__L_c + 0.000223 amet_c + 0.28742 arg__L_c + 0.234232 asn__L_c + 0.234232 asp__L_c + 54.119975 atp_c + 0.000116 bmocogdp_c + 2e-06 btn_c + 0.004952 ca2_c + 0.000223 chor_c + 0.004952 cl_c + 0.002944 clpn160_p + 0.00229 clpn161_p + 0.00118 clpn181_p + 0.000168 coa_c + 2.4e-05 cobalt2_c + 0.008151 colipa_e + 0.129799 ctp_c + 0.000674 cu2_c + 0.088988 cys__L_c + 0.024805 datp_c + 0.025612 dctp_c + 0.025612 dgtp_c + 0.024805 dttp_c + 0.000223 enter_c + 0.000223 fad_c + 0.006388 fe2_c + 0.007428 fe3_c + 0.255712 gln__L_c + 0.255712 glu__L_c + 0.595297 gly_c + 0.154187 glycogen_c + 0.000223 gthrd_c + 0.209121 gtp_c + 48.752916 h2o_c + 0.000223 hemeO_c + 0.092056 his__L_c + 0.282306 ile__L_c + 0.18569 k_c + 0.437778 leu__L_c + 3e-06 lipopb_c + 0.333448 lys__L_c + 3.1e-05 malcoa_c + 0.149336 met__L_c + 0.008253 mg2_c + 0.000223 mlthf_c + 0.000658 mn2_c + 7e-06 mobd_c + 7e-06 mococdp_c + 7e-06 mocogdp_c + 0.000223 mql8_c + 0.001345 murein3p3p_p + 0.000605 murein3px4p_p + 0.005381 murein4p4p_p + 0.005448 murein4px4p_p + 0.000673 murein4px4px4p_p + 0.001787 nad_c + 4.5e-05 nadh_c + 0.000112 nadp_c + 0.000335 nadph_c + 0.012379 nh4_c + 0.000307 ni2_c + 0.012366 pe160_c + 0.031798 pe160_p + 0.009618 pe161_c + 0.024732 pe161_p + 0.004957 pe181_c + 0.012747 pe181_p + 0.005707 pg160_c + 0.004892 pg160_p + 0.004439 pg161_c + 0.003805 pg161_p + 0.002288 pg181_c + 0.001961 pg181_p + 0.180021 phe__L_c + 0.000223 pheme_c + 0.214798 pro__L_c + 0.03327 ptrc_c + 0.000223 pydx5p_c + 0.000223 q8h2_c + 0.000223 ribflv_c + 0.209684 ser__L_c + 0.000223 sheme_c + 0.004126 so4_c + 0.006744 spmd_c + 9.8e-05 succoa_c + 0.000223 thf_c + 0.000223 thmpp_c + 0.246506 thr__L_c + 0.055234 trp__L_c + 0.133993 tyr__L_c + 5.5e-05 udcpdp_c + 0.140101 utp_c + 0.411184 val__L_c + 0.000324 zn2_c --> 53.95 adp_c + 53.95 h_c + 53.945874 pi_c + 0.749831 ppi_c\n",
      "PROTRS: atp_c + pro__L_c + trnapro_c --> amp_c + ppi_c + protrna_c\n",
      "TUNGSabcpp: atp_c + h2o_c + tungs_p --> adp_c + h_c + pi_c + tungs_c\n",
      "G3PEabcpp: atp_c + g3pe_p + h2o_c --> adp_c + g3pe_c + h_c + pi_c\n",
      "PYDXNK: atp_c + pydxn_c --> adp_c + h_c + pdx5p_c\n",
      "SUCOAS: atp_c + coa_c + succ_c <=> adp_c + pi_c + succoa_c\n",
      "UM4PL: LalaDgluMdapDala_c + atp_c + uamr_c --> adp_c + h_c + pi_c + um4p_c\n",
      "VALTRS: atp_c + trnaval_c + val__L_c --> amp_c + ppi_c + valtrna_c\n",
      "PROGLYabcpp: atp_c + h2o_c + progly_p --> adp_c + h_c + pi_c + progly_c\n",
      "PG141abcpp: atp_c + h2o_c + pg141_c --> adp_c + h_c + pg141_p + pi_c\n",
      "PPK: atp_c + pi_c <=> adp_c + ppi_c\n",
      "FECRMabcpp: atp_c + fecrm_p + h2o_c --> adp_c + fecrm_c + h_c + pi_c\n",
      "DXYLK: atp_c + dxyl_c --> adp_c + dxyl5p_c + h_c\n",
      "XYLabcpp: atp_c + h2o_c + xyl__D_p --> adp_c + h_c + pi_c + xyl__D_c\n",
      "PRASCSi: 5aizc_c + asp__L_c + atp_c --> 25aics_c + adp_c + h_c + pi_c\n",
      "AACPS7: ACP_c + atp_c + ddca_c --> amp_c + ddcaACP_c + ppi_c\n",
      "FE3DCITabcpp: atp_c + fe3dcit_p + h2o_c --> adp_c + 2.0 cit_c + fe3_c + h_c + pi_c\n",
      "3KGK: 3dhguln_c + atp_c --> 3dhgulnp_c + adp_c + h_c\n",
      "RBK_L1: atp_c + rbl__L_c --> adp_c + h_c + ru5p__L_c\n",
      "ADNCYC: atp_c --> camp_c + ppi_c\n",
      "CRNDabcpp: atp_c + crn__D_p + h2o_c --> adp_c + crn__D_c + h_c + pi_c\n",
      "GTPDPK: atp_c + gtp_c --> amp_c + gdptp_c + h_c\n",
      "ORNabcpp: atp_c + h2o_c + orn_p --> adp_c + h_c + orn_c + pi_c\n",
      "PTRCabcpp: atp_c + h2o_c + ptrc_p --> adp_c + h_c + pi_c + ptrc_c\n",
      "CRNCAL2: atp_c + coa_c + crn_c --> adp_c + crncoa_c + pi_c\n",
      "ATPPRT: atp_c + prpp_c --> ppi_c + prbatp_c\n",
      "LYSabcpp: atp_c + h2o_c + lys__L_p --> adp_c + h_c + lys__L_c + pi_c\n",
      "ACS: ac_c + atp_c + coa_c --> accoa_c + amp_c + ppi_c\n",
      "UMPK: atp_c + ump_c <=> adp_c + udp_c\n",
      "3PEPTabcpp: LalaDgluMdap_p + atp_c + h2o_c --> LalaDgluMdap_c + adp_c + h_c + pi_c\n",
      "PHETRS: atp_c + phe__L_c + trnaphe_c --> amp_c + phetrna_c + ppi_c\n",
      "MPTSS: atp_c + h_c + moadcoo_c --> moadamp_c + ppi_c\n",
      "CLIPAabctex: atp_c + h2o_c + lipa_cold_p --> adp_c + h_c + lipa_cold_e + pi_c\n",
      "UM3PL: LalaDgluMdap_c + atp_c + uamr_c --> adp_c + h_c + pi_c + ugmd_c\n",
      "PG161abcpp: atp_c + h2o_c + pg161_c --> adp_c + h_c + pg161_p + pi_c\n",
      "ANHMK: anhm_c + atp_c + h2o_c --> acmum6p_c + adp_c + h_c\n",
      "INSK: atp_c + ins_c --> adp_c + h_c + imp_c\n",
      "Kabcpp: atp_c + h2o_c + k_p --> adp_c + h_c + k_c + pi_c\n",
      "FEOXAMabcpp: atp_c + feoxam_p + h2o_c --> adp_c + feoxam_c + h_c + pi_c\n",
      "ALAabcpp: ala__L_p + atp_c + h2o_c --> adp_c + ala__L_c + h_c + pi_c\n",
      "RIBabcpp: atp_c + h2o_c + rib__D_p --> adp_c + h_c + pi_c + rib__D_c\n",
      "OCTNLL: atp_c + h_c + octa_c --> amp_c + octapb_c + ppi_c\n",
      "CTPS2: atp_c + gln__L_c + h2o_c + utp_c --> adp_c + ctp_c + glu__L_c + 2.0 h_c + pi_c\n",
      "THRTRS: atp_c + thr__L_c + trnathr_c --> amp_c + ppi_c + thrtrna_c\n",
      "ALAALAr: 2.0 ala__D_c + atp_c <=> adp_c + alaala_c + h_c + pi_c\n",
      "LYSTRS: atp_c + lys__L_c + trnalys_c --> amp_c + lystrna_c + ppi_c\n",
      "CYSTRS: atp_c + cys__L_c + trnacys_c --> amp_c + cystrna_c + ppi_c\n",
      "TPRDCOAS: atp_c + dpcoa_c --> 2tpr3dpcoa_c + ade_c\n",
      "CYSabcpp: atp_c + cys__L_p + h2o_c --> adp_c + cys__L_c + h_c + pi_c\n",
      "PE120abcpp: atp_c + h2o_c + pe120_c --> adp_c + h_c + pe120_p + pi_c\n",
      "PG180abcpp: atp_c + h2o_c + pg180_c --> adp_c + h_c + pg180_p + pi_c\n",
      "FE3abcpp: atp_c + fe3_p + h2o_c --> adp_c + fe3_c + h_c + pi_c\n",
      "S2FE2SS: atp_c + fadh2_c + 2.0 fe2_c + h2o_c + sufbcd_c + 2.0 sufsesh_c --> adp_c + fad_c + 7.0 h_c + pi_c + sufbcd_2fe2s_c + 2.0 sufse_c\n",
      "ATPM: atp_c + h2o_c --> adp_c + h_c + pi_c\n",
      "FEENTERabcpp: atp_c + feenter_p + h2o_c --> adp_c + feenter_c + h_c + pi_c\n",
      "MSO3abcpp: atp_c + h2o_c + mso3_p --> adp_c + h_c + mso3_c + pi_c\n",
      "AIRC2: air_c + atp_c + hco3_c --> 5caiz_c + adp_c + h_c + pi_c\n",
      "FE3DHBZSabcpp: atp_c + fe3dhbzs_p + h2o_c --> adp_c + fe3dhbzs_c + h_c + pi_c\n",
      "FTHFLi: atp_c + for_c + thf_c --> 10fthf_c + adp_c + pi_c\n",
      "ALAALAabcpp: alaala_p + atp_c + h2o_c --> adp_c + alaala_c + h_c + pi_c\n",
      "PHEMEabcpp: atp_c + h2o_c + pheme_c --> adp_c + h_c + pheme_p + pi_c\n",
      "PGK: 3pg_c + atp_c <=> 13dpg_c + adp_c\n",
      "DAGK120: 12dgr120_c + atp_c --> adp_c + h_c + pa120_c\n",
      "PFK_2: atp_c + tag6p__D_c --> adp_c + h_c + tagdp__D_c\n",
      "ZNabcpp: atp_c + h2o_c + zn2_p --> adp_c + h_c + pi_c + zn2_c\n",
      "THMabcpp: atp_c + h2o_c + thm_p --> adp_c + h_c + pi_c + thm_c\n",
      "DBTS: atp_c + co2_c + dann_c --> adp_c + dtbt_c + 3.0 h_c + pi_c\n",
      "2AGPGAT140: 2agpg140_c + atp_c + ttdca_c --> amp_c + pg140_c + ppi_c\n",
      "2AGPGAT180: 2agpg180_c + atp_c + ocdca_c --> amp_c + pg180_c + ppi_c\n",
      "ACGK: acglu_c + atp_c --> acg5p_c + adp_c\n",
      "ALLabcpp: all__D_p + atp_c + h2o_c --> adp_c + all__D_c + h_c + pi_c\n",
      "ASNS2: asp__L_c + atp_c + nh4_c --> amp_c + asn__L_c + h_c + ppi_c\n",
      "LEUabcpp: atp_c + h2o_c + leu__L_p --> adp_c + h_c + leu__L_c + pi_c\n",
      "DAGK141: 12dgr141_c + atp_c --> adp_c + h_c + pa141_c\n",
      "CYTK1: atp_c + cmp_c <=> adp_c + cdp_c\n",
      "ECA4COLIPAabctex: atp_c + eca4colipa_p + h2o_c --> adp_c + eca4colipa_e + h_c + pi_c\n",
      "LEUTRS: atp_c + leu__L_c + trnaleu_c --> amp_c + leutrna_c + ppi_c\n",
      "NDPK5: atp_c + dgdp_c <=> adp_c + dgtp_c\n",
      "AACPS1: ACP_c + atp_c + ttdca_c --> amp_c + myrsACP_c + ppi_c\n",
      "TYRTRS: atp_c + trnatyr_c + tyr__L_c --> amp_c + ppi_c + tyrtrna_c\n",
      "ENLIPAabctex: atp_c + enlipa_p + h2o_c --> adp_c + enlipa_e + h_c + pi_c\n",
      "MOBDabcpp: atp_c + h2o_c + mobd_p --> adp_c + h_c + mobd_c + pi_c\n",
      "PA181abcpp: atp_c + h2o_c + pa181_c --> adp_c + h_c + pa181_p + pi_c\n",
      "ASNTRS: asn__L_c + atp_c + trnaasn_c --> amp_c + asntrna_c + ppi_c\n",
      "GALabcpp: atp_c + gal_p + h2o_c --> adp_c + gal_c + h_c + pi_c\n",
      "GSPMDS: atp_c + gthrd_c + spmd_c --> adp_c + gtspmd_c + h_c + pi_c\n",
      "NDPK4: atp_c + dtdp_c <=> adp_c + dttp_c\n",
      "TRPTRS: atp_c + trnatrp_c + trp__L_c --> amp_c + ppi_c + trptrna_c\n",
      "TDSK: atp_c + lipidAds_c --> adp_c + h_c + lipidA_c\n",
      "K2L4Aabcpp: atp_c + h2o_c + kdo2lipid4_c --> adp_c + h_c + kdo2lipid4_p + pi_c\n",
      "2AGPEAT161: 2agpe161_c + atp_c + hdcea_c --> amp_c + pe161_c + ppi_c\n",
      "GLYCK: atp_c + glyc__R_c --> 3pg_c + adp_c + h_c\n",
      "METSOX1abcpp: atp_c + h2o_c + metsox_S__L_p --> adp_c + h_c + metsox_S__L_c + pi_c\n",
      "VALabcpp: atp_c + h2o_c + val__L_p --> adp_c + h_c + pi_c + val__L_c\n",
      "ARBabcpp: arab__L_p + atp_c + h2o_c --> adp_c + arab__L_c + h_c + pi_c\n",
      "DHFS: atp_c + dhpt_c + glu__L_c --> adp_c + dhf_c + h_c + pi_c\n",
      "PG140abcpp: atp_c + h2o_c + pg140_c --> adp_c + h_c + pg140_p + pi_c\n",
      "FE2abcpp: atp_c + fe2_p + h2o_c --> adp_c + fe2_c + h_c + pi_c\n",
      "OMMBLHX3: 2ommbl_c + 2.0 atp_c + 3.0 h2o_c + nad_c --> 2omhmbl_c + 2.0 adp_c + 3.0 h_c + nadh_c + 2.0 pi_c\n",
      "PROabcpp: atp_c + h2o_c + pro__L_p --> adp_c + h_c + pi_c + pro__L_c\n",
      "DHBS: 23dhb_c + atp_c + h_c --> 23dhba_c + ppi_c\n",
      "PA141abcpp: atp_c + h2o_c + pa141_c --> adp_c + h_c + pa141_p + pi_c\n",
      "2AGPGAT120: 2agpg120_c + atp_c + ddca_c --> amp_c + pg120_c + ppi_c\n",
      "2AGPEAT140: 2agpe140_c + atp_c + ttdca_c --> amp_c + pe140_c + ppi_c\n",
      "NDPK2: atp_c + udp_c <=> adp_c + utp_c\n",
      "PA140abcpp: atp_c + h2o_c + pa140_c --> adp_c + h_c + pa140_p + pi_c\n",
      "GLYCK2: atp_c + glyc__R_c --> 2pg_c + adp_c + h_c\n",
      "2AGPGAT141: 2agpg141_c + atp_c + ttdcea_c --> amp_c + pg141_c + ppi_c\n",
      "PG181abcpp: atp_c + h2o_c + pg181_c --> adp_c + h_c + pg181_p + pi_c\n",
      "FMNAT: atp_c + fmn_c + h_c --> fad_c + ppi_c\n",
      "CD2abcpp: atp_c + cd2_c + h2o_c --> adp_c + cd2_p + h_c + pi_c\n",
      "LIPACabcpp: atp_c + h2o_c + lipa_cold_c --> adp_c + h_c + lipa_cold_p + pi_c\n",
      "PYDXK: atp_c + pydx_c --> adp_c + h_c + pydx5p_c\n",
      "DDGALK: 2dh3dgal_c + atp_c --> 2dh3dgal6p_c + adp_c + h_c\n",
      "TAURabcpp: atp_c + h2o_c + taur_p --> adp_c + h_c + pi_c + taur_c\n",
      "PA120abcpp: atp_c + h2o_c + pa120_c --> adp_c + h_c + pa120_p + pi_c\n",
      "PA160abcpp: atp_c + h2o_c + pa160_c --> adp_c + h_c + pa160_p + pi_c\n",
      "CPGNabcpp: atp_c + cpgn_p + h2o_c --> adp_c + cpgn_c + h_c + pi_c\n",
      "ACCOAL: atp_c + coa_c + ppa_c --> adp_c + pi_c + ppcoa_c\n",
      "2AGPEAT141: 2agpe141_c + atp_c + ttdcea_c --> amp_c + pe141_c + ppi_c\n",
      "ASPTRS: asp__L_c + atp_c + trnaasp_c --> amp_c + asptrna_c + ppi_c\n",
      "GDPDPK: atp_c + gdp_c --> amp_c + h_c + ppgpp_c\n",
      "ADNK1: adn_c + atp_c --> adp_c + amp_c + h_c\n",
      "AACPS6: ACP_c + atp_c + ocdca_c --> amp_c + ocdcaACP_c + ppi_c\n",
      "2AGPEAT181: 2agpe181_c + atp_c + ocdcea_c --> amp_c + pe181_c + ppi_c\n",
      "CHLabcpp: atp_c + chol_p + h2o_c --> adp_c + chol_c + h_c + pi_c\n",
      "OMPHHX3: 2omph_c + 2.0 atp_c + 3.0 h2o_c + nad_c --> 2ombzl_c + 2.0 adp_c + 3.0 h_c + nadh_c + 2.0 pi_c\n",
      "ARGabcpp: arg__L_p + atp_c + h2o_c --> adp_c + arg__L_c + h_c + pi_c\n",
      "DDGLK: 2ddglcn_c + atp_c --> 2ddg6p_c + adp_c + h_c\n",
      "PPAKr: adp_c + ppap_c <=> atp_c + ppa_c\n",
      "ARBTNabcpp: arbtn_fe3_p + atp_c + h2o_c --> adp_c + arbtn_fe3_c + h_c + pi_c\n",
      "2AGPGAT181: 2agpg181_c + atp_c + ocdcea_c --> amp_c + pg181_c + ppi_c\n",
      "COLIPAabctex: atp_c + colipa_p + h2o_c --> adp_c + colipa_e + h_c + pi_c\n",
      "DGK1: atp_c + dgmp_c <=> adp_c + dgdp_c\n",
      "GSNK: atp_c + gsn_c --> adp_c + gmp_c + h_c\n",
      "XYLK: atp_c + xylu__D_c --> adp_c + h_c + xu5p__D_c\n",
      "PA161abcpp: atp_c + h2o_c + pa161_c --> adp_c + h_c + pa161_p + pi_c\n",
      "NDPK8: atp_c + dadp_c <=> adp_c + datp_c\n",
      "MPTAT: atp_c + h_c + mpt_c --> mptamp_c + ppi_c\n",
      "PACCOAL: atp_c + coa_c + pac_c --> amp_c + phaccoa_c + ppi_c\n",
      "K2L4Aabctex: atp_c + h2o_c + kdo2lipid4_p --> adp_c + h_c + kdo2lipid4_e + pi_c\n",
      "GLUTRS: atp_c + glu__L_c + trnaglu_c --> amp_c + glutrna_c + ppi_c\n",
      "NNATr: atp_c + h_c + nicrnt_c <=> dnad_c + ppi_c\n",
      "2AGPEAT180: 2agpe180_c + atp_c + ocdca_c --> amp_c + pe180_c + ppi_c\n",
      "2AGPEAT160: 2agpe160_c + atp_c + hdca_c --> amp_c + pe160_c + ppi_c\n",
      "PANTS: ala_B_c + atp_c + pant__R_c --> amp_c + h_c + pnto__R_c + ppi_c\n",
      "XYLK2: atp_c + xylu__L_c --> adp_c + h_c + xu5p__L_c\n",
      "G3PCabcpp: atp_c + g3pc_p + h2o_c --> adp_c + g3pc_c + h_c + pi_c\n",
      "ALATRS: ala__L_c + atp_c + trnaala_c --> alatrna_c + amp_c + ppi_c\n",
      "PPS: atp_c + h2o_c + pyr_c --> amp_c + 2.0 h_c + pep_c + pi_c\n"
     ]
    }
   ],
   "source": [
    "for rxn in model.metabolites.get_by_id(\"atp_c\").reactions:\n",
    "    print( rxn )"
   ]
  },
  {
   "cell_type": "markdown",
   "metadata": {
    "slideshow": {
     "slide_type": "slide"
    }
   },
   "source": [
    "# Simulación de flujos metabólicos\n",
    "\n",
    "Para simular los flujos metabólicos utilizando FBA (optimizamos la velocidad de producción de biomasa:"
   ]
  },
  {
   "cell_type": "code",
   "execution_count": 12,
   "metadata": {
    "slideshow": {
     "slide_type": "slide"
    }
   },
   "outputs": [
    {
     "name": "stdout",
     "output_type": "stream",
     "text": [
      "Objective\n",
      "=========\n",
      "1.0 BIOMASS_Ec_iJO1366_core_53p95M = 0.9761293262947259\n",
      "\n",
      "Uptake\n",
      "------\n",
      "Metabolite     Reaction      Flux  C-Number  C-Flux\n",
      "     ca2_e     EX_ca2_e  0.005081         0   0.00%\n",
      "      cl_e      EX_cl_e  0.005081         0   0.00%\n",
      " cobalt2_e EX_cobalt2_e  2.44E-05         0   0.00%\n",
      "     cu2_e     EX_cu2_e 0.0006921         0   0.00%\n",
      "     fe2_e     EX_fe2_e   0.01568         0   0.00%\n",
      "  glc__D_e  EX_glc__D_e        10         6 100.00%\n",
      "       k_e       EX_k_e    0.1905         0   0.00%\n",
      "     mg2_e     EX_mg2_e  0.008468         0   0.00%\n",
      "     mn2_e     EX_mn2_e 0.0006745         0   0.00%\n",
      "    mobd_e    EX_mobd_e 0.0001259         0   0.00%\n",
      "     nh4_e     EX_nh4_e     10.54         0   0.00%\n",
      "     ni2_e     EX_ni2_e 0.0003153         0   0.00%\n",
      "      o2_e      EX_o2_e     17.85         0   0.00%\n",
      "      pi_e      EX_pi_e    0.9416         0   0.00%\n",
      "     so4_e     EX_so4_e    0.2462         0   0.00%\n",
      "     zn2_e     EX_zn2_e 0.0003329         0   0.00%\n",
      "\n",
      "Secretion\n",
      "---------\n",
      "Metabolite    Reaction       Flux  C-Number C-Flux\n",
      "  4crsol_c DM_4crsol_c -0.0002177         7  0.01%\n",
      "   5drib_c  DM_5drib_c -0.0002196         5  0.01%\n",
      "    amob_c   DM_amob_c -1.952E-06        15  0.00%\n",
      "  mththf_c DM_mththf_c -0.0004373         5  0.01%\n",
      "     co2_e    EX_co2_e     -19.93         1 99.98%\n",
      "     h2o_e    EX_h2o_e     -45.71         0  0.00%\n",
      "       h_e      EX_h_e     -8.969         0  0.00%\n",
      "    meoh_e   EX_meoh_e -1.952E-06         1  0.00%\n",
      "\n",
      "Maximize\n",
      "1.0*BIOMASS_Ec_iJO1366_core_53p95M - 1.0*BIOMASS_Ec_iJO1366_core_53p95M_reverse_5c8b1\n"
     ]
    }
   ],
   "source": [
    "solution=model.optimize()\n",
    "print( model.summary() )\n",
    "print( model.objective )"
   ]
  },
  {
   "cell_type": "code",
   "execution_count": 13,
   "metadata": {
    "slideshow": {
     "slide_type": "slide"
    }
   },
   "outputs": [
    {
     "name": "stdout",
     "output_type": "stream",
     "text": [
      "Maximize\n",
      "1.0*BIOMASS_Ec_iJO1366_core_53p95M - 1.0*BIOMASS_Ec_iJO1366_core_53p95M_reverse_5c8b1\n"
     ]
    }
   ],
   "source": [
    "print( model.objective )"
   ]
  },
  {
   "cell_type": "code",
   "execution_count": 14,
   "metadata": {
    "slideshow": {
     "slide_type": "slide"
    }
   },
   "outputs": [],
   "source": [
    "model.objective=model.reactions.get_by_id(\"XYLabcpp\")"
   ]
  },
  {
   "cell_type": "code",
   "execution_count": 15,
   "metadata": {
    "slideshow": {
     "slide_type": "fragment"
    }
   },
   "outputs": [
    {
     "name": "stdout",
     "output_type": "stream",
     "text": [
      "Maximize\n",
      "1.0*XYLabcpp - 1.0*XYLabcpp_reverse_35686\n"
     ]
    }
   ],
   "source": [
    "print( model.objective )"
   ]
  },
  {
   "cell_type": "markdown",
   "metadata": {
    "slideshow": {
     "slide_type": "slide"
    }
   },
   "source": [
    "## Visualización de los resultados\n",
    "\n",
    "\n",
    "Para visualizar los resultados usaremos la herramienta [Escher](https://escher.readthedocs.io/en/latest/index.html), la cual puedes instalar siguiendo estas [instrucciones](https://anaconda.org/BjornFJohansson/escher)\n",
    "\n",
    "\n",
    "Para instalar ```escher``` debes abrir el terminal de anaconda (si usas Windowns, busca Anaconda Prompt ) y escribir en el siguiente comando:\n",
    "\n",
    "```python\n",
    "pip install escher --user\n",
    "```"
   ]
  },
  {
   "cell_type": "code",
   "execution_count": 24,
   "metadata": {
    "slideshow": {
     "slide_type": "slide"
    }
   },
   "outputs": [],
   "source": [
    "import escher\n",
    "from escher import Builder"
   ]
  },
  {
   "cell_type": "code",
   "execution_count": 25,
   "metadata": {
    "slideshow": {
     "slide_type": "fragment"
    }
   },
   "outputs": [
    {
     "name": "stdout",
     "output_type": "stream",
     "text": [
      "Downloading Map from https://escher.github.io/1-0-0/6/maps/Escherichia%20coli/e_coli_core.Core%20metabolism.json\n",
      "Downloading Model from https://escher.github.io/1-0-0/6/models/Escherichia%20coli/e_coli_core.json\n"
     ]
    }
   ],
   "source": [
    "# VISUALIZATION OF RESULTS\n",
    "builder = Builder(\n",
    "    map_name='e_coli_core.Core metabolism',\n",
    "    model_name='e_coli_core',\n",
    ")"
   ]
  },
  {
   "cell_type": "code",
   "execution_count": 26,
   "metadata": {
    "slideshow": {
     "slide_type": "slide"
    }
   },
   "outputs": [],
   "source": [
    "builder.reaction_data = solution.fluxes"
   ]
  },
  {
   "cell_type": "code",
   "execution_count": 27,
   "metadata": {
    "slideshow": {
     "slide_type": "slide"
    }
   },
   "outputs": [
    {
     "data": {
      "application/vnd.jupyter.widget-view+json": {
       "model_id": "565c8c1f5fb34b598307e363892ae041",
       "version_major": 2,
       "version_minor": 0
      },
      "text/plain": [
       "Builder(reaction_data={'DM_4crsol_c': 0.00021767683976372398, 'DM_5drib_c': 0.0002196290984163296, 'DM_aacald_…"
      ]
     },
     "metadata": {},
     "output_type": "display_data"
    }
   ],
   "source": [
    "builder"
   ]
  },
  {
   "cell_type": "markdown",
   "metadata": {
    "slideshow": {
     "slide_type": "slide"
    }
   },
   "source": [
    "## Ejercicio\n",
    "\n",
    "Simula y los flujos metabólicos de *E. coli* cuando:\n",
    "    \n",
    "1. El flujo de consumo de glucosa (\"EX_glc__D_e\") es igual a -2 [mmol/gDW/h]\n",
    "2. El limite inferior para el flujo de consumo de oxigeno (\"EX_o2_e\") es igual a -10 [mmol/gDW/h]\n",
    "\n",
    "En cada caso ilustra la distribución de flujos usando ```escher```"
   ]
  },
  {
   "cell_type": "code",
   "execution_count": 20,
   "metadata": {
    "slideshow": {
     "slide_type": "slide"
    }
   },
   "outputs": [
    {
     "data": {
      "text/plain": [
       "(-10.0, 1000.0)"
      ]
     },
     "execution_count": 20,
     "metadata": {},
     "output_type": "execute_result"
    }
   ],
   "source": [
    "model.reactions.get_by_id(\"EX_glc__D_e\").bounds"
   ]
  },
  {
   "cell_type": "code",
   "execution_count": 21,
   "metadata": {},
   "outputs": [
    {
     "data": {
      "text/plain": [
       "(-2, -2)"
      ]
     },
     "execution_count": 21,
     "metadata": {},
     "output_type": "execute_result"
    }
   ],
   "source": [
    "model.reactions.get_by_id(\"EX_glc__D_e\").bounds=(-2,-2)\n",
    "model.reactions.get_by_id(\"EX_glc__D_e\").bounds"
   ]
  },
  {
   "cell_type": "code",
   "execution_count": 22,
   "metadata": {},
   "outputs": [],
   "source": [
    "solution2=model.optimize()"
   ]
  },
  {
   "cell_type": "code",
   "execution_count": 23,
   "metadata": {},
   "outputs": [
    {
     "data": {
      "text/html": [
       "<h3>Objective</h3><p>1.0 XYLabcpp = 0.0</p><h4>Uptake</h4><table border=\"1\" class=\"dataframe\">\n",
       "  <thead>\n",
       "    <tr style=\"text-align: right;\">\n",
       "      <th>Metabolite</th>\n",
       "      <th>Reaction</th>\n",
       "      <th>Flux</th>\n",
       "      <th>C-Number</th>\n",
       "      <th>C-Flux</th>\n",
       "    </tr>\n",
       "  </thead>\n",
       "  <tbody>\n",
       "    <tr>\n",
       "      <td>glc__D_e</td>\n",
       "      <td>EX_glc__D_e</td>\n",
       "      <td>2</td>\n",
       "      <td>6</td>\n",
       "      <td>100.00%</td>\n",
       "    </tr>\n",
       "    <tr>\n",
       "      <td>o2_e</td>\n",
       "      <td>EX_o2_e</td>\n",
       "      <td>1.294</td>\n",
       "      <td>0</td>\n",
       "      <td>0.00%</td>\n",
       "    </tr>\n",
       "  </tbody>\n",
       "</table><h4>Secretion</h4><table border=\"1\" class=\"dataframe\">\n",
       "  <thead>\n",
       "    <tr style=\"text-align: right;\">\n",
       "      <th>Metabolite</th>\n",
       "      <th>Reaction</th>\n",
       "      <th>Flux</th>\n",
       "      <th>C-Number</th>\n",
       "      <th>C-Flux</th>\n",
       "    </tr>\n",
       "  </thead>\n",
       "  <tbody>\n",
       "    <tr>\n",
       "      <td>co2_e</td>\n",
       "      <td>EX_co2_e</td>\n",
       "      <td>-0.3209</td>\n",
       "      <td>1</td>\n",
       "      <td>2.67%</td>\n",
       "    </tr>\n",
       "    <tr>\n",
       "      <td>glcn_e</td>\n",
       "      <td>EX_glcn_e</td>\n",
       "      <td>-1.947</td>\n",
       "      <td>6</td>\n",
       "      <td>97.33%</td>\n",
       "    </tr>\n",
       "    <tr>\n",
       "      <td>h2o_e</td>\n",
       "      <td>EX_h2o_e</td>\n",
       "      <td>-0.3209</td>\n",
       "      <td>0</td>\n",
       "      <td>0.00%</td>\n",
       "    </tr>\n",
       "    <tr>\n",
       "      <td>h_e</td>\n",
       "      <td>EX_h_e</td>\n",
       "      <td>-1.947</td>\n",
       "      <td>0</td>\n",
       "      <td>0.00%</td>\n",
       "    </tr>\n",
       "  </tbody>\n",
       "</table>"
      ],
      "text/plain": [
       "<cobra.summary.model_summary.ModelSummary at 0x7f00a0a6e190>"
      ]
     },
     "execution_count": 23,
     "metadata": {},
     "output_type": "execute_result"
    }
   ],
   "source": [
    "model.summary()"
   ]
  }
 ],
 "metadata": {
  "celltoolbar": "Slideshow",
  "kernelspec": {
   "display_name": "Python 3",
   "language": "python",
   "name": "python3"
  },
  "language_info": {
   "codemirror_mode": {
    "name": "ipython",
    "version": 3
   },
   "file_extension": ".py",
   "mimetype": "text/x-python",
   "name": "python",
   "nbconvert_exporter": "python",
   "pygments_lexer": "ipython3",
   "version": "3.8.10"
  }
 },
 "nbformat": 4,
 "nbformat_minor": 4
}

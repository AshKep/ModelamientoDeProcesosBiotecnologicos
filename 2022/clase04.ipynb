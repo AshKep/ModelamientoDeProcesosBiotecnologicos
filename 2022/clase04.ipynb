{
 "cells": [
  {
   "cell_type": "markdown",
   "metadata": {
    "slideshow": {
     "slide_type": "slide"
    }
   },
   "source": [
    "# Resumen clase anterior\n",
    "\n",
    "\n",
    "<img src=\"https://raw.githubusercontent.com/modcommet/Clases/master/metanogenesis.png\" width=\"35%\" align=\"left\">\n",
    "<img src=\"https://raw.githubusercontent.com/mrivas/ModelamientoDeProcesosBiotecnologicos/master/clase4_matriz.jpg\" width=\"55%\" align=\"rigth\"/>\n",
    "\n",
    "Calcular el valor de los flujos metabólicos usando numpy.\n",
    "\n",
    "1. Asumiendo que el flujo limitante es E1=10 [mmol/gDW/h] y que el organismo maximiza la producción de CH4.\n",
    "2. Igual que 1 pero maximizando la producción de F420."
   ]
  },
  {
   "cell_type": "code",
   "execution_count": 28,
   "metadata": {
    "slideshow": {
     "slide_type": "slide"
    }
   },
   "outputs": [
    {
     "name": "stdout",
     "output_type": "stream",
     "text": [
      "Optimal value: -10.000000001210326 \n",
      "X: [1.00000000e+01 5.00013871e+05 1.00000000e+01 4.99993871e+05\n",
      " 4.99993871e+05 1.00000000e+01 5.00003871e+05 4.99993871e+05]\n"
     ]
    }
   ],
   "source": [
    "import numpy as np\n",
    "from scipy.optimize import linprog\n",
    "from numpy.linalg import solve\n",
    "\n",
    "# E1,E2,E3,E4,E5,R1,R2,R3\n",
    "\n",
    "A = np.array([\n",
    "[1,0,0,0,0,-1,0,0],\n",
    "[0,1,0,0,0,-1,-1,0],\n",
    "[0,0,0,0,0,1,-1,1],\n",
    "[0,0,0,-2,0,-1,1,1],\n",
    "[0,0,-1,0,0,0,1,-1],\n",
    "[0,0,0,0,-1,0,0,1]])        \n",
    "\n",
    "b = np.array([0,0,0,0,0,0])\n",
    "c = np.array([0,0,1,0,0,0,0,0])\n",
    "\n",
    "LB=[10,0,0,0,0,0,0,0]       # [0,0,0,0,0,0]\n",
    "UB=[10,1000000,1000000,1000000,1000000,1000000,1000000,1000000]     # ya sabes la idea\n",
    "\n",
    "res = linprog(-c, A_eq=A, b_eq=b, bounds=list(zip(LB,UB)))\n",
    "print('Optimal value:', res.fun, '\\nX:', res.x)\n"
   ]
  },
  {
   "cell_type": "code",
   "execution_count": 33,
   "metadata": {},
   "outputs": [
    {
     "data": {
      "text/plain": [
       "[(10, 10),\n",
       " (0, 1000000),\n",
       " (0, 1000000),\n",
       " (0, 1000000),\n",
       " (0, 1000000),\n",
       " (0, 1000000),\n",
       " (0, 1000000),\n",
       " (0, 1000000)]"
      ]
     },
     "execution_count": 33,
     "metadata": {},
     "output_type": "execute_result"
    }
   ],
   "source": [
    "list(zip(LB,UB))"
   ]
  },
  {
   "cell_type": "markdown",
   "metadata": {
    "slideshow": {
     "slide_type": "slide"
    }
   },
   "source": [
    "# Clase 6\n",
    "\n",
    "Pasar lista\n",
    "\n",
    "## Contenidos\n",
    "\n",
    "* Resolver problemas de ingeniería metabólica a escala genómica\n",
    "* Introducción a cobrapy\n",
    "\n"
   ]
  },
  {
   "cell_type": "markdown",
   "metadata": {
    "slideshow": {
     "slide_type": "slide"
    }
   },
   "source": [
    "# Introducción a cobra\n",
    "\n",
    "\n",
    "Para modelar el metabolismo celular a escala genómica utilizaremos la librería ```cobra```. La documentación oficial de cobra se encuentra disponible [aquí](https://cobrapy.readthedocs.io/en/latest/index.html). Hoy veremos los comandos escenciales de cobra y construiremos nuestra propia red metábolica."
   ]
  },
  {
   "cell_type": "markdown",
   "metadata": {
    "slideshow": {
     "slide_type": "slide"
    }
   },
   "source": [
    "## Instalación\n",
    "\n",
    "\n",
    "Para instalar ```cobra``` debes abrir el terminal de anaconda (si usas Windows, busca Anaconda Prompt ) y escribir en el siguiente comando:\n",
    "\n",
    "```python\n",
    "pip install cobra --user\n",
    "```\n",
    "\n",
    "Para probar que la librería se instlado correctamente escribe el siguiente comando en la próxima celda:\n",
    "\n",
    "```python\n",
    "import cobra\n",
    "```\n",
    "\n",
    "Si no hay mensajes de error, entonces ya tienes una versión funcional de cobra."
   ]
  },
  {
   "cell_type": "markdown",
   "metadata": {
    "slideshow": {
     "slide_type": "slide"
    }
   },
   "source": [
    "## Comandos básicos\n",
    "\n",
    "\n",
    "Comezaremos cargado ```cobra``` y determinando que version está instalada (esto es útil para consultar la documentación adecuada; diferentes versiones de cobra tienen diferentes documentaciones)"
   ]
  },
  {
   "cell_type": "code",
   "execution_count": 34,
   "metadata": {
    "slideshow": {
     "slide_type": "slide"
    }
   },
   "outputs": [
    {
     "data": {
      "text/plain": [
       "'0.22.1'"
      ]
     },
     "execution_count": 34,
     "metadata": {},
     "output_type": "execute_result"
    }
   ],
   "source": [
    "import cobra\n",
    "cobra.__version__"
   ]
  },
  {
   "cell_type": "markdown",
   "metadata": {
    "slideshow": {
     "slide_type": "slide"
    }
   },
   "source": [
    "## Redes metabólicas a escala genómica\n",
    "\n",
    "\n",
    "En Inglés Genome-scale metabolic networks son redes metabólicas que incluyen todas las reacciones metabólicas presentes en el genoma del organismo bajo estudio.\n",
    "\n",
    "<img src=\"https://raw.githubusercontent.com/mrivas/ModelamientoDeProcesosBiotecnologicos/master/clase4_eColiMetabolis.png\" width=\"45%\" align=\"left\">\n",
    "\n",
    "En el caso de *Escherichia coli* la red consiste en  reacciones y metabolitos.\n",
    "\n",
    "[\"Fuente KEGG\"](https://www.genome.jp/kegg-bin/show_pathway?eco01100+M00125)"
   ]
  },
  {
   "cell_type": "code",
   "execution_count": 35,
   "metadata": {
    "slideshow": {
     "slide_type": "slide"
    }
   },
   "outputs": [],
   "source": [
    "import cobra.test\n",
    "\n",
    "# \"ecoli\" and \"salmonella\" are also valid arguments\n",
    "model = cobra.test.create_test_model(\"ecoli\")"
   ]
  },
  {
   "cell_type": "markdown",
   "metadata": {
    "slideshow": {
     "slide_type": "slide"
    }
   },
   "source": [
    "Veamos cuantas reacciones y metabolitos tiene \"ecoli\""
   ]
  },
  {
   "cell_type": "code",
   "execution_count": 36,
   "metadata": {
    "slideshow": {
     "slide_type": "fragment"
    }
   },
   "outputs": [
    {
     "name": "stdout",
     "output_type": "stream",
     "text": [
      "Número de reacciones:  2583\n",
      "Número de metabolitos:  1805\n"
     ]
    }
   ],
   "source": [
    "print( \"Número de reacciones: \" , len(model.reactions) )\n",
    "print( \"Número de metabolitos: \", len(model.metabolites) )"
   ]
  },
  {
   "cell_type": "markdown",
   "metadata": {
    "slideshow": {
     "slide_type": "slide"
    }
   },
   "source": [
    "Podemos inspeccionar reacciones individualmente, por ejemplo la reacción 30:"
   ]
  },
  {
   "cell_type": "code",
   "execution_count": 37,
   "metadata": {
    "slideshow": {
     "slide_type": "fragment"
    }
   },
   "outputs": [
    {
     "name": "stdout",
     "output_type": "stream",
     "text": [
      "5mtr_e --> \n"
     ]
    }
   ],
   "source": [
    "print( model.reactions[30].reaction )"
   ]
  },
  {
   "cell_type": "markdown",
   "metadata": {
    "slideshow": {
     "slide_type": "slide"
    }
   },
   "source": [
    "Ver las primeras 10 reacciones:"
   ]
  },
  {
   "cell_type": "code",
   "execution_count": 38,
   "metadata": {
    "slideshow": {
     "slide_type": "fragment"
    }
   },
   "outputs": [
    {
     "name": "stdout",
     "output_type": "stream",
     "text": [
      "DM_4crsol_c: 4crsol_c --> \n",
      "DM_5drib_c: 5drib_c --> \n",
      "DM_aacald_c: aacald_c --> \n",
      "DM_amob_c: amob_c --> \n",
      "DM_mththf_c: mththf_c --> \n",
      "DM_oxam_c: oxam_c --> \n",
      "BIOMASS_Ec_iJO1366_WT_53p95M: 0.000223 10fthf_c + 0.000223 2dmmql8_c + 2.5e-05 2fe2s_c + 0.000248 4fe4s_c + 0.000223 5mthf_c + 0.000279 accoa_c + 0.000223 adocbl_c + 0.499149 ala__L_c + 0.000223 amet_c + 0.28742 arg__L_c + 0.234232 asn__L_c + 0.234232 asp__L_c + 54.119975 atp_c + 0.000116 bmocogdp_c + 2e-06 btn_c + 0.004952 ca2_c + 0.000223 chor_c + 0.004952 cl_c + 0.002944 clpn160_p + 0.00229 clpn161_p + 0.00118 clpn181_p + 0.000168 coa_c + 2.4e-05 cobalt2_c + 0.008151 colipa_e + 0.129799 ctp_c + 0.000674 cu2_c + 0.088988 cys__L_c + 0.024805 datp_c + 0.025612 dctp_c + 0.025612 dgtp_c + 0.024805 dttp_c + 0.000223 enter_c + 0.000223 fad_c + 0.006388 fe2_c + 0.007428 fe3_c + 0.255712 gln__L_c + 0.255712 glu__L_c + 0.595297 gly_c + 0.154187 glycogen_c + 0.000223 gthrd_c + 0.209121 gtp_c + 48.752916 h2o_c + 0.000223 hemeO_c + 0.092056 his__L_c + 0.282306 ile__L_c + 0.18569 k_c + 0.437778 leu__L_c + 3e-06 lipopb_c + 0.333448 lys__L_c + 3.1e-05 malcoa_c + 0.149336 met__L_c + 0.008253 mg2_c + 0.000223 mlthf_c + 0.000658 mn2_c + 7e-06 mobd_c + 7e-06 mococdp_c + 7e-06 mocogdp_c + 0.000223 mql8_c + 0.001345 murein3p3p_p + 0.000605 murein3px4p_p + 0.005381 murein4p4p_p + 0.005448 murein4px4p_p + 0.000673 murein4px4px4p_p + 0.001787 nad_c + 4.5e-05 nadh_c + 0.000112 nadp_c + 0.000335 nadph_c + 0.012379 nh4_c + 0.000307 ni2_c + 0.012366 pe160_c + 0.031798 pe160_p + 0.009618 pe161_c + 0.024732 pe161_p + 0.004957 pe181_c + 0.012747 pe181_p + 0.005707 pg160_c + 0.004892 pg160_p + 0.004439 pg161_c + 0.003805 pg161_p + 0.002288 pg181_c + 0.001961 pg181_p + 0.180021 phe__L_c + 0.000223 pheme_c + 0.214798 pro__L_c + 0.03327 ptrc_c + 0.000223 pydx5p_c + 0.000223 q8h2_c + 0.000223 ribflv_c + 0.209684 ser__L_c + 0.000223 sheme_c + 0.004126 so4_c + 0.006744 spmd_c + 9.8e-05 succoa_c + 0.000223 thf_c + 0.000223 thmpp_c + 0.246506 thr__L_c + 0.055234 trp__L_c + 0.133993 tyr__L_c + 5.5e-05 udcpdp_c + 0.140101 utp_c + 0.411184 val__L_c + 0.000324 zn2_c --> 53.95 adp_c + 53.95 h_c + 53.945874 pi_c + 0.749831 ppi_c\n",
      "BIOMASS_Ec_iJO1366_core_53p95M: 0.000223 10fthf_c + 2.6e-05 2fe2s_c + 0.000223 2ohph_c + 0.00026 4fe4s_c + 0.513689 ala__L_c + 0.000223 amet_c + 0.295792 arg__L_c + 0.241055 asn__L_c + 0.241055 asp__L_c + 54.124831 atp_c + 0.000122 bmocogdp_c + 2e-06 btn_c + 0.005205 ca2_c + 0.005205 cl_c + 0.000576 coa_c + 2.5e-05 cobalt2_c + 0.133508 ctp_c + 0.000709 cu2_c + 0.09158 cys__L_c + 0.026166 datp_c + 0.027017 dctp_c + 0.027017 dgtp_c + 0.026166 dttp_c + 0.000223 fad_c + 0.006715 fe2_c + 0.007808 fe3_c + 0.26316 gln__L_c + 0.26316 glu__L_c + 0.612638 gly_c + 0.215096 gtp_c + 48.601527 h2o_c + 0.094738 his__L_c + 0.290529 ile__L_c + 0.195193 k_c + 0.019456 kdo2lipid4_e + 0.450531 leu__L_c + 0.343161 lys__L_c + 0.153686 met__L_c + 0.008675 mg2_c + 0.000223 mlthf_c + 0.000691 mn2_c + 7e-06 mobd_c + 0.013894 murein5px4p_p + 0.001831 nad_c + 0.000447 nadp_c + 0.013013 nh4_c + 0.000323 ni2_c + 0.017868 pe160_c + 0.045946 pe160_p + 0.054154 pe161_c + 0.02106 pe161_p + 0.185265 phe__L_c + 0.000223 pheme_c + 0.221055 pro__L_c + 0.000223 pydx5p_c + 0.000223 ribflv_c + 0.215792 ser__L_c + 0.000223 sheme_c + 0.004338 so4_c + 0.000223 thf_c + 0.000223 thmpp_c + 0.253687 thr__L_c + 0.056843 trp__L_c + 0.137896 tyr__L_c + 5.5e-05 udcpdp_c + 0.144104 utp_c + 0.423162 val__L_c + 0.000341 zn2_c --> 53.95 adp_c + 53.95 h_c + 53.945662 pi_c + 0.773903 ppi_c\n",
      "EX_12ppd__R_e: 12ppd__R_e --> \n",
      "EX_12ppd__S_e: 12ppd__S_e --> \n"
     ]
    }
   ],
   "source": [
    "for i in range(10):\n",
    "    print( model.reactions[i] )"
   ]
  },
  {
   "cell_type": "markdown",
   "metadata": {
    "slideshow": {
     "slide_type": "slide"
    }
   },
   "source": [
    "## Nota\n",
    "\n",
    "¿Cuál es tu interpretación de la reacción número 7?"
   ]
  },
  {
   "cell_type": "markdown",
   "metadata": {
    "slideshow": {
     "slide_type": "slide"
    }
   },
   "source": [
    "También podemos identificar una reacción por su nombre:"
   ]
  },
  {
   "cell_type": "code",
   "execution_count": 41,
   "metadata": {
    "slideshow": {
     "slide_type": "fragment"
    }
   },
   "outputs": [
    {
     "name": "stdout",
     "output_type": "stream",
     "text": [
      "PGI: g6p_c <=> f6p_c\n",
      "g6p_c <=> f6p_c\n",
      "Glucose-6-phosphate isomerase\n",
      "-1000.0 < pgi < 1000.0\n",
      "frozenset({<Reaction UDCPDPS at 0x7f0099d20d00>, <Reaction BIOMASS_Ec_iJO1366_WT_53p95M at 0x7f009ac0ad30>, <Reaction MPTG at 0x7f009a305b80>, <Reaction MPTG2 at 0x7f009a305ca0>, <Reaction UDCPDP at 0x7f0099d20fa0>, <Reaction BIOMASS_Ec_iJO1366_core_53p95M at 0x7f009ac1ffd0>})\n",
      "C55H89O7P2\n"
     ]
    }
   ],
   "source": [
    "pgi = model.reactions.get_by_id(\"PGI\")\n",
    "print( pgi )\n",
    "print( pgi.reaction )\n",
    "print( pgi.name )\n",
    "\n",
    "\n",
    "print(pgi.lower_bound, \"< pgi <\", pgi.upper_bound)\n",
    "\n",
    "udcpdp = model.metabolites.get_by_id(\"udcpdp_c\")\n",
    "print( udcpdp.reactions )\n",
    "print( udcpdp.formula )"
   ]
  },
  {
   "cell_type": "markdown",
   "metadata": {
    "slideshow": {
     "slide_type": "slide"
    }
   },
   "source": [
    "Podemos verificar el balance de masa de una reacción:"
   ]
  },
  {
   "cell_type": "code",
   "execution_count": 42,
   "metadata": {
    "slideshow": {
     "slide_type": "fragment"
    }
   },
   "outputs": [
    {
     "name": "stdout",
     "output_type": "stream",
     "text": [
      "Balance de masa original\n",
      "g6p_c <=> f6p_c\n",
      "{}\n",
      "Veamos que pasa con el balance de masa si ahora agregamos un metabolito a la reacción\n",
      "g6p_c + h_c <=> f6p_c\n",
      "{'charge': -1.0, 'H': -1.0}\n"
     ]
    }
   ],
   "source": [
    "print(  \"Balance de masa original\" )\n",
    "print(  pgi.reaction )\n",
    "print(  pgi.check_mass_balance() )\n",
    "\n",
    "print(  \"Veamos que pasa con el balance de masa si ahora agregamos un metabolito a la reacción\" )\n",
    "pgi.add_metabolites({model.metabolites.get_by_id(\"h_c\"): -1})\n",
    "print(  pgi.reaction )\n",
    "print(  pgi.check_mass_balance() )"
   ]
  },
  {
   "cell_type": "code",
   "execution_count": 50,
   "metadata": {
    "slideshow": {
     "slide_type": "slide"
    }
   },
   "outputs": [
    {
     "name": "stdout",
     "output_type": "stream",
     "text": [
      "g6p_c <=> atp_c + f6p_c + 3 h_c\n",
      "{'charge': -1.0, 'C': 10.0, 'H': 15.0, 'O': 13.0, 'P': 3.0, 'N': 5}\n"
     ]
    }
   ],
   "source": [
    "pgi.add_metabolites({model.metabolites.get_by_id(\"h_c\"): 1,model.metabolites.get_by_id(\"atp_c\"): 1})\n",
    "print(  pgi.reaction )\n",
    "print(  pgi.check_mass_balance() )"
   ]
  },
  {
   "cell_type": "code",
   "execution_count": 44,
   "metadata": {
    "slideshow": {
     "slide_type": "slide"
    }
   },
   "outputs": [
    {
     "name": "stdout",
     "output_type": "stream",
     "text": [
      "g6p_c <=> f6p_c + 2 h_c\n",
      "{'charge': 2.0, 'H': 2.0}\n"
     ]
    }
   ],
   "source": [
    "pgi.add_metabolites({model.metabolites.get_by_id(\"h_c\"): 2})\n",
    "print( pgi.reaction )\n",
    "print( pgi.check_mass_balance() )"
   ]
  },
  {
   "cell_type": "code",
   "execution_count": 45,
   "metadata": {
    "slideshow": {
     "slide_type": "fragment"
    }
   },
   "outputs": [
    {
     "name": "stdout",
     "output_type": "stream",
     "text": [
      "{'charge': 2.0, 'H': 2.0}\n"
     ]
    }
   ],
   "source": [
    "print( pgi.check_mass_balance() )\n"
   ]
  },
  {
   "cell_type": "markdown",
   "metadata": {
    "slideshow": {
     "slide_type": "slide"
    }
   },
   "source": [
    "Tambien podemos ver cuales son las reacciones en las que un determinado metabólito está involucrado:"
   ]
  },
  {
   "cell_type": "code",
   "execution_count": 49,
   "metadata": {
    "slideshow": {
     "slide_type": "fragment"
    }
   },
   "outputs": [
    {
     "name": "stdout",
     "output_type": "stream",
     "text": [
      "BIOMASS_Ec_iJO1366_core_53p95M: 0.000223 10fthf_c + 2.6e-05 2fe2s_c + 0.000223 2ohph_c + 0.00026 4fe4s_c + 0.513689 ala__L_c + 0.000223 amet_c + 0.295792 arg__L_c + 0.241055 asn__L_c + 0.241055 asp__L_c + 54.124831 atp_c + 0.000122 bmocogdp_c + 2e-06 btn_c + 0.005205 ca2_c + 0.005205 cl_c + 0.000576 coa_c + 2.5e-05 cobalt2_c + 0.133508 ctp_c + 0.000709 cu2_c + 0.09158 cys__L_c + 0.026166 datp_c + 0.027017 dctp_c + 0.027017 dgtp_c + 0.026166 dttp_c + 0.000223 fad_c + 0.006715 fe2_c + 0.007808 fe3_c + 0.26316 gln__L_c + 0.26316 glu__L_c + 0.612638 gly_c + 0.215096 gtp_c + 48.601527 h2o_c + 0.094738 his__L_c + 0.290529 ile__L_c + 0.195193 k_c + 0.019456 kdo2lipid4_e + 0.450531 leu__L_c + 0.343161 lys__L_c + 0.153686 met__L_c + 0.008675 mg2_c + 0.000223 mlthf_c + 0.000691 mn2_c + 7e-06 mobd_c + 0.013894 murein5px4p_p + 0.001831 nad_c + 0.000447 nadp_c + 0.013013 nh4_c + 0.000323 ni2_c + 0.017868 pe160_c + 0.045946 pe160_p + 0.054154 pe161_c + 0.02106 pe161_p + 0.185265 phe__L_c + 0.000223 pheme_c + 0.221055 pro__L_c + 0.000223 pydx5p_c + 0.000223 ribflv_c + 0.215792 ser__L_c + 0.000223 sheme_c + 0.004338 so4_c + 0.000223 thf_c + 0.000223 thmpp_c + 0.253687 thr__L_c + 0.056843 trp__L_c + 0.137896 tyr__L_c + 5.5e-05 udcpdp_c + 0.144104 utp_c + 0.423162 val__L_c + 0.000341 zn2_c --> 53.95 adp_c + 53.95 h_c + 53.945662 pi_c + 0.773903 ppi_c\n",
      "BIOMASS_Ec_iJO1366_WT_53p95M: 0.000223 10fthf_c + 0.000223 2dmmql8_c + 2.5e-05 2fe2s_c + 0.000248 4fe4s_c + 0.000223 5mthf_c + 0.000279 accoa_c + 0.000223 adocbl_c + 0.499149 ala__L_c + 0.000223 amet_c + 0.28742 arg__L_c + 0.234232 asn__L_c + 0.234232 asp__L_c + 54.119975 atp_c + 0.000116 bmocogdp_c + 2e-06 btn_c + 0.004952 ca2_c + 0.000223 chor_c + 0.004952 cl_c + 0.002944 clpn160_p + 0.00229 clpn161_p + 0.00118 clpn181_p + 0.000168 coa_c + 2.4e-05 cobalt2_c + 0.008151 colipa_e + 0.129799 ctp_c + 0.000674 cu2_c + 0.088988 cys__L_c + 0.024805 datp_c + 0.025612 dctp_c + 0.025612 dgtp_c + 0.024805 dttp_c + 0.000223 enter_c + 0.000223 fad_c + 0.006388 fe2_c + 0.007428 fe3_c + 0.255712 gln__L_c + 0.255712 glu__L_c + 0.595297 gly_c + 0.154187 glycogen_c + 0.000223 gthrd_c + 0.209121 gtp_c + 48.752916 h2o_c + 0.000223 hemeO_c + 0.092056 his__L_c + 0.282306 ile__L_c + 0.18569 k_c + 0.437778 leu__L_c + 3e-06 lipopb_c + 0.333448 lys__L_c + 3.1e-05 malcoa_c + 0.149336 met__L_c + 0.008253 mg2_c + 0.000223 mlthf_c + 0.000658 mn2_c + 7e-06 mobd_c + 7e-06 mococdp_c + 7e-06 mocogdp_c + 0.000223 mql8_c + 0.001345 murein3p3p_p + 0.000605 murein3px4p_p + 0.005381 murein4p4p_p + 0.005448 murein4px4p_p + 0.000673 murein4px4px4p_p + 0.001787 nad_c + 4.5e-05 nadh_c + 0.000112 nadp_c + 0.000335 nadph_c + 0.012379 nh4_c + 0.000307 ni2_c + 0.012366 pe160_c + 0.031798 pe160_p + 0.009618 pe161_c + 0.024732 pe161_p + 0.004957 pe181_c + 0.012747 pe181_p + 0.005707 pg160_c + 0.004892 pg160_p + 0.004439 pg161_c + 0.003805 pg161_p + 0.002288 pg181_c + 0.001961 pg181_p + 0.180021 phe__L_c + 0.000223 pheme_c + 0.214798 pro__L_c + 0.03327 ptrc_c + 0.000223 pydx5p_c + 0.000223 q8h2_c + 0.000223 ribflv_c + 0.209684 ser__L_c + 0.000223 sheme_c + 0.004126 so4_c + 0.006744 spmd_c + 9.8e-05 succoa_c + 0.000223 thf_c + 0.000223 thmpp_c + 0.246506 thr__L_c + 0.055234 trp__L_c + 0.133993 tyr__L_c + 5.5e-05 udcpdp_c + 0.140101 utp_c + 0.411184 val__L_c + 0.000324 zn2_c --> 53.95 adp_c + 53.95 h_c + 53.945874 pi_c + 0.749831 ppi_c\n"
     ]
    }
   ],
   "source": [
    "for rxn in model.metabolites.get_by_id(\"atp_c\").reactions:\n",
    "    if \"BIOMASS\" in rxn.id:\n",
    "        print( rxn )"
   ]
  },
  {
   "cell_type": "markdown",
   "metadata": {
    "slideshow": {
     "slide_type": "slide"
    }
   },
   "source": [
    "# Simulación de flujos metabólicos\n",
    "\n",
    "Para simular los flujos metabólicos utilizando FBA (optimizamos la velocidad de producción de biomasa:"
   ]
  },
  {
   "cell_type": "code",
   "execution_count": 74,
   "metadata": {
    "slideshow": {
     "slide_type": "slide"
    }
   },
   "outputs": [
    {
     "name": "stdout",
     "output_type": "stream",
     "text": [
      "Objective\n",
      "=========\n",
      "1.0 BIOMASS_Ec_iJO1366_core_53p95M = 0.9823718127269786\n",
      "\n",
      "Uptake\n",
      "------\n",
      "Metabolite     Reaction      Flux  C-Number  C-Flux\n",
      "     ca2_e     EX_ca2_e  0.005113         0   0.00%\n",
      "      cl_e      EX_cl_e  0.005113         0   0.00%\n",
      " cobalt2_e EX_cobalt2_e 2.456E-05         0   0.00%\n",
      "     cu2_e     EX_cu2_e 0.0006965         0   0.00%\n",
      "     fe2_e     EX_fe2_e   0.01578         0   0.00%\n",
      "  glc__D_e  EX_glc__D_e        10         6 100.00%\n",
      "       k_e       EX_k_e    0.1918         0   0.00%\n",
      "     mg2_e     EX_mg2_e  0.008522         0   0.00%\n",
      "     mn2_e     EX_mn2_e 0.0006788         0   0.00%\n",
      "    mobd_e    EX_mobd_e 0.0001267         0   0.00%\n",
      "     nh4_e     EX_nh4_e     10.61         0   0.00%\n",
      "     ni2_e     EX_ni2_e 0.0003173         0   0.00%\n",
      "      o2_e      EX_o2_e     17.58         0   0.00%\n",
      "      pi_e      EX_pi_e    0.9476         0   0.00%\n",
      "     so4_e     EX_so4_e    0.2478         0   0.00%\n",
      "     zn2_e     EX_zn2_e  0.000335         0   0.00%\n",
      "\n",
      "Secretion\n",
      "---------\n",
      "Metabolite    Reaction       Flux  C-Number C-Flux\n",
      "  4crsol_c DM_4crsol_c -0.0002191         7  0.01%\n",
      "   5drib_c  DM_5drib_c  -0.000221         5  0.01%\n",
      "    amob_c   DM_amob_c -1.965E-06        15  0.00%\n",
      "  mththf_c DM_mththf_c -0.0004401         5  0.01%\n",
      "     co2_e    EX_co2_e     -19.68         1 99.98%\n",
      "     h2o_e    EX_h2o_e     -45.62         0  0.00%\n",
      "       h_e      EX_h_e     -9.026         0  0.00%\n",
      "    meoh_e   EX_meoh_e -1.965E-06         1  0.00%\n",
      "\n",
      "Maximize\n",
      "1.0*BIOMASS_Ec_iJO1366_core_53p95M - 1.0*BIOMASS_Ec_iJO1366_core_53p95M_reverse_5c8b1\n"
     ]
    }
   ],
   "source": [
    "\n",
    "model = cobra.test.create_test_model(\"ecoli\")\n",
    "solution=model.optimize()\n",
    "print( model.summary() )\n",
    "print( model.objective )"
   ]
  },
  {
   "cell_type": "code",
   "execution_count": 54,
   "metadata": {
    "slideshow": {
     "slide_type": "slide"
    }
   },
   "outputs": [
    {
     "name": "stdout",
     "output_type": "stream",
     "text": [
      "Maximize\n",
      "1.0*BIOMASS_Ec_iJO1366_core_53p95M - 1.0*BIOMASS_Ec_iJO1366_core_53p95M_reverse_5c8b1\n"
     ]
    }
   ],
   "source": [
    "print( model.objective )"
   ]
  },
  {
   "cell_type": "code",
   "execution_count": 62,
   "metadata": {},
   "outputs": [
    {
     "data": {
      "text/plain": [
       "{'EX_ca2_e': 1000.0,\n",
       " 'EX_cbl1_e': 0.01,\n",
       " 'EX_cl_e': 1000.0,\n",
       " 'EX_co2_e': 1000.0,\n",
       " 'EX_cobalt2_e': 1000.0,\n",
       " 'EX_cu2_e': 1000.0,\n",
       " 'EX_fe2_e': 1000.0,\n",
       " 'EX_fe3_e': 1000.0,\n",
       " 'EX_glc__D_e': 10.0,\n",
       " 'EX_h_e': 1000.0,\n",
       " 'EX_h2o_e': 1000.0,\n",
       " 'EX_k_e': 1000.0,\n",
       " 'EX_mg2_e': 1000.0,\n",
       " 'EX_mn2_e': 1000.0,\n",
       " 'EX_mobd_e': 1000.0,\n",
       " 'EX_na1_e': 1000.0,\n",
       " 'EX_nh4_e': 1000.0,\n",
       " 'EX_ni2_e': 1000.0,\n",
       " 'EX_o2_e': 1000.0,\n",
       " 'EX_pi_e': 1000.0,\n",
       " 'EX_sel_e': 1000.0,\n",
       " 'EX_slnt_e': 1000.0,\n",
       " 'EX_so4_e': 1000.0,\n",
       " 'EX_tungs_e': 1000.0,\n",
       " 'EX_zn2_e': 1000.0}"
      ]
     },
     "execution_count": 62,
     "metadata": {},
     "output_type": "execute_result"
    }
   ],
   "source": [
    "model.medium"
   ]
  },
  {
   "cell_type": "code",
   "execution_count": 63,
   "metadata": {
    "slideshow": {
     "slide_type": "slide"
    }
   },
   "outputs": [],
   "source": [
    "model.objective=model.reactions.get_by_id(\"EX_h_e\")"
   ]
  },
  {
   "cell_type": "code",
   "execution_count": 64,
   "metadata": {
    "slideshow": {
     "slide_type": "fragment"
    }
   },
   "outputs": [
    {
     "name": "stdout",
     "output_type": "stream",
     "text": [
      "Maximize\n",
      "1.0*EX_h_e - 1.0*EX_h_e_reverse_3e0c5\n"
     ]
    },
    {
     "data": {
      "text/html": [
       "<h3>Objective</h3><p>1.0 EX_h_e = 104.98947368421055</p><h4>Uptake</h4><table border=\"1\" class=\"dataframe\">\n",
       "  <thead>\n",
       "    <tr style=\"text-align: right;\">\n",
       "      <th>Metabolite</th>\n",
       "      <th>Reaction</th>\n",
       "      <th>Flux</th>\n",
       "      <th>C-Number</th>\n",
       "      <th>C-Flux</th>\n",
       "    </tr>\n",
       "  </thead>\n",
       "  <tbody>\n",
       "    <tr>\n",
       "      <td>co2_e</td>\n",
       "      <td>EX_co2_e</td>\n",
       "      <td>20</td>\n",
       "      <td>1</td>\n",
       "      <td>25.00%</td>\n",
       "    </tr>\n",
       "    <tr>\n",
       "      <td>fe3_e</td>\n",
       "      <td>EX_fe3_e</td>\n",
       "      <td>24.99</td>\n",
       "      <td>0</td>\n",
       "      <td>0.00%</td>\n",
       "    </tr>\n",
       "    <tr>\n",
       "      <td>glc__D_e</td>\n",
       "      <td>EX_glc__D_e</td>\n",
       "      <td>10</td>\n",
       "      <td>6</td>\n",
       "      <td>75.00%</td>\n",
       "    </tr>\n",
       "    <tr>\n",
       "      <td>h2o_e</td>\n",
       "      <td>EX_h2o_e</td>\n",
       "      <td>32.49</td>\n",
       "      <td>0</td>\n",
       "      <td>0.00%</td>\n",
       "    </tr>\n",
       "    <tr>\n",
       "      <td>o2_e</td>\n",
       "      <td>EX_o2_e</td>\n",
       "      <td>13.75</td>\n",
       "      <td>0</td>\n",
       "      <td>0.00%</td>\n",
       "    </tr>\n",
       "  </tbody>\n",
       "</table><h4>Secretion</h4><table border=\"1\" class=\"dataframe\">\n",
       "  <thead>\n",
       "    <tr style=\"text-align: right;\">\n",
       "      <th>Metabolite</th>\n",
       "      <th>Reaction</th>\n",
       "      <th>Flux</th>\n",
       "      <th>C-Number</th>\n",
       "      <th>C-Flux</th>\n",
       "    </tr>\n",
       "  </thead>\n",
       "  <tbody>\n",
       "    <tr>\n",
       "      <td>fe2_e</td>\n",
       "      <td>EX_fe2_e</td>\n",
       "      <td>-24.99</td>\n",
       "      <td>0</td>\n",
       "      <td>0.00%</td>\n",
       "    </tr>\n",
       "    <tr>\n",
       "      <td>for_e</td>\n",
       "      <td>EX_for_e</td>\n",
       "      <td>-80</td>\n",
       "      <td>1</td>\n",
       "      <td>100.00%</td>\n",
       "    </tr>\n",
       "    <tr>\n",
       "      <td>h_e</td>\n",
       "      <td>EX_h_e</td>\n",
       "      <td>-105</td>\n",
       "      <td>0</td>\n",
       "      <td>0.00%</td>\n",
       "    </tr>\n",
       "  </tbody>\n",
       "</table>"
      ],
      "text/plain": [
       "<cobra.summary.model_summary.ModelSummary at 0x7f0099b24940>"
      ]
     },
     "execution_count": 64,
     "metadata": {},
     "output_type": "execute_result"
    }
   ],
   "source": [
    "print( model.objective )\n",
    "solution2 = model.optimize()\n",
    "model.summary()"
   ]
  },
  {
   "cell_type": "markdown",
   "metadata": {
    "slideshow": {
     "slide_type": "slide"
    }
   },
   "source": [
    "## Visualización de los resultados\n",
    "\n",
    "\n",
    "Para visualizar los resultados usaremos la herramienta [Escher](https://escher.readthedocs.io/en/latest/index.html), la cual puedes instalar siguiendo estas [instrucciones](https://anaconda.org/BjornFJohansson/escher)\n",
    "\n",
    "\n",
    "Para instalar ```escher``` debes abrir el terminal de anaconda (si usas Windowns, busca Anaconda Prompt ) y escribir en el siguiente comando:\n",
    "\n",
    "```python\n",
    "pip install escher --user\n",
    "```"
   ]
  },
  {
   "cell_type": "code",
   "execution_count": 65,
   "metadata": {
    "slideshow": {
     "slide_type": "slide"
    }
   },
   "outputs": [],
   "source": [
    "import escher\n",
    "from escher import Builder"
   ]
  },
  {
   "cell_type": "code",
   "execution_count": 66,
   "metadata": {
    "slideshow": {
     "slide_type": "fragment"
    }
   },
   "outputs": [
    {
     "name": "stdout",
     "output_type": "stream",
     "text": [
      "Downloading Map from https://escher.github.io/1-0-0/6/maps/Escherichia%20coli/e_coli_core.Core%20metabolism.json\n",
      "Downloading Model from https://escher.github.io/1-0-0/6/models/Escherichia%20coli/e_coli_core.json\n"
     ]
    }
   ],
   "source": [
    "# VISUALIZATION OF RESULTS\n",
    "builder = Builder(\n",
    "    map_name='e_coli_core.Core metabolism',\n",
    "    model_name='e_coli_core',\n",
    ")"
   ]
  },
  {
   "cell_type": "code",
   "execution_count": 67,
   "metadata": {
    "slideshow": {
     "slide_type": "slide"
    }
   },
   "outputs": [],
   "source": [
    "builder.reaction_data = solution.fluxes"
   ]
  },
  {
   "cell_type": "code",
   "execution_count": 68,
   "metadata": {
    "slideshow": {
     "slide_type": "slide"
    }
   },
   "outputs": [
    {
     "data": {
      "application/vnd.jupyter.widget-view+json": {
       "model_id": "4cbe488779454b94be436f764a023070",
       "version_major": 2,
       "version_minor": 0
      },
      "text/plain": [
       "Builder(reaction_data={'DM_4crsol_c': 0.00021906891423811625, 'DM_5drib_c': 0.0002210336578635664, 'DM_aacald_…"
      ]
     },
     "metadata": {},
     "output_type": "display_data"
    }
   ],
   "source": [
    "builder"
   ]
  },
  {
   "cell_type": "code",
   "execution_count": 75,
   "metadata": {},
   "outputs": [],
   "source": [
    "cobra.io.save_json_model(model, \"test.json\")\n"
   ]
  },
  {
   "cell_type": "markdown",
   "metadata": {
    "slideshow": {
     "slide_type": "slide"
    }
   },
   "source": [
    "## Ejercicio\n",
    "\n",
    "Simula y los flujos metabólicos de *E. coli* cuando:\n",
    "    \n",
    "1. El flujo de consumo de glucosa (\"EX_glc__D_e\") es igual a -2 [mmol/gDW/h]\n",
    "2. El limite inferior para el flujo de consumo de oxigeno (\"EX_o2_e\") es igual a -10 [mmol/gDW/h]\n",
    "\n",
    "En cada caso ilustra la distribución de flujos usando ```escher```"
   ]
  },
  {
   "cell_type": "code",
   "execution_count": 80,
   "metadata": {
    "slideshow": {
     "slide_type": "slide"
    }
   },
   "outputs": [
    {
     "data": {
      "text/plain": [
       "(-2, -2)"
      ]
     },
     "execution_count": 80,
     "metadata": {},
     "output_type": "execute_result"
    }
   ],
   "source": [
    "model = cobra.test.create_test_model(\"ecoli\")\n",
    "\n",
    "model.reactions.get_by_id(\"EX_glc__D_e\").bounds\n",
    "model.reactions.get_by_id(\"EX_glc__D_e\").bounds=(-2,-2)\n",
    "model.reactions.get_by_id(\"EX_glc__D_e\").bounds"
   ]
  },
  {
   "cell_type": "code",
   "execution_count": 77,
   "metadata": {},
   "outputs": [
    {
     "data": {
      "text/plain": [
       "(-2, -2)"
      ]
     },
     "execution_count": 77,
     "metadata": {},
     "output_type": "execute_result"
    }
   ],
   "source": [
    "model.reactions.get_by_id(\"EX_glc__D_e\").bounds=(-2,-2)\n",
    "model.reactions.get_by_id(\"EX_glc__D_e\").bounds"
   ]
  },
  {
   "cell_type": "code",
   "execution_count": 81,
   "metadata": {},
   "outputs": [],
   "source": [
    "solution1=model.optimize()"
   ]
  },
  {
   "cell_type": "code",
   "execution_count": 82,
   "metadata": {},
   "outputs": [
    {
     "data": {
      "text/html": [
       "<h3>Objective</h3><p>1.0 BIOMASS_Ec_iJO1366_core_53p95M = 0.18602227486090356</p><h4>Uptake</h4><table border=\"1\" class=\"dataframe\">\n",
       "  <thead>\n",
       "    <tr style=\"text-align: right;\">\n",
       "      <th>Metabolite</th>\n",
       "      <th>Reaction</th>\n",
       "      <th>Flux</th>\n",
       "      <th>C-Number</th>\n",
       "      <th>C-Flux</th>\n",
       "    </tr>\n",
       "  </thead>\n",
       "  <tbody>\n",
       "    <tr>\n",
       "      <td>ca2_e</td>\n",
       "      <td>EX_ca2_e</td>\n",
       "      <td>0.0009682</td>\n",
       "      <td>0</td>\n",
       "      <td>0.00%</td>\n",
       "    </tr>\n",
       "    <tr>\n",
       "      <td>cl_e</td>\n",
       "      <td>EX_cl_e</td>\n",
       "      <td>0.0009682</td>\n",
       "      <td>0</td>\n",
       "      <td>0.00%</td>\n",
       "    </tr>\n",
       "    <tr>\n",
       "      <td>cobalt2_e</td>\n",
       "      <td>EX_cobalt2_e</td>\n",
       "      <td>4.651E-06</td>\n",
       "      <td>0</td>\n",
       "      <td>0.00%</td>\n",
       "    </tr>\n",
       "    <tr>\n",
       "      <td>cu2_e</td>\n",
       "      <td>EX_cu2_e</td>\n",
       "      <td>0.0001319</td>\n",
       "      <td>0</td>\n",
       "      <td>0.00%</td>\n",
       "    </tr>\n",
       "    <tr>\n",
       "      <td>fe2_e</td>\n",
       "      <td>EX_fe2_e</td>\n",
       "      <td>0.002988</td>\n",
       "      <td>0</td>\n",
       "      <td>0.00%</td>\n",
       "    </tr>\n",
       "    <tr>\n",
       "      <td>glc__D_e</td>\n",
       "      <td>EX_glc__D_e</td>\n",
       "      <td>2</td>\n",
       "      <td>6</td>\n",
       "      <td>100.00%</td>\n",
       "    </tr>\n",
       "    <tr>\n",
       "      <td>k_e</td>\n",
       "      <td>EX_k_e</td>\n",
       "      <td>0.03631</td>\n",
       "      <td>0</td>\n",
       "      <td>0.00%</td>\n",
       "    </tr>\n",
       "    <tr>\n",
       "      <td>mg2_e</td>\n",
       "      <td>EX_mg2_e</td>\n",
       "      <td>0.001614</td>\n",
       "      <td>0</td>\n",
       "      <td>0.00%</td>\n",
       "    </tr>\n",
       "    <tr>\n",
       "      <td>mn2_e</td>\n",
       "      <td>EX_mn2_e</td>\n",
       "      <td>0.0001285</td>\n",
       "      <td>0</td>\n",
       "      <td>0.00%</td>\n",
       "    </tr>\n",
       "    <tr>\n",
       "      <td>mobd_e</td>\n",
       "      <td>EX_mobd_e</td>\n",
       "      <td>2.4E-05</td>\n",
       "      <td>0</td>\n",
       "      <td>0.00%</td>\n",
       "    </tr>\n",
       "    <tr>\n",
       "      <td>nh4_e</td>\n",
       "      <td>EX_nh4_e</td>\n",
       "      <td>2.009</td>\n",
       "      <td>0</td>\n",
       "      <td>0.00%</td>\n",
       "    </tr>\n",
       "    <tr>\n",
       "      <td>ni2_e</td>\n",
       "      <td>EX_ni2_e</td>\n",
       "      <td>6.009E-05</td>\n",
       "      <td>0</td>\n",
       "      <td>0.00%</td>\n",
       "    </tr>\n",
       "    <tr>\n",
       "      <td>o2_e</td>\n",
       "      <td>EX_o2_e</td>\n",
       "      <td>3.967</td>\n",
       "      <td>0</td>\n",
       "      <td>0.00%</td>\n",
       "    </tr>\n",
       "    <tr>\n",
       "      <td>pi_e</td>\n",
       "      <td>EX_pi_e</td>\n",
       "      <td>0.1794</td>\n",
       "      <td>0</td>\n",
       "      <td>0.00%</td>\n",
       "    </tr>\n",
       "    <tr>\n",
       "      <td>so4_e</td>\n",
       "      <td>EX_so4_e</td>\n",
       "      <td>0.04692</td>\n",
       "      <td>0</td>\n",
       "      <td>0.00%</td>\n",
       "    </tr>\n",
       "    <tr>\n",
       "      <td>zn2_e</td>\n",
       "      <td>EX_zn2_e</td>\n",
       "      <td>6.343E-05</td>\n",
       "      <td>0</td>\n",
       "      <td>0.00%</td>\n",
       "    </tr>\n",
       "  </tbody>\n",
       "</table><h4>Secretion</h4><table border=\"1\" class=\"dataframe\">\n",
       "  <thead>\n",
       "    <tr style=\"text-align: right;\">\n",
       "      <th>Metabolite</th>\n",
       "      <th>Reaction</th>\n",
       "      <th>Flux</th>\n",
       "      <th>C-Number</th>\n",
       "      <th>C-Flux</th>\n",
       "    </tr>\n",
       "  </thead>\n",
       "  <tbody>\n",
       "    <tr>\n",
       "      <td>4crsol_c</td>\n",
       "      <td>DM_4crsol_c</td>\n",
       "      <td>-4.148E-05</td>\n",
       "      <td>7</td>\n",
       "      <td>0.01%</td>\n",
       "    </tr>\n",
       "    <tr>\n",
       "      <td>5drib_c</td>\n",
       "      <td>DM_5drib_c</td>\n",
       "      <td>-4.186E-05</td>\n",
       "      <td>5</td>\n",
       "      <td>0.00%</td>\n",
       "    </tr>\n",
       "    <tr>\n",
       "      <td>amob_c</td>\n",
       "      <td>DM_amob_c</td>\n",
       "      <td>-3.72E-07</td>\n",
       "      <td>15</td>\n",
       "      <td>0.00%</td>\n",
       "    </tr>\n",
       "    <tr>\n",
       "      <td>mththf_c</td>\n",
       "      <td>DM_mththf_c</td>\n",
       "      <td>-8.334E-05</td>\n",
       "      <td>5</td>\n",
       "      <td>0.01%</td>\n",
       "    </tr>\n",
       "    <tr>\n",
       "      <td>co2_e</td>\n",
       "      <td>EX_co2_e</td>\n",
       "      <td>-4.364</td>\n",
       "      <td>1</td>\n",
       "      <td>99.98%</td>\n",
       "    </tr>\n",
       "    <tr>\n",
       "      <td>h2o_e</td>\n",
       "      <td>EX_h2o_e</td>\n",
       "      <td>-9.277</td>\n",
       "      <td>0</td>\n",
       "      <td>0.00%</td>\n",
       "    </tr>\n",
       "    <tr>\n",
       "      <td>h_e</td>\n",
       "      <td>EX_h_e</td>\n",
       "      <td>-1.709</td>\n",
       "      <td>0</td>\n",
       "      <td>0.00%</td>\n",
       "    </tr>\n",
       "    <tr>\n",
       "      <td>meoh_e</td>\n",
       "      <td>EX_meoh_e</td>\n",
       "      <td>-3.72E-07</td>\n",
       "      <td>1</td>\n",
       "      <td>0.00%</td>\n",
       "    </tr>\n",
       "  </tbody>\n",
       "</table>"
      ],
      "text/plain": [
       "<cobra.summary.model_summary.ModelSummary at 0x7f00a2e86cd0>"
      ]
     },
     "execution_count": 82,
     "metadata": {},
     "output_type": "execute_result"
    }
   ],
   "source": [
    "model.summary()"
   ]
  },
  {
   "cell_type": "code",
   "execution_count": 83,
   "metadata": {},
   "outputs": [
    {
     "data": {
      "text/plain": [
       "(-10, 1000)"
      ]
     },
     "execution_count": 83,
     "metadata": {},
     "output_type": "execute_result"
    }
   ],
   "source": [
    "model = cobra.test.create_test_model(\"ecoli\")\n",
    "\n",
    "model.reactions.get_by_id(\"EX_o2_e\").bounds\n",
    "model.reactions.get_by_id(\"EX_o2_e\").bounds=(-10,1000)\n",
    "model.reactions.get_by_id(\"EX_o2_e\").bounds"
   ]
  },
  {
   "cell_type": "code",
   "execution_count": 84,
   "metadata": {},
   "outputs": [
    {
     "data": {
      "text/html": [
       "<h3>Objective</h3><p>1.0 BIOMASS_Ec_iJO1366_core_53p95M = 0.7108706214472107</p><h4>Uptake</h4><table border=\"1\" class=\"dataframe\">\n",
       "  <thead>\n",
       "    <tr style=\"text-align: right;\">\n",
       "      <th>Metabolite</th>\n",
       "      <th>Reaction</th>\n",
       "      <th>Flux</th>\n",
       "      <th>C-Number</th>\n",
       "      <th>C-Flux</th>\n",
       "    </tr>\n",
       "  </thead>\n",
       "  <tbody>\n",
       "    <tr>\n",
       "      <td>ca2_e</td>\n",
       "      <td>EX_ca2_e</td>\n",
       "      <td>0.0037</td>\n",
       "      <td>0</td>\n",
       "      <td>0.00%</td>\n",
       "    </tr>\n",
       "    <tr>\n",
       "      <td>cl_e</td>\n",
       "      <td>EX_cl_e</td>\n",
       "      <td>0.0037</td>\n",
       "      <td>0</td>\n",
       "      <td>0.00%</td>\n",
       "    </tr>\n",
       "    <tr>\n",
       "      <td>cobalt2_e</td>\n",
       "      <td>EX_cobalt2_e</td>\n",
       "      <td>1.777E-05</td>\n",
       "      <td>0</td>\n",
       "      <td>0.00%</td>\n",
       "    </tr>\n",
       "    <tr>\n",
       "      <td>cu2_e</td>\n",
       "      <td>EX_cu2_e</td>\n",
       "      <td>0.000504</td>\n",
       "      <td>0</td>\n",
       "      <td>0.00%</td>\n",
       "    </tr>\n",
       "    <tr>\n",
       "      <td>fe2_e</td>\n",
       "      <td>EX_fe2_e</td>\n",
       "      <td>0.005867</td>\n",
       "      <td>0</td>\n",
       "      <td>0.00%</td>\n",
       "    </tr>\n",
       "    <tr>\n",
       "      <td>fe3_e</td>\n",
       "      <td>EX_fe3_e</td>\n",
       "      <td>0.00555</td>\n",
       "      <td>0</td>\n",
       "      <td>0.00%</td>\n",
       "    </tr>\n",
       "    <tr>\n",
       "      <td>glc__D_e</td>\n",
       "      <td>EX_glc__D_e</td>\n",
       "      <td>10</td>\n",
       "      <td>6</td>\n",
       "      <td>100.00%</td>\n",
       "    </tr>\n",
       "    <tr>\n",
       "      <td>k_e</td>\n",
       "      <td>EX_k_e</td>\n",
       "      <td>0.1388</td>\n",
       "      <td>0</td>\n",
       "      <td>0.00%</td>\n",
       "    </tr>\n",
       "    <tr>\n",
       "      <td>mg2_e</td>\n",
       "      <td>EX_mg2_e</td>\n",
       "      <td>0.006167</td>\n",
       "      <td>0</td>\n",
       "      <td>0.00%</td>\n",
       "    </tr>\n",
       "    <tr>\n",
       "      <td>mn2_e</td>\n",
       "      <td>EX_mn2_e</td>\n",
       "      <td>0.0004912</td>\n",
       "      <td>0</td>\n",
       "      <td>0.00%</td>\n",
       "    </tr>\n",
       "    <tr>\n",
       "      <td>mobd_e</td>\n",
       "      <td>EX_mobd_e</td>\n",
       "      <td>9.17E-05</td>\n",
       "      <td>0</td>\n",
       "      <td>0.00%</td>\n",
       "    </tr>\n",
       "    <tr>\n",
       "      <td>nh4_e</td>\n",
       "      <td>EX_nh4_e</td>\n",
       "      <td>7.678</td>\n",
       "      <td>0</td>\n",
       "      <td>0.00%</td>\n",
       "    </tr>\n",
       "    <tr>\n",
       "      <td>ni2_e</td>\n",
       "      <td>EX_ni2_e</td>\n",
       "      <td>0.0002296</td>\n",
       "      <td>0</td>\n",
       "      <td>0.00%</td>\n",
       "    </tr>\n",
       "    <tr>\n",
       "      <td>o2_e</td>\n",
       "      <td>EX_o2_e</td>\n",
       "      <td>10</td>\n",
       "      <td>0</td>\n",
       "      <td>0.00%</td>\n",
       "    </tr>\n",
       "    <tr>\n",
       "      <td>pi_e</td>\n",
       "      <td>EX_pi_e</td>\n",
       "      <td>0.6857</td>\n",
       "      <td>0</td>\n",
       "      <td>0.00%</td>\n",
       "    </tr>\n",
       "    <tr>\n",
       "      <td>so4_e</td>\n",
       "      <td>EX_so4_e</td>\n",
       "      <td>0.1793</td>\n",
       "      <td>0</td>\n",
       "      <td>0.00%</td>\n",
       "    </tr>\n",
       "    <tr>\n",
       "      <td>zn2_e</td>\n",
       "      <td>EX_zn2_e</td>\n",
       "      <td>0.0002424</td>\n",
       "      <td>0</td>\n",
       "      <td>0.00%</td>\n",
       "    </tr>\n",
       "  </tbody>\n",
       "</table><h4>Secretion</h4><table border=\"1\" class=\"dataframe\">\n",
       "  <thead>\n",
       "    <tr style=\"text-align: right;\">\n",
       "      <th>Metabolite</th>\n",
       "      <th>Reaction</th>\n",
       "      <th>Flux</th>\n",
       "      <th>C-Number</th>\n",
       "      <th>C-Flux</th>\n",
       "    </tr>\n",
       "  </thead>\n",
       "  <tbody>\n",
       "    <tr>\n",
       "      <td>4crsol_c</td>\n",
       "      <td>DM_4crsol_c</td>\n",
       "      <td>-0.0001585</td>\n",
       "      <td>7</td>\n",
       "      <td>0.00%</td>\n",
       "    </tr>\n",
       "    <tr>\n",
       "      <td>5drib_c</td>\n",
       "      <td>DM_5drib_c</td>\n",
       "      <td>-0.0001599</td>\n",
       "      <td>5</td>\n",
       "      <td>0.00%</td>\n",
       "    </tr>\n",
       "    <tr>\n",
       "      <td>amob_c</td>\n",
       "      <td>DM_amob_c</td>\n",
       "      <td>-1.422E-06</td>\n",
       "      <td>15</td>\n",
       "      <td>0.00%</td>\n",
       "    </tr>\n",
       "    <tr>\n",
       "      <td>mththf_c</td>\n",
       "      <td>DM_mththf_c</td>\n",
       "      <td>-0.0003185</td>\n",
       "      <td>5</td>\n",
       "      <td>0.01%</td>\n",
       "    </tr>\n",
       "    <tr>\n",
       "      <td>ac_e</td>\n",
       "      <td>EX_ac_e</td>\n",
       "      <td>-7.852</td>\n",
       "      <td>2</td>\n",
       "      <td>50.95%</td>\n",
       "    </tr>\n",
       "    <tr>\n",
       "      <td>co2_e</td>\n",
       "      <td>EX_co2_e</td>\n",
       "      <td>-7.922</td>\n",
       "      <td>1</td>\n",
       "      <td>25.70%</td>\n",
       "    </tr>\n",
       "    <tr>\n",
       "      <td>for_e</td>\n",
       "      <td>EX_for_e</td>\n",
       "      <td>-7.193</td>\n",
       "      <td>1</td>\n",
       "      <td>23.34%</td>\n",
       "    </tr>\n",
       "    <tr>\n",
       "      <td>glyclt_e</td>\n",
       "      <td>EX_glyclt_e</td>\n",
       "      <td>-0.0004756</td>\n",
       "      <td>2</td>\n",
       "      <td>0.00%</td>\n",
       "    </tr>\n",
       "    <tr>\n",
       "      <td>h2o_e</td>\n",
       "      <td>EX_h2o_e</td>\n",
       "      <td>-26.69</td>\n",
       "      <td>0</td>\n",
       "      <td>0.00%</td>\n",
       "    </tr>\n",
       "    <tr>\n",
       "      <td>h_e</td>\n",
       "      <td>EX_h_e</td>\n",
       "      <td>-21.58</td>\n",
       "      <td>0</td>\n",
       "      <td>0.00%</td>\n",
       "    </tr>\n",
       "    <tr>\n",
       "      <td>meoh_e</td>\n",
       "      <td>EX_meoh_e</td>\n",
       "      <td>-1.422E-06</td>\n",
       "      <td>1</td>\n",
       "      <td>0.00%</td>\n",
       "    </tr>\n",
       "  </tbody>\n",
       "</table>"
      ],
      "text/plain": [
       "<cobra.summary.model_summary.ModelSummary at 0x7f0099a360d0>"
      ]
     },
     "execution_count": 84,
     "metadata": {},
     "output_type": "execute_result"
    }
   ],
   "source": [
    "solution2=model.optimize()\n",
    "model.summary()"
   ]
  },
  {
   "cell_type": "code",
   "execution_count": null,
   "metadata": {},
   "outputs": [],
   "source": []
  }
 ],
 "metadata": {
  "celltoolbar": "Slideshow",
  "kernelspec": {
   "display_name": "Python 3",
   "language": "python",
   "name": "python3"
  },
  "language_info": {
   "codemirror_mode": {
    "name": "ipython",
    "version": 3
   },
   "file_extension": ".py",
   "mimetype": "text/x-python",
   "name": "python",
   "nbconvert_exporter": "python",
   "pygments_lexer": "ipython3",
   "version": "3.8.10"
  }
 },
 "nbformat": 4,
 "nbformat_minor": 4
}

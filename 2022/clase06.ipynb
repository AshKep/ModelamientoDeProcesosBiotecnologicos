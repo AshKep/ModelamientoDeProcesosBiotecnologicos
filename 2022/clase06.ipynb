{
 "cells": [
  {
   "cell_type": "markdown",
   "metadata": {
    "slideshow": {
     "slide_type": "slide"
    }
   },
   "source": [
    "# Clase 6\n",
    "\n",
    "\n",
    "\n",
    "## Contenidos\n",
    "--------------\n",
    "\n",
    "1. Bases de datos de redes metabólicas\n",
    "2. Definición de restricciones y variables adicionales"
   ]
  },
  {
   "cell_type": "markdown",
   "metadata": {
    "slideshow": {
     "slide_type": "slide"
    }
   },
   "source": [
    "# Bases de datos de redes metabólicas\n",
    "\n",
    "Hoy exploraremos el repositorio de modelos [BiGG](http://bigg.ucsd.edu/). \n",
    "\n",
    "\n",
    "Ejercicio\n",
    "------------\n",
    "\n",
    "Descarga el modelo de *Bacillus subtilis* iYO844 en formato SBML."
   ]
  },
  {
   "cell_type": "code",
   "execution_count": null,
   "metadata": {
    "slideshow": {
     "slide_type": "slide"
    }
   },
   "outputs": [],
   "source": [
    "import cobra\n",
    "# Cargamos el modelo de Bacillus subtilis\n",
    "bacilusModel=cobra.io.read_sbml_model(\"iYO844.xml\")"
   ]
  },
  {
   "cell_type": "code",
   "execution_count": null,
   "metadata": {
    "slideshow": {
     "slide_type": "slide"
    }
   },
   "outputs": [],
   "source": [
    "# Información general del modelo\n",
    "bacilusModel"
   ]
  },
  {
   "cell_type": "code",
   "execution_count": null,
   "metadata": {
    "slideshow": {
     "slide_type": "slide"
    }
   },
   "outputs": [],
   "source": [
    "# Reacciones de consumo de sustratos desde el medio de cultivo\n",
    "bacilusModel.medium"
   ]
  },
  {
   "cell_type": "code",
   "execution_count": null,
   "metadata": {
    "slideshow": {
     "slide_type": "slide"
    }
   },
   "outputs": [],
   "source": [
    "# Simular los flujos con FBA\n",
    "solution=bacilusModel.optimize()"
   ]
  },
  {
   "cell_type": "code",
   "execution_count": null,
   "metadata": {
    "slideshow": {
     "slide_type": "slide"
    }
   },
   "outputs": [],
   "source": [
    "# Resumen de la solucion\n",
    "bacilusModel.summary()"
   ]
  },
  {
   "cell_type": "markdown",
   "metadata": {
    "slideshow": {
     "slide_type": "slide"
    }
   },
   "source": [
    "## Especificando restricciones adicionales\n",
    "\n",
    "\n",
    "Supón que queremos asegurarnos que dos reaccioens tengan el mismo flujo en nuestro modelo. Podemos agregar este criterio como una restricción a nuestro modelo a través de la siguiente sintaxis:\n",
    "\n",
    "``` python\n",
    "same_flux = model.problem.Constraint(\n",
    "    model.reactions.FBA.flux_expression - model.reactions.NH4t.flux_expression,\n",
    "    lb=0,\n",
    "    ub=0)\n",
    "model.add_cons_vars(same_flux)\n",
    "```"
   ]
  },
  {
   "cell_type": "markdown",
   "metadata": {
    "slideshow": {
     "slide_type": "slide"
    }
   },
   "source": [
    "## Ejercicio\n",
    "\n",
    "\n",
    "En el modelo de *Bacillus subtilis* especifica que el consumo de oxygeno \n",
    "\n",
    "1. sea igual al consumo de glucosa. \n",
    "2. sea 3 veces el consumo de glucosa"
   ]
  },
  {
   "cell_type": "code",
   "execution_count": null,
   "metadata": {
    "slideshow": {
     "slide_type": "slide"
    }
   },
   "outputs": [],
   "source": []
  },
  {
   "cell_type": "markdown",
   "metadata": {
    "slideshow": {
     "slide_type": "slide"
    }
   },
   "source": [
    "Especificando variables adicionales\n",
    "---------------------------------------\n",
    "\n",
    "Supón que queremos medir las diferencia entre el flujo de dos reacciones. Para esto podemos crear una variable adicional ```diff```.\n",
    "\n",
    "\n",
    "```python\n",
    "difference = model.problem.Variable('difference')\n",
    "```\n",
    "\n",
    "y luego definirla como la diferencia entre las dos reacciones de interes, por ejemplo:\n",
    "\n",
    "```python\n",
    "constraint = model.problem.Constraint(\n",
    "    model.reactions.EX_glc__D_e.flux_expression -\n",
    "    model.reactions.EX_nh4_e.flux_expression - difference,\n",
    "    lb=0,\n",
    "    ub=0)\n",
    "model.add_cons_vars([difference, constraint])\n",
    "```"
   ]
  },
  {
   "cell_type": "markdown",
   "metadata": {
    "slideshow": {
     "slide_type": "slide"
    }
   },
   "source": [
    "Ejercicio\n",
    "------------\n",
    "\n",
    "En el modelo de *Bacillus subtilis* define una varibale que mida la diferencia entre los flujos de consumo de glucosa y nh4_e. "
   ]
  },
  {
   "cell_type": "code",
   "execution_count": null,
   "metadata": {
    "slideshow": {
     "slide_type": "slide"
    }
   },
   "outputs": [],
   "source": []
  }
 ],
 "metadata": {
  "celltoolbar": "Slideshow",
  "kernelspec": {
   "display_name": "Python 3",
   "language": "python",
   "name": "python3"
  },
  "language_info": {
   "codemirror_mode": {
    "name": "ipython",
    "version": 3
   },
   "file_extension": ".py",
   "mimetype": "text/x-python",
   "name": "python",
   "nbconvert_exporter": "python",
   "pygments_lexer": "ipython3",
   "version": "3.8.10"
  }
 },
 "nbformat": 4,
 "nbformat_minor": 4
}

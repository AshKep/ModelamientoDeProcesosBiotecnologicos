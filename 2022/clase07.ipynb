{
 "cells": [
  {
   "cell_type": "markdown",
   "metadata": {},
   "source": [
    "Clase 7\n",
    "===\n",
    "\n",
    "* Ajustar modelo a variables experimentales\n",
    "* Encontrar la solución más semejante a datos experimentales\n",
    "\n",
    "\n",
    "Medir calidad de las simulaciones\n",
    "--------------------------------------\n",
    "\n",
    "Si conocemos el valor de uno o varios flujos metabólicos podemos ajustar nuestro modelo a estos datos. Hay varias maneras de hacer esto, la primera es simplemente fijar el valor de los flujos como veremos a continuación. \n",
    "\n",
    "A modo de ejemplo usaremos *Saccharomyces cerevisae* iMM904 [(descargar aquí)](http://bigg.ucsd.edu/models/iMM904) y los flujos experimentales compilados por [García et al 2012](https://journals.plos.org/plosone/article?id=10.1371%2Fjournal.pone.0043006)\n"
   ]
  },
  {
   "cell_type": "code",
   "execution_count": null,
   "metadata": {},
   "outputs": [],
   "source": [
    "# Let's import the yeast model\n",
    "import cobra\n",
    "model = cobra.io.read_sbml_model(\"iMM904.xml\")"
   ]
  },
  {
   "cell_type": "code",
   "execution_count": null,
   "metadata": {},
   "outputs": [],
   "source": [
    "# And check the solution using default parameters\n",
    "solution=model.optimize()\n",
    "model.summary()"
   ]
  },
  {
   "cell_type": "code",
   "execution_count": null,
   "metadata": {},
   "outputs": [],
   "source": [
    "# Now, let's modify the ethanol flux\n",
    "# First, lets find the reactions associated with ethanol\n",
    "import re\n",
    "\n",
    "def buscarMetabolito(nombreMetabolite):\n",
    "    metabolites=[]\n",
    "    for metabolite in model.metabolites:\n",
    "        if re.match(nombreMetabolite,metabolite.name,re.IGNORECASE):# and re.match(\"_e\",metabolite.name): \n",
    "            metabolites.append(metabolite)\n",
    "    if len(metabolites)==0:\n",
    "        print( \"Not found metabolite\" )\n",
    "        return None\n",
    "    else: #print \"2 lets find the reactions associated with the name\"\n",
    "        for metabolite in metabolites:\n",
    "            print( \"==================================\")\n",
    "            print( metabolite.name, metabolite.id)\n",
    "            print( \"==================================\")\n",
    "            for reaction in model.metabolites.get_by_id(metabolite.id).reactions:\n",
    "                print( reaction )\n",
    "result=buscarMetabolito(\"^ethanol$\")"
   ]
  },
  {
   "cell_type": "code",
   "execution_count": null,
   "metadata": {},
   "outputs": [],
   "source": [
    "# Fix the ethanol reaction flux and see how it affects the solution\n",
    "# Fix a range for the ethanol reaction flux around +/-10% of the observed value\n",
    "value=3.632\n",
    "model.reactions.get_by_id(\"EX_etoh_e\").upper_bound=value+0.1*value \n",
    "model.reactions.get_by_id(\"EX_etoh_e\").lower_bound=value-0.1*value\n",
    "\n",
    "solution=model.optimize()\n",
    "model.summary()\n"
   ]
  },
  {
   "cell_type": "markdown",
   "metadata": {},
   "source": [
    "Es posible que errores de medición resulten en datos de flujos metabólicos que no son estequiometricamente compatibles. Para estos casos, una alternativa es fijar un rango de valores en lugar de un valor exacto. Por ejemplo:"
   ]
  },
  {
   "cell_type": "code",
   "execution_count": null,
   "metadata": {},
   "outputs": [],
   "source": []
  },
  {
   "cell_type": "markdown",
   "metadata": {},
   "source": [
    "Ejercicio 1\n",
    "---------\n",
    "\n",
    "Usando los valores experimentales compilados por [García et al 2012](https://journals.plos.org/plosone/article?id=10.1371%2Fjournal.pone.0043006) desde la referencia [20] (ver la columna **References** en Table_S1.doc):\n",
    "\n",
    "1. Fija la reacción de consumo de glucosa, succinato, ethanol, y piruvato a datos experimentales (haciendo 1 esto debería ser trivial)."
   ]
  },
  {
   "cell_type": "markdown",
   "metadata": {},
   "source": [
    "Evaluación de la calidad de las predicciones\n",
    "------------------\n",
    "\n",
    "Para evaluar que tan cercana es la simulación de FBA a los datos experimentales podemos usar la norma Euclideana la cual mide la distancia entre dos puntos en el hiperespacio:\n",
    "    \n",
    "\\begin{align}\n",
    "    \\mbox{Norma Euclideana}=\\sum_i (x_i-y_i)^2\n",
    "\\end{align}\n",
    "\n",
    "La cual puede ser escrita usando notación vectorial:\n",
    "\n",
    "\\begin{align}\n",
    "    \\mbox{Norma Euclideana} = (x-y)^T(x-y)\n",
    "\\end{align}\n",
    "\n",
    "\n",
    "Ejercicio 2\n",
    "-----------\n",
    "\n",
    "Escribe una función para determinar la distancia entre los datos simulados y los experimentales (usa los datos de la Ref 20) usando la norma Euclideana como métrica.\n"
   ]
  },
  {
   "cell_type": "code",
   "execution_count": null,
   "metadata": {},
   "outputs": [],
   "source": []
  },
  {
   "cell_type": "code",
   "execution_count": null,
   "metadata": {},
   "outputs": [],
   "source": []
  }
 ],
 "metadata": {
  "kernelspec": {
   "display_name": "Python 3",
   "language": "python",
   "name": "python3"
  },
  "language_info": {
   "codemirror_mode": {
    "name": "ipython",
    "version": 3
   },
   "file_extension": ".py",
   "mimetype": "text/x-python",
   "name": "python",
   "nbconvert_exporter": "python",
   "pygments_lexer": "ipython3",
   "version": "3.8.10"
  }
 },
 "nbformat": 4,
 "nbformat_minor": 2
}

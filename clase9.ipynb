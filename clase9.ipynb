{
 "cells": [
  {
   "cell_type": "markdown",
   "metadata": {},
   "source": [
    "Clase 9\n",
    "======\n",
    "\n",
    "\n",
    "Revisión de tarea optativa\n",
    "--------------\n",
    "\n",
    "1. Computa FBA de la red de *Escherichia coli* usando los valores por defecto de consumo de glucos y oxigeno.\n",
    "2. Realiza FVA para la solución anterior.\n",
    "3. Computa 100 muestras aleatorias del espacio de soluciones alternativas del punto 1, y luego calcula el valor promedio de todas sus reacciones.\n",
    "4. Grafica los resultados usando ```escher```. En este caso, para cada flujo se debe calcular el valor promedio de las 100 muestras."
   ]
  },
  {
   "cell_type": "code",
   "execution_count": 1,
   "metadata": {},
   "outputs": [],
   "source": [
    "# 1. Calcular los flujos de E coli usando FBA\n",
    "import cobra.test\n",
    "model = cobra.test.create_test_model(\"ecoli\")"
   ]
  },
  {
   "cell_type": "code",
   "execution_count": 2,
   "metadata": {},
   "outputs": [],
   "source": [
    "# 3. Flux sampling\n",
    "from cobra.sampling import sample \n",
    "s=sample(model,100) \n"
   ]
  },
  {
   "cell_type": "code",
   "execution_count": 3,
   "metadata": {},
   "outputs": [],
   "source": [
    "# Para obtener el promedio de todas las reacciones\n",
    "meanFluxes=s.mean(axis=0)"
   ]
  },
  {
   "cell_type": "code",
   "execution_count": 4,
   "metadata": {},
   "outputs": [
    {
     "name": "stdout",
     "output_type": "stream",
     "text": [
      "Downloading Map from https://escher.github.io/1-0-0/6/maps/Escherichia%20coli/e_coli_core.Core%20metabolism.json\n",
      "Downloading Model from https://escher.github.io/1-0-0/6/models/Escherichia%20coli/e_coli_core.json\n"
     ]
    },
    {
     "data": {
      "application/vnd.jupyter.widget-view+json": {
       "model_id": "1c9a0b2778c74bd38904b12a63d23a49",
       "version_major": 2,
       "version_minor": 0
      },
      "text/plain": [
       "Builder(reaction_data={'DM_4crsol_c': 2.767893225024843e-06, 'DM_5drib_c': 0.004521004913532181, 'DM_aacald_c'…"
      ]
     },
     "metadata": {},
     "output_type": "display_data"
    }
   ],
   "source": [
    "import escher\n",
    "from escher import Builder\n",
    "# VISUALIZATION OF RESULTS\n",
    "builder = Builder(\n",
    "    map_name='e_coli_core.Core metabolism',\n",
    "    model_name='e_coli_core',\n",
    ")\n",
    "builder.reaction_data = meanFluxes\n",
    "builder"
   ]
  },
  {
   "cell_type": "markdown",
   "metadata": {},
   "source": [
    "Descargar modelos desde BiGG\n",
    "-------------------\n",
    "\n",
    "Hoy exploraremos el repositorio de modelos [BiGG](http://bigg.ucsd.edu/). \n",
    "\n",
    "\n",
    "Ejercicio\n",
    "------------\n",
    "\n",
    "Descarga el modelo de *Bacillus subtilis* iYO844 en formato SBML."
   ]
  },
  {
   "cell_type": "code",
   "execution_count": 12,
   "metadata": {},
   "outputs": [],
   "source": [
    "# Cargamos el modelo de Bacillus subtilis\n",
    "bacilusModel=cobra.io.read_sbml_model(\"iYO844.xml\")"
   ]
  },
  {
   "cell_type": "code",
   "execution_count": null,
   "metadata": {},
   "outputs": [],
   "source": [
    "# Información general del modelo\n",
    "bacilusModel"
   ]
  },
  {
   "cell_type": "code",
   "execution_count": null,
   "metadata": {},
   "outputs": [],
   "source": [
    "# Reacciones de consumo de sustratos desde el medio de cultivo\n",
    "bacilusModel.medium"
   ]
  },
  {
   "cell_type": "code",
   "execution_count": 15,
   "metadata": {},
   "outputs": [],
   "source": [
    "# Simular los flujos con FBA\n",
    "solution=bacilusModel.optimize()"
   ]
  },
  {
   "cell_type": "code",
   "execution_count": null,
   "metadata": {},
   "outputs": [],
   "source": [
    "# Resumen de la solucion\n",
    "bacilusModel.summary()"
   ]
  },
  {
   "cell_type": "markdown",
   "metadata": {},
   "source": [
    "Especificando restricciones adicionales\n",
    "---------------------------------------\n",
    "\n",
    "\n",
    "Supón que queremos asegurarnos que dos reaccioens tengan el mismo flujo en nuestro modelo. Podemos agregar este criterio como una restricción a nuestro modelo a través de la siguiente sintaxis:\n",
    "\n",
    "```python\n",
    "same_flux = model.problem.Constraint(\n",
    "    model.reactions.FBA.flux_expression - model.reactions.NH4t.flux_expression,\n",
    "    lb=0,\n",
    "    ub=0)\n",
    "model.add_cons_vars(same_flux)\n",
    "```\n",
    "\n",
    "Ejercicio\n",
    "------------\n",
    "\n",
    "En el modelo de *Bacillus subtilis* especifica que el consumo de oxygeno \n",
    "\n",
    "1. sea igual al consumo de glucosa. \n",
    "2. sea 3 veces el consumo de glucosa\n"
   ]
  },
  {
   "cell_type": "code",
   "execution_count": null,
   "metadata": {},
   "outputs": [],
   "source": []
  },
  {
   "cell_type": "code",
   "execution_count": null,
   "metadata": {},
   "outputs": [],
   "source": []
  },
  {
   "cell_type": "markdown",
   "metadata": {},
   "source": [
    "Especificando variables adicionales\n",
    "---------------------------------------\n",
    "\n",
    "Supón que queremos medir las diferencia entre el flujo de dos reacciones. Para esto podemos crear una variable adicional ```diff```.\n",
    "\n",
    "\n",
    "```python\n",
    "difference = model.problem.Variable('difference')\n",
    "```\n",
    "\n",
    "y luego definirla como la diferencia entre las dos reacciones de interes, por ejemplo:\n",
    "\n",
    "```python\n",
    "constraint = model.problem.Constraint(\n",
    "    model.reactions.EX_glc__D_e.flux_expression -\n",
    "    model.reactions.EX_nh4_e.flux_expression - difference,\n",
    "    lb=0,\n",
    "    ub=0)\n",
    "model.add_cons_vars([difference, constraint])\n",
    "```\n",
    "\n",
    "\n",
    "Ejercicio\n",
    "------------\n",
    "\n",
    "En el modelo de *Bacillus subtilis* define una varibale que mida la diferencia entre los flujos de consumo de glucosa y nh4_e. "
   ]
  },
  {
   "cell_type": "code",
   "execution_count": null,
   "metadata": {},
   "outputs": [],
   "source": []
  }
 ],
 "metadata": {
  "kernelspec": {
   "display_name": "Python 3",
   "language": "python",
   "name": "python3"
  },
  "language_info": {
   "codemirror_mode": {
    "name": "ipython",
    "version": 3
   },
   "file_extension": ".py",
   "mimetype": "text/x-python",
   "name": "python",
   "nbconvert_exporter": "python",
   "pygments_lexer": "ipython3",
   "version": "3.7.6"
  }
 },
 "nbformat": 4,
 "nbformat_minor": 4
}
